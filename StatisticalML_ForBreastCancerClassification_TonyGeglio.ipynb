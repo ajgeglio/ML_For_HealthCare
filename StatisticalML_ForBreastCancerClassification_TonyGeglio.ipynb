{
 "cells": [
  {
   "attachments": {},
   "cell_type": "markdown",
   "metadata": {},
   "source": [
    "# Statistical ML for Breast Cancer Classification\n",
    "### Tony Geglio\n",
    "SAT5114\n",
    "\n",
    "Github Link: https://github.com/ajgeglio/ML_For_HealthCare/upload/main"
   ]
  },
  {
   "attachments": {},
   "cell_type": "markdown",
   "metadata": {},
   "source": [
    "Requirements:\n",
    "\n",
    "1. use a k-fold cross-validation and a test dataset. Report the final performance for the test dataset.\n",
    "\n",
    "2. use gridsearch or randomsearch to tune the hyperparameters in your ML classifier;\n",
    "\n",
    "3. use GitHub to share your code. Make your GitHub project public.\n",
    "\n",
    "Options: Teamwork is allowed for this project. However, each team should have at maximum 3 members. Every team member should use a different ML classifier. In your submitted PDF file, please list your team members and your own contribution if you work in a team.\n",
    "\n",
    "Submission: 1.  one-page PDF file to explain your program, including GitHub code link to your implementation; 2. Screenshot of your results (showing accuracy, sensitivity (precision), and specificity)."
   ]
  },
  {
   "cell_type": "markdown",
   "metadata": {},
   "source": [
    "Example from: https://www.datacamp.com/tutorial/svm-classification-scikit-learn-python"
   ]
  },
  {
   "cell_type": "markdown",
   "metadata": {},
   "source": [
    "Let's first load the required dataset you will use."
   ]
  },
  {
   "cell_type": "code",
   "execution_count": 27,
   "metadata": {},
   "outputs": [],
   "source": [
    "#Import models\n",
    "from sklearn.linear_model import LogisticRegression\n",
    "from sklearn.model_selection import RandomizedSearchCV\n",
    "from sklearn.ensemble import GradientBoostingClassifier\n",
    "from sklearn.tree import DecisionTreeClassifier\n",
    "from sklearn.naive_bayes import GaussianNB\n",
    "from sklearn import svm\n",
    "# model selection and metrics\n",
    "from sklearn.model_selection import GridSearchCV\n",
    "from sklearn import metrics\n",
    "from sklearn.metrics import make_scorer, roc_auc_score\n",
    "from sklearn.model_selection import train_test_split\n",
    "# Import scikit-learn dataset library\n",
    "from sklearn import datasets\n",
    "# keep track of times\n",
    "import time\n",
    "import matplotlib.pyplot as plt\n",
    "import numpy as np\n"
   ]
  },
  {
   "cell_type": "markdown",
   "metadata": {},
   "source": [
    "Exploring Data\n",
    "\n",
    "After you have loaded the dataset, you might want to know a little bit more about it. You can check feature and target names."
   ]
  },
  {
   "cell_type": "code",
   "execution_count": 28,
   "metadata": {},
   "outputs": [
    {
     "name": "stdout",
     "output_type": "stream",
     "text": [
      "Features:  ['mean radius' 'mean texture' 'mean perimeter' 'mean area'\n",
      " 'mean smoothness' 'mean compactness' 'mean concavity'\n",
      " 'mean concave points' 'mean symmetry' 'mean fractal dimension'\n",
      " 'radius error' 'texture error' 'perimeter error' 'area error'\n",
      " 'smoothness error' 'compactness error' 'concavity error'\n",
      " 'concave points error' 'symmetry error' 'fractal dimension error'\n",
      " 'worst radius' 'worst texture' 'worst perimeter' 'worst area'\n",
      " 'worst smoothness' 'worst compactness' 'worst concavity'\n",
      " 'worst concave points' 'worst symmetry' 'worst fractal dimension']\n",
      "Labels:  ['malignant' 'benign']\n"
     ]
    }
   ],
   "source": [
    "#Load dataset\n",
    "cancer = datasets.load_breast_cancer()\n",
    "# print the names of the 13 features\n",
    "print(\"Features: \", cancer.feature_names)\n",
    "\n",
    "# print the label type of cancer('malignant' 'benign')\n",
    "print(\"Labels: \", cancer.target_names)"
   ]
  },
  {
   "cell_type": "markdown",
   "metadata": {},
   "source": [
    "Splitting Data\n",
    "\n",
    "To understand model performance, dividing the dataset into a training set and a test set is a good strategy.\n",
    "\n",
    "Split the dataset by using the function train_test_split(). you need to pass 3 parameters features, target, and test_set size. Additionally, you can use random_state to select records randomly."
   ]
  },
  {
   "cell_type": "code",
   "execution_count": 29,
   "metadata": {},
   "outputs": [],
   "source": [
    "# Split dataset into training set and test set\n",
    "X_train, X_test, y_train, y_test = train_test_split(cancer.data, cancer.target, test_size=0.3,random_state=109) # 70% training and 30% test"
   ]
  },
  {
   "attachments": {},
   "cell_type": "markdown",
   "metadata": {},
   "source": [
    "### Generating SVM Model (example)\n",
    "\n",
    "Let's build support vector machine model. First, import the SVM module and create support vector classifier object by passing argument kernel as the linear kernel in SVC() function.\n",
    "\n",
    "Then, fit your model on train set using fit() and perform prediction on the test set using predict()."
   ]
  },
  {
   "cell_type": "code",
   "execution_count": 30,
   "metadata": {},
   "outputs": [
    {
     "name": "stdout",
     "output_type": "stream",
     "text": [
      "Accuracy: 0.9649122807017544\n",
      "Precision: 0.9811320754716981\n",
      "Recall: 0.9629629629629629\n"
     ]
    }
   ],
   "source": [
    "# Supplied example\n",
    "\n",
    "#Create a svm Classifier\n",
    "clf = svm.SVC(kernel='linear') # Linear Kernel\n",
    "\n",
    "#Train the model using the training sets\n",
    "clf.fit(X_train, y_train)\n",
    "\n",
    "#Predict the response for test dataset\n",
    "y_pred = clf.predict(X_test)\n",
    "# Model Accuracy: how often is the classifier correct?\n",
    "print(\"Accuracy:\",metrics.accuracy_score(y_test, y_pred))\n",
    "# Model Precision: what percentage of positive tuples are labeled as such?\n",
    "print(\"Precision:\",metrics.precision_score(y_test, y_pred))\n",
    "# Model Recall: what percentage of positive tuples are labelled as such?\n",
    "print(\"Recall:\",metrics.recall_score(y_test, y_pred))"
   ]
  },
  {
   "cell_type": "markdown",
   "metadata": {},
   "source": [
    "Well, you got a classification rate of 96.49%, considered as very good accuracy.\n",
    "\n",
    "For further evaluation, you can also check precision and recall of model."
   ]
  },
  {
   "attachments": {},
   "cell_type": "markdown",
   "metadata": {},
   "source": [
    "## Performance report functions \n",
    "### Adapted from ml4covid.py"
   ]
  },
  {
   "cell_type": "code",
   "execution_count": 31,
   "metadata": {},
   "outputs": [],
   "source": [
    "def calc_specificity(y_actual, y_pred, thresh=0.5):\n",
    "    # calculates specificity\n",
    "    return sum((y_pred < thresh) & (y_actual == 0)) / sum(y_actual == 0)\n",
    "\n",
    "def print_report(y_actual, y_pred, thresh):\n",
    "    auc = roc_auc_score(y_actual, y_pred)\n",
    "    accuracy = metrics.accuracy_score(y_actual, (y_pred > thresh))\n",
    "    recall = metrics.recall_score(y_actual, (y_pred > thresh))\n",
    "    precision = metrics.precision_score(y_actual, (y_pred > thresh))\n",
    "    specificity = calc_specificity(y_actual, y_pred, thresh)\n",
    "    print('AUC:%.3f' % auc)\n",
    "    print('accuracy:%.3f' % accuracy)\n",
    "    print('recall:%.3f' % recall)\n",
    "    print('precision:%.3f' % precision)\n",
    "    print('specificity:%.3f' % specificity)\n",
    "    print(' ')\n",
    "    return auc, accuracy, recall, precision, specificity\n",
    "\n",
    "def report_performance(clf, X_train, X_test, y_train, y_test, thresh=0.5, clf_name=\"CLF\"):\n",
    "    print(\"[x] performance for {} classifier\".format(clf_name))\n",
    "    y_train_preds = clf.predict_proba(X_train)[:, 1]\n",
    "    y_test_preds = clf.predict_proba(X_test)[:, 1]\n",
    "    print('Training:')\n",
    "    train_auc, train_accuracy, train_recall, train_precision, train_specificity = print_report(y_train, y_train_preds,\n",
    "                                                                                               thresh)\n",
    "    print('Test:')\n",
    "    test_auc, test_accuracy, test_recall, test_precision, test_specificity = print_report(y_test, y_test_preds, thresh)\n",
    "    return {\"train\": {\"auc\": train_auc, \"acc\": train_accuracy, \"recall\": train_recall, \"precision\": train_precision,\n",
    "                      \"specificity\": train_specificity},\n",
    "            \"test\": {\"auc\": test_auc, \"acc\": test_accuracy, \"recall\": test_recall, \"precision\": test_precision,\n",
    "                     \"specificity\": test_specificity}}"
   ]
  },
  {
   "attachments": {},
   "cell_type": "markdown",
   "metadata": {},
   "source": [
    "## SVM Model\n",
    "### Code adapted from ml4covid19.py\n",
    "#### Best Model performance\n",
    "\n",
    "SVC(C=0.1, gamma=0.1, kernel='linear', max_iter=1000000, probability=True)\n",
    "{'C': 0.1, 'gamma': 0.1, 'kernel': 'linear'}\\\n",
    "[x] performance for SVM classifier\\\n",
    "Training:\\\n",
    "AUC:0.991\\\n",
    "accuracy:0.955\\\n",
    "recall:0.980\\\n",
    "precision:0.949\\\n",
    "specificity:0.913\n",
    " \n",
    "Test:\\\n",
    "AUC:0.997\\\n",
    "accuracy:0.959\\\n",
    "recall:0.972\\\n",
    "precision:0.963\\\n",
    "specificity:0.937"
   ]
  },
  {
   "cell_type": "code",
   "execution_count": 7,
   "metadata": {},
   "outputs": [
    {
     "name": "stderr",
     "output_type": "stream",
     "text": [
      "c:\\Users\\Anthony.Geglio\\AppData\\Local\\Programs\\Python\\Python39\\lib\\site-packages\\sklearn\\svm\\_base.py:299: ConvergenceWarning: Solver terminated early (max_iter=1000000).  Consider pre-processing your data with StandardScaler or MinMaxScaler.\n",
      "  warnings.warn(\n",
      "c:\\Users\\Anthony.Geglio\\AppData\\Local\\Programs\\Python\\Python39\\lib\\site-packages\\sklearn\\svm\\_base.py:299: ConvergenceWarning: Solver terminated early (max_iter=1000000).  Consider pre-processing your data with StandardScaler or MinMaxScaler.\n",
      "  warnings.warn(\n",
      "c:\\Users\\Anthony.Geglio\\AppData\\Local\\Programs\\Python\\Python39\\lib\\site-packages\\sklearn\\svm\\_base.py:299: ConvergenceWarning: Solver terminated early (max_iter=1000000).  Consider pre-processing your data with StandardScaler or MinMaxScaler.\n",
      "  warnings.warn(\n",
      "c:\\Users\\Anthony.Geglio\\AppData\\Local\\Programs\\Python\\Python39\\lib\\site-packages\\sklearn\\svm\\_base.py:299: ConvergenceWarning: Solver terminated early (max_iter=1000000).  Consider pre-processing your data with StandardScaler or MinMaxScaler.\n",
      "  warnings.warn(\n",
      "c:\\Users\\Anthony.Geglio\\AppData\\Local\\Programs\\Python\\Python39\\lib\\site-packages\\sklearn\\svm\\_base.py:299: ConvergenceWarning: Solver terminated early (max_iter=1000000).  Consider pre-processing your data with StandardScaler or MinMaxScaler.\n",
      "  warnings.warn(\n",
      "c:\\Users\\Anthony.Geglio\\AppData\\Local\\Programs\\Python\\Python39\\lib\\site-packages\\sklearn\\svm\\_base.py:299: ConvergenceWarning: Solver terminated early (max_iter=1000000).  Consider pre-processing your data with StandardScaler or MinMaxScaler.\n",
      "  warnings.warn(\n",
      "c:\\Users\\Anthony.Geglio\\AppData\\Local\\Programs\\Python\\Python39\\lib\\site-packages\\sklearn\\svm\\_base.py:299: ConvergenceWarning: Solver terminated early (max_iter=1000000).  Consider pre-processing your data with StandardScaler or MinMaxScaler.\n",
      "  warnings.warn(\n",
      "c:\\Users\\Anthony.Geglio\\AppData\\Local\\Programs\\Python\\Python39\\lib\\site-packages\\sklearn\\svm\\_base.py:299: ConvergenceWarning: Solver terminated early (max_iter=1000000).  Consider pre-processing your data with StandardScaler or MinMaxScaler.\n",
      "  warnings.warn(\n",
      "c:\\Users\\Anthony.Geglio\\AppData\\Local\\Programs\\Python\\Python39\\lib\\site-packages\\sklearn\\svm\\_base.py:299: ConvergenceWarning: Solver terminated early (max_iter=1000000).  Consider pre-processing your data with StandardScaler or MinMaxScaler.\n",
      "  warnings.warn(\n",
      "c:\\Users\\Anthony.Geglio\\AppData\\Local\\Programs\\Python\\Python39\\lib\\site-packages\\sklearn\\svm\\_base.py:299: ConvergenceWarning: Solver terminated early (max_iter=1000000).  Consider pre-processing your data with StandardScaler or MinMaxScaler.\n",
      "  warnings.warn(\n",
      "c:\\Users\\Anthony.Geglio\\AppData\\Local\\Programs\\Python\\Python39\\lib\\site-packages\\sklearn\\svm\\_base.py:299: ConvergenceWarning: Solver terminated early (max_iter=1000000).  Consider pre-processing your data with StandardScaler or MinMaxScaler.\n",
      "  warnings.warn(\n",
      "c:\\Users\\Anthony.Geglio\\AppData\\Local\\Programs\\Python\\Python39\\lib\\site-packages\\sklearn\\svm\\_base.py:299: ConvergenceWarning: Solver terminated early (max_iter=1000000).  Consider pre-processing your data with StandardScaler or MinMaxScaler.\n",
      "  warnings.warn(\n",
      "c:\\Users\\Anthony.Geglio\\AppData\\Local\\Programs\\Python\\Python39\\lib\\site-packages\\sklearn\\svm\\_base.py:299: ConvergenceWarning: Solver terminated early (max_iter=1000000).  Consider pre-processing your data with StandardScaler or MinMaxScaler.\n",
      "  warnings.warn(\n",
      "c:\\Users\\Anthony.Geglio\\AppData\\Local\\Programs\\Python\\Python39\\lib\\site-packages\\sklearn\\svm\\_base.py:299: ConvergenceWarning: Solver terminated early (max_iter=1000000).  Consider pre-processing your data with StandardScaler or MinMaxScaler.\n",
      "  warnings.warn(\n",
      "c:\\Users\\Anthony.Geglio\\AppData\\Local\\Programs\\Python\\Python39\\lib\\site-packages\\sklearn\\svm\\_base.py:299: ConvergenceWarning: Solver terminated early (max_iter=1000000).  Consider pre-processing your data with StandardScaler or MinMaxScaler.\n",
      "  warnings.warn(\n",
      "c:\\Users\\Anthony.Geglio\\AppData\\Local\\Programs\\Python\\Python39\\lib\\site-packages\\sklearn\\svm\\_base.py:299: ConvergenceWarning: Solver terminated early (max_iter=1000000).  Consider pre-processing your data with StandardScaler or MinMaxScaler.\n",
      "  warnings.warn(\n",
      "c:\\Users\\Anthony.Geglio\\AppData\\Local\\Programs\\Python\\Python39\\lib\\site-packages\\sklearn\\svm\\_base.py:299: ConvergenceWarning: Solver terminated early (max_iter=1000000).  Consider pre-processing your data with StandardScaler or MinMaxScaler.\n",
      "  warnings.warn(\n",
      "c:\\Users\\Anthony.Geglio\\AppData\\Local\\Programs\\Python\\Python39\\lib\\site-packages\\sklearn\\svm\\_base.py:299: ConvergenceWarning: Solver terminated early (max_iter=1000000).  Consider pre-processing your data with StandardScaler or MinMaxScaler.\n",
      "  warnings.warn(\n",
      "c:\\Users\\Anthony.Geglio\\AppData\\Local\\Programs\\Python\\Python39\\lib\\site-packages\\sklearn\\svm\\_base.py:299: ConvergenceWarning: Solver terminated early (max_iter=1000000).  Consider pre-processing your data with StandardScaler or MinMaxScaler.\n",
      "  warnings.warn(\n",
      "c:\\Users\\Anthony.Geglio\\AppData\\Local\\Programs\\Python\\Python39\\lib\\site-packages\\sklearn\\svm\\_base.py:299: ConvergenceWarning: Solver terminated early (max_iter=1000000).  Consider pre-processing your data with StandardScaler or MinMaxScaler.\n",
      "  warnings.warn(\n",
      "c:\\Users\\Anthony.Geglio\\AppData\\Local\\Programs\\Python\\Python39\\lib\\site-packages\\sklearn\\svm\\_base.py:299: ConvergenceWarning: Solver terminated early (max_iter=1000000).  Consider pre-processing your data with StandardScaler or MinMaxScaler.\n",
      "  warnings.warn(\n",
      "c:\\Users\\Anthony.Geglio\\AppData\\Local\\Programs\\Python\\Python39\\lib\\site-packages\\sklearn\\svm\\_base.py:299: ConvergenceWarning: Solver terminated early (max_iter=1000000).  Consider pre-processing your data with StandardScaler or MinMaxScaler.\n",
      "  warnings.warn(\n",
      "c:\\Users\\Anthony.Geglio\\AppData\\Local\\Programs\\Python\\Python39\\lib\\site-packages\\sklearn\\svm\\_base.py:299: ConvergenceWarning: Solver terminated early (max_iter=1000000).  Consider pre-processing your data with StandardScaler or MinMaxScaler.\n",
      "  warnings.warn(\n",
      "c:\\Users\\Anthony.Geglio\\AppData\\Local\\Programs\\Python\\Python39\\lib\\site-packages\\sklearn\\svm\\_base.py:299: ConvergenceWarning: Solver terminated early (max_iter=1000000).  Consider pre-processing your data with StandardScaler or MinMaxScaler.\n",
      "  warnings.warn(\n",
      "c:\\Users\\Anthony.Geglio\\AppData\\Local\\Programs\\Python\\Python39\\lib\\site-packages\\sklearn\\svm\\_base.py:299: ConvergenceWarning: Solver terminated early (max_iter=1000000).  Consider pre-processing your data with StandardScaler or MinMaxScaler.\n",
      "  warnings.warn(\n",
      "c:\\Users\\Anthony.Geglio\\AppData\\Local\\Programs\\Python\\Python39\\lib\\site-packages\\sklearn\\svm\\_base.py:299: ConvergenceWarning: Solver terminated early (max_iter=1000000).  Consider pre-processing your data with StandardScaler or MinMaxScaler.\n",
      "  warnings.warn(\n"
     ]
    },
    {
     "name": "stdout",
     "output_type": "stream",
     "text": [
      "SVC(C=0.1, gamma=0.1, kernel='linear', max_iter=1000000, probability=True)\n",
      "{'C': 0.1, 'gamma': 0.1, 'kernel': 'linear'}\n",
      "[x] performance for SVM classifier\n",
      "Training:\n",
      "AUC:0.991\n",
      "accuracy:0.955\n",
      "recall:0.976\n",
      "precision:0.953\n",
      "specificity:0.919\n",
      " \n",
      "Test:\n",
      "AUC:0.997\n",
      "accuracy:0.971\n",
      "recall:0.972\n",
      "precision:0.981\n",
      "specificity:0.968\n",
      " \n"
     ]
    },
    {
     "name": "stderr",
     "output_type": "stream",
     "text": [
      "c:\\Users\\Anthony.Geglio\\AppData\\Local\\Programs\\Python\\Python39\\lib\\site-packages\\sklearn\\svm\\_base.py:299: ConvergenceWarning: Solver terminated early (max_iter=1000000).  Consider pre-processing your data with StandardScaler or MinMaxScaler.\n",
      "  warnings.warn(\n"
     ]
    }
   ],
   "source": [
    "def train_svm(X_train, X_test, y_train, y_test, n_split=5):\n",
    "    svc = svm.SVC(probability=True, max_iter=1000000)\n",
    "    parameters = {'C': [1e-2, 1e-1, 1, 10],\n",
    "                  'gamma': [0.1, 0.01],\n",
    "                  'kernel': ['linear', 'rbf', 'sigmoid']}\n",
    "    # parameters = {'C': [1],\n",
    "    #               'gamma': [0.001],\n",
    "    #               'kernel': ['linear', 'rbf', 'sigmoid']}\n",
    "    auc_scoring = make_scorer(roc_auc_score)\n",
    "    if n_split == 1:\n",
    "        grid_clf = GridSearchCV(estimator=svc, param_grid=parameters, cv=[(slice(None), slice(None))],\n",
    "                                scoring=auc_scoring, verbose=0)\n",
    "    else:\n",
    "        grid_clf = GridSearchCV(estimator=svc, param_grid=parameters, cv=n_split, scoring=auc_scoring, verbose=0)\n",
    "    grid_clf.fit(X_train, y_train)\n",
    "\n",
    "    print(grid_clf.best_estimator_)\n",
    "    print(grid_clf.best_params_)\n",
    "    performance_ = report_performance(grid_clf.best_estimator_, X_train, X_test, y_train, y_test, clf_name=\"SVM\")\n",
    "    return grid_clf.best_estimator_, grid_clf.best_params_, performance_\n",
    "best_estimator_, best_params_, svm_performance_ = train_svm(X_train, X_test, y_train, y_test, n_split=5)"
   ]
  },
  {
   "attachments": {},
   "cell_type": "markdown",
   "metadata": {},
   "source": [
    "## Logistic Regression Model\n",
    "### Code adapted from ml4covid.py\n",
    "#### Best Model Results\n",
    "LogisticRegression(C=1000, random_state=42)\n",
    "{'C': 1000, 'penalty': 'l2'}\n",
    "[x] performance for LR classifier\n",
    "\n",
    "Training:\\\n",
    "AUC:0.989\\\n",
    "accuracy:0.950\\\n",
    "recall:0.972\\\n",
    "precision:0.949\\\n",
    "specificity:0.913\n",
    " \n",
    "Test:\\\n",
    "AUC:0.992\\\n",
    "accuracy:0.947\\\n",
    "recall:0.954\\\n",
    "precision:0.963\\\n",
    "specificity:0.937"
   ]
  },
  {
   "cell_type": "code",
   "execution_count": 8,
   "metadata": {},
   "outputs": [
    {
     "name": "stderr",
     "output_type": "stream",
     "text": [
      "c:\\Users\\Anthony.Geglio\\AppData\\Local\\Programs\\Python\\Python39\\lib\\site-packages\\sklearn\\linear_model\\_logistic.py:458: ConvergenceWarning: lbfgs failed to converge (status=1):\n",
      "STOP: TOTAL NO. of ITERATIONS REACHED LIMIT.\n",
      "\n",
      "Increase the number of iterations (max_iter) or scale the data as shown in:\n",
      "    https://scikit-learn.org/stable/modules/preprocessing.html\n",
      "Please also refer to the documentation for alternative solver options:\n",
      "    https://scikit-learn.org/stable/modules/linear_model.html#logistic-regression\n",
      "  n_iter_i = _check_optimize_result(\n"
     ]
    },
    {
     "name": "stdout",
     "output_type": "stream",
     "text": [
      "Fitting 5 folds for each of 15 candidates, totalling 75 fits\n"
     ]
    },
    {
     "name": "stderr",
     "output_type": "stream",
     "text": [
      "c:\\Users\\Anthony.Geglio\\AppData\\Local\\Programs\\Python\\Python39\\lib\\site-packages\\sklearn\\linear_model\\_logistic.py:458: ConvergenceWarning: lbfgs failed to converge (status=1):\n",
      "STOP: TOTAL NO. of ITERATIONS REACHED LIMIT.\n",
      "\n",
      "Increase the number of iterations (max_iter) or scale the data as shown in:\n",
      "    https://scikit-learn.org/stable/modules/preprocessing.html\n",
      "Please also refer to the documentation for alternative solver options:\n",
      "    https://scikit-learn.org/stable/modules/linear_model.html#logistic-regression\n",
      "  n_iter_i = _check_optimize_result(\n",
      "c:\\Users\\Anthony.Geglio\\AppData\\Local\\Programs\\Python\\Python39\\lib\\site-packages\\sklearn\\linear_model\\_logistic.py:458: ConvergenceWarning: lbfgs failed to converge (status=1):\n",
      "STOP: TOTAL NO. of ITERATIONS REACHED LIMIT.\n",
      "\n",
      "Increase the number of iterations (max_iter) or scale the data as shown in:\n",
      "    https://scikit-learn.org/stable/modules/preprocessing.html\n",
      "Please also refer to the documentation for alternative solver options:\n",
      "    https://scikit-learn.org/stable/modules/linear_model.html#logistic-regression\n",
      "  n_iter_i = _check_optimize_result(\n",
      "c:\\Users\\Anthony.Geglio\\AppData\\Local\\Programs\\Python\\Python39\\lib\\site-packages\\sklearn\\linear_model\\_logistic.py:458: ConvergenceWarning: lbfgs failed to converge (status=1):\n",
      "STOP: TOTAL NO. of ITERATIONS REACHED LIMIT.\n",
      "\n",
      "Increase the number of iterations (max_iter) or scale the data as shown in:\n",
      "    https://scikit-learn.org/stable/modules/preprocessing.html\n",
      "Please also refer to the documentation for alternative solver options:\n",
      "    https://scikit-learn.org/stable/modules/linear_model.html#logistic-regression\n",
      "  n_iter_i = _check_optimize_result(\n",
      "c:\\Users\\Anthony.Geglio\\AppData\\Local\\Programs\\Python\\Python39\\lib\\site-packages\\sklearn\\linear_model\\_logistic.py:458: ConvergenceWarning: lbfgs failed to converge (status=1):\n",
      "STOP: TOTAL NO. of ITERATIONS REACHED LIMIT.\n",
      "\n",
      "Increase the number of iterations (max_iter) or scale the data as shown in:\n",
      "    https://scikit-learn.org/stable/modules/preprocessing.html\n",
      "Please also refer to the documentation for alternative solver options:\n",
      "    https://scikit-learn.org/stable/modules/linear_model.html#logistic-regression\n",
      "  n_iter_i = _check_optimize_result(\n",
      "c:\\Users\\Anthony.Geglio\\AppData\\Local\\Programs\\Python\\Python39\\lib\\site-packages\\sklearn\\linear_model\\_logistic.py:458: ConvergenceWarning: lbfgs failed to converge (status=1):\n",
      "STOP: TOTAL NO. of ITERATIONS REACHED LIMIT.\n",
      "\n",
      "Increase the number of iterations (max_iter) or scale the data as shown in:\n",
      "    https://scikit-learn.org/stable/modules/preprocessing.html\n",
      "Please also refer to the documentation for alternative solver options:\n",
      "    https://scikit-learn.org/stable/modules/linear_model.html#logistic-regression\n",
      "  n_iter_i = _check_optimize_result(\n",
      "c:\\Users\\Anthony.Geglio\\AppData\\Local\\Programs\\Python\\Python39\\lib\\site-packages\\sklearn\\linear_model\\_logistic.py:458: ConvergenceWarning: lbfgs failed to converge (status=1):\n",
      "STOP: TOTAL NO. of ITERATIONS REACHED LIMIT.\n",
      "\n",
      "Increase the number of iterations (max_iter) or scale the data as shown in:\n",
      "    https://scikit-learn.org/stable/modules/preprocessing.html\n",
      "Please also refer to the documentation for alternative solver options:\n",
      "    https://scikit-learn.org/stable/modules/linear_model.html#logistic-regression\n",
      "  n_iter_i = _check_optimize_result(\n",
      "c:\\Users\\Anthony.Geglio\\AppData\\Local\\Programs\\Python\\Python39\\lib\\site-packages\\sklearn\\linear_model\\_logistic.py:458: ConvergenceWarning: lbfgs failed to converge (status=1):\n",
      "STOP: TOTAL NO. of ITERATIONS REACHED LIMIT.\n",
      "\n",
      "Increase the number of iterations (max_iter) or scale the data as shown in:\n",
      "    https://scikit-learn.org/stable/modules/preprocessing.html\n",
      "Please also refer to the documentation for alternative solver options:\n",
      "    https://scikit-learn.org/stable/modules/linear_model.html#logistic-regression\n",
      "  n_iter_i = _check_optimize_result(\n",
      "c:\\Users\\Anthony.Geglio\\AppData\\Local\\Programs\\Python\\Python39\\lib\\site-packages\\sklearn\\linear_model\\_logistic.py:458: ConvergenceWarning: lbfgs failed to converge (status=1):\n",
      "STOP: TOTAL NO. of ITERATIONS REACHED LIMIT.\n",
      "\n",
      "Increase the number of iterations (max_iter) or scale the data as shown in:\n",
      "    https://scikit-learn.org/stable/modules/preprocessing.html\n",
      "Please also refer to the documentation for alternative solver options:\n",
      "    https://scikit-learn.org/stable/modules/linear_model.html#logistic-regression\n",
      "  n_iter_i = _check_optimize_result(\n",
      "c:\\Users\\Anthony.Geglio\\AppData\\Local\\Programs\\Python\\Python39\\lib\\site-packages\\sklearn\\linear_model\\_logistic.py:458: ConvergenceWarning: lbfgs failed to converge (status=1):\n",
      "STOP: TOTAL NO. of ITERATIONS REACHED LIMIT.\n",
      "\n",
      "Increase the number of iterations (max_iter) or scale the data as shown in:\n",
      "    https://scikit-learn.org/stable/modules/preprocessing.html\n",
      "Please also refer to the documentation for alternative solver options:\n",
      "    https://scikit-learn.org/stable/modules/linear_model.html#logistic-regression\n",
      "  n_iter_i = _check_optimize_result(\n",
      "c:\\Users\\Anthony.Geglio\\AppData\\Local\\Programs\\Python\\Python39\\lib\\site-packages\\sklearn\\linear_model\\_logistic.py:458: ConvergenceWarning: lbfgs failed to converge (status=1):\n",
      "STOP: TOTAL NO. of ITERATIONS REACHED LIMIT.\n",
      "\n",
      "Increase the number of iterations (max_iter) or scale the data as shown in:\n",
      "    https://scikit-learn.org/stable/modules/preprocessing.html\n",
      "Please also refer to the documentation for alternative solver options:\n",
      "    https://scikit-learn.org/stable/modules/linear_model.html#logistic-regression\n",
      "  n_iter_i = _check_optimize_result(\n",
      "c:\\Users\\Anthony.Geglio\\AppData\\Local\\Programs\\Python\\Python39\\lib\\site-packages\\sklearn\\linear_model\\_logistic.py:458: ConvergenceWarning: lbfgs failed to converge (status=1):\n",
      "STOP: TOTAL NO. of ITERATIONS REACHED LIMIT.\n",
      "\n",
      "Increase the number of iterations (max_iter) or scale the data as shown in:\n",
      "    https://scikit-learn.org/stable/modules/preprocessing.html\n",
      "Please also refer to the documentation for alternative solver options:\n",
      "    https://scikit-learn.org/stable/modules/linear_model.html#logistic-regression\n",
      "  n_iter_i = _check_optimize_result(\n",
      "c:\\Users\\Anthony.Geglio\\AppData\\Local\\Programs\\Python\\Python39\\lib\\site-packages\\sklearn\\linear_model\\_logistic.py:458: ConvergenceWarning: lbfgs failed to converge (status=1):\n",
      "STOP: TOTAL NO. of ITERATIONS REACHED LIMIT.\n",
      "\n",
      "Increase the number of iterations (max_iter) or scale the data as shown in:\n",
      "    https://scikit-learn.org/stable/modules/preprocessing.html\n",
      "Please also refer to the documentation for alternative solver options:\n",
      "    https://scikit-learn.org/stable/modules/linear_model.html#logistic-regression\n",
      "  n_iter_i = _check_optimize_result(\n",
      "c:\\Users\\Anthony.Geglio\\AppData\\Local\\Programs\\Python\\Python39\\lib\\site-packages\\sklearn\\linear_model\\_logistic.py:458: ConvergenceWarning: lbfgs failed to converge (status=1):\n",
      "STOP: TOTAL NO. of ITERATIONS REACHED LIMIT.\n",
      "\n",
      "Increase the number of iterations (max_iter) or scale the data as shown in:\n",
      "    https://scikit-learn.org/stable/modules/preprocessing.html\n",
      "Please also refer to the documentation for alternative solver options:\n",
      "    https://scikit-learn.org/stable/modules/linear_model.html#logistic-regression\n",
      "  n_iter_i = _check_optimize_result(\n",
      "c:\\Users\\Anthony.Geglio\\AppData\\Local\\Programs\\Python\\Python39\\lib\\site-packages\\sklearn\\linear_model\\_logistic.py:458: ConvergenceWarning: lbfgs failed to converge (status=1):\n",
      "STOP: TOTAL NO. of ITERATIONS REACHED LIMIT.\n",
      "\n",
      "Increase the number of iterations (max_iter) or scale the data as shown in:\n",
      "    https://scikit-learn.org/stable/modules/preprocessing.html\n",
      "Please also refer to the documentation for alternative solver options:\n",
      "    https://scikit-learn.org/stable/modules/linear_model.html#logistic-regression\n",
      "  n_iter_i = _check_optimize_result(\n",
      "c:\\Users\\Anthony.Geglio\\AppData\\Local\\Programs\\Python\\Python39\\lib\\site-packages\\sklearn\\linear_model\\_logistic.py:458: ConvergenceWarning: lbfgs failed to converge (status=1):\n",
      "STOP: TOTAL NO. of ITERATIONS REACHED LIMIT.\n",
      "\n",
      "Increase the number of iterations (max_iter) or scale the data as shown in:\n",
      "    https://scikit-learn.org/stable/modules/preprocessing.html\n",
      "Please also refer to the documentation for alternative solver options:\n",
      "    https://scikit-learn.org/stable/modules/linear_model.html#logistic-regression\n",
      "  n_iter_i = _check_optimize_result(\n",
      "c:\\Users\\Anthony.Geglio\\AppData\\Local\\Programs\\Python\\Python39\\lib\\site-packages\\sklearn\\linear_model\\_logistic.py:458: ConvergenceWarning: lbfgs failed to converge (status=1):\n",
      "STOP: TOTAL NO. of ITERATIONS REACHED LIMIT.\n",
      "\n",
      "Increase the number of iterations (max_iter) or scale the data as shown in:\n",
      "    https://scikit-learn.org/stable/modules/preprocessing.html\n",
      "Please also refer to the documentation for alternative solver options:\n",
      "    https://scikit-learn.org/stable/modules/linear_model.html#logistic-regression\n",
      "  n_iter_i = _check_optimize_result(\n",
      "c:\\Users\\Anthony.Geglio\\AppData\\Local\\Programs\\Python\\Python39\\lib\\site-packages\\sklearn\\linear_model\\_logistic.py:458: ConvergenceWarning: lbfgs failed to converge (status=1):\n",
      "STOP: TOTAL NO. of ITERATIONS REACHED LIMIT.\n",
      "\n",
      "Increase the number of iterations (max_iter) or scale the data as shown in:\n",
      "    https://scikit-learn.org/stable/modules/preprocessing.html\n",
      "Please also refer to the documentation for alternative solver options:\n",
      "    https://scikit-learn.org/stable/modules/linear_model.html#logistic-regression\n",
      "  n_iter_i = _check_optimize_result(\n",
      "c:\\Users\\Anthony.Geglio\\AppData\\Local\\Programs\\Python\\Python39\\lib\\site-packages\\sklearn\\linear_model\\_logistic.py:458: ConvergenceWarning: lbfgs failed to converge (status=1):\n",
      "STOP: TOTAL NO. of ITERATIONS REACHED LIMIT.\n",
      "\n",
      "Increase the number of iterations (max_iter) or scale the data as shown in:\n",
      "    https://scikit-learn.org/stable/modules/preprocessing.html\n",
      "Please also refer to the documentation for alternative solver options:\n",
      "    https://scikit-learn.org/stable/modules/linear_model.html#logistic-regression\n",
      "  n_iter_i = _check_optimize_result(\n",
      "c:\\Users\\Anthony.Geglio\\AppData\\Local\\Programs\\Python\\Python39\\lib\\site-packages\\sklearn\\linear_model\\_logistic.py:458: ConvergenceWarning: lbfgs failed to converge (status=1):\n",
      "STOP: TOTAL NO. of ITERATIONS REACHED LIMIT.\n",
      "\n",
      "Increase the number of iterations (max_iter) or scale the data as shown in:\n",
      "    https://scikit-learn.org/stable/modules/preprocessing.html\n",
      "Please also refer to the documentation for alternative solver options:\n",
      "    https://scikit-learn.org/stable/modules/linear_model.html#logistic-regression\n",
      "  n_iter_i = _check_optimize_result(\n",
      "c:\\Users\\Anthony.Geglio\\AppData\\Local\\Programs\\Python\\Python39\\lib\\site-packages\\sklearn\\linear_model\\_logistic.py:458: ConvergenceWarning: lbfgs failed to converge (status=1):\n",
      "STOP: TOTAL NO. of ITERATIONS REACHED LIMIT.\n",
      "\n",
      "Increase the number of iterations (max_iter) or scale the data as shown in:\n",
      "    https://scikit-learn.org/stable/modules/preprocessing.html\n",
      "Please also refer to the documentation for alternative solver options:\n",
      "    https://scikit-learn.org/stable/modules/linear_model.html#logistic-regression\n",
      "  n_iter_i = _check_optimize_result(\n",
      "c:\\Users\\Anthony.Geglio\\AppData\\Local\\Programs\\Python\\Python39\\lib\\site-packages\\sklearn\\linear_model\\_logistic.py:458: ConvergenceWarning: lbfgs failed to converge (status=1):\n",
      "STOP: TOTAL NO. of ITERATIONS REACHED LIMIT.\n",
      "\n",
      "Increase the number of iterations (max_iter) or scale the data as shown in:\n",
      "    https://scikit-learn.org/stable/modules/preprocessing.html\n",
      "Please also refer to the documentation for alternative solver options:\n",
      "    https://scikit-learn.org/stable/modules/linear_model.html#logistic-regression\n",
      "  n_iter_i = _check_optimize_result(\n",
      "c:\\Users\\Anthony.Geglio\\AppData\\Local\\Programs\\Python\\Python39\\lib\\site-packages\\sklearn\\linear_model\\_logistic.py:458: ConvergenceWarning: lbfgs failed to converge (status=1):\n",
      "STOP: TOTAL NO. of ITERATIONS REACHED LIMIT.\n",
      "\n",
      "Increase the number of iterations (max_iter) or scale the data as shown in:\n",
      "    https://scikit-learn.org/stable/modules/preprocessing.html\n",
      "Please also refer to the documentation for alternative solver options:\n",
      "    https://scikit-learn.org/stable/modules/linear_model.html#logistic-regression\n",
      "  n_iter_i = _check_optimize_result(\n",
      "c:\\Users\\Anthony.Geglio\\AppData\\Local\\Programs\\Python\\Python39\\lib\\site-packages\\sklearn\\linear_model\\_logistic.py:458: ConvergenceWarning: lbfgs failed to converge (status=1):\n",
      "STOP: TOTAL NO. of ITERATIONS REACHED LIMIT.\n",
      "\n",
      "Increase the number of iterations (max_iter) or scale the data as shown in:\n",
      "    https://scikit-learn.org/stable/modules/preprocessing.html\n",
      "Please also refer to the documentation for alternative solver options:\n",
      "    https://scikit-learn.org/stable/modules/linear_model.html#logistic-regression\n",
      "  n_iter_i = _check_optimize_result(\n"
     ]
    },
    {
     "name": "stdout",
     "output_type": "stream",
     "text": [
      "LogisticRegression(C=1000, random_state=42)\n",
      "{'C': 1000, 'penalty': 'l2'}\n",
      "[x] performance for LR classifier\n",
      "Training:\n",
      "AUC:0.989\n",
      "accuracy:0.950\n",
      "recall:0.972\n",
      "precision:0.949\n",
      "specificity:0.913\n",
      " \n",
      "Test:\n",
      "AUC:0.992\n",
      "accuracy:0.947\n",
      "recall:0.954\n",
      "precision:0.963\n",
      "specificity:0.937\n",
      " \n"
     ]
    },
    {
     "name": "stderr",
     "output_type": "stream",
     "text": [
      "c:\\Users\\Anthony.Geglio\\AppData\\Local\\Programs\\Python\\Python39\\lib\\site-packages\\sklearn\\linear_model\\_logistic.py:458: ConvergenceWarning: lbfgs failed to converge (status=1):\n",
      "STOP: TOTAL NO. of ITERATIONS REACHED LIMIT.\n",
      "\n",
      "Increase the number of iterations (max_iter) or scale the data as shown in:\n",
      "    https://scikit-learn.org/stable/modules/preprocessing.html\n",
      "Please also refer to the documentation for alternative solver options:\n",
      "    https://scikit-learn.org/stable/modules/linear_model.html#logistic-regression\n",
      "  n_iter_i = _check_optimize_result(\n",
      "c:\\Users\\Anthony.Geglio\\AppData\\Local\\Programs\\Python\\Python39\\lib\\site-packages\\sklearn\\model_selection\\_validation.py:378: FitFailedWarning: \n",
      "50 fits failed out of a total of 75.\n",
      "The score on these train-test partitions for these parameters will be set to nan.\n",
      "If these failures are not expected, you can try to debug them by setting error_score='raise'.\n",
      "\n",
      "Below are more details about the failures:\n",
      "--------------------------------------------------------------------------------\n",
      "25 fits failed with the following error:\n",
      "Traceback (most recent call last):\n",
      "  File \"c:\\Users\\Anthony.Geglio\\AppData\\Local\\Programs\\Python\\Python39\\lib\\site-packages\\sklearn\\model_selection\\_validation.py\", line 686, in _fit_and_score\n",
      "    estimator.fit(X_train, y_train, **fit_params)\n",
      "  File \"c:\\Users\\Anthony.Geglio\\AppData\\Local\\Programs\\Python\\Python39\\lib\\site-packages\\sklearn\\linear_model\\_logistic.py\", line 1162, in fit\n",
      "    solver = _check_solver(self.solver, self.penalty, self.dual)\n",
      "  File \"c:\\Users\\Anthony.Geglio\\AppData\\Local\\Programs\\Python\\Python39\\lib\\site-packages\\sklearn\\linear_model\\_logistic.py\", line 54, in _check_solver\n",
      "    raise ValueError(\n",
      "ValueError: Solver lbfgs supports only 'l2' or 'none' penalties, got l1 penalty.\n",
      "\n",
      "--------------------------------------------------------------------------------\n",
      "25 fits failed with the following error:\n",
      "Traceback (most recent call last):\n",
      "  File \"c:\\Users\\Anthony.Geglio\\AppData\\Local\\Programs\\Python\\Python39\\lib\\site-packages\\sklearn\\model_selection\\_validation.py\", line 686, in _fit_and_score\n",
      "    estimator.fit(X_train, y_train, **fit_params)\n",
      "  File \"c:\\Users\\Anthony.Geglio\\AppData\\Local\\Programs\\Python\\Python39\\lib\\site-packages\\sklearn\\linear_model\\_logistic.py\", line 1162, in fit\n",
      "    solver = _check_solver(self.solver, self.penalty, self.dual)\n",
      "  File \"c:\\Users\\Anthony.Geglio\\AppData\\Local\\Programs\\Python\\Python39\\lib\\site-packages\\sklearn\\linear_model\\_logistic.py\", line 54, in _check_solver\n",
      "    raise ValueError(\n",
      "ValueError: Solver lbfgs supports only 'l2' or 'none' penalties, got elasticnet penalty.\n",
      "\n",
      "  warnings.warn(some_fits_failed_message, FitFailedWarning)\n",
      "c:\\Users\\Anthony.Geglio\\AppData\\Local\\Programs\\Python\\Python39\\lib\\site-packages\\sklearn\\model_selection\\_search.py:953: UserWarning: One or more of the test scores are non-finite: [       nan 0.92110345        nan        nan 0.91577011        nan\n",
      "        nan 0.91988506        nan        nan 0.92188506        nan\n",
      "        nan 0.92377011        nan]\n",
      "  warnings.warn(\n",
      "c:\\Users\\Anthony.Geglio\\AppData\\Local\\Programs\\Python\\Python39\\lib\\site-packages\\sklearn\\linear_model\\_logistic.py:458: ConvergenceWarning: lbfgs failed to converge (status=1):\n",
      "STOP: TOTAL NO. of ITERATIONS REACHED LIMIT.\n",
      "\n",
      "Increase the number of iterations (max_iter) or scale the data as shown in:\n",
      "    https://scikit-learn.org/stable/modules/preprocessing.html\n",
      "Please also refer to the documentation for alternative solver options:\n",
      "    https://scikit-learn.org/stable/modules/linear_model.html#logistic-regression\n",
      "  n_iter_i = _check_optimize_result(\n"
     ]
    }
   ],
   "source": [
    "def train_lr(X_train, X_test, y_train, y_test, n_split=5):\n",
    "    lr = LogisticRegression(random_state=42)\n",
    "    parameters = {'C': [1e-1, 1, 10, 100, 1000],\n",
    "                  'penalty': [\"l1\", \"l2\", \"elasticnet\"]}\n",
    "    auc_scoring = make_scorer(roc_auc_score)\n",
    "    if n_split == 1:\n",
    "        grid_clf = GridSearchCV(estimator=lr, param_grid=parameters, cv=[(slice(None), slice(None))],\n",
    "                                scoring=auc_scoring, verbose=1)\n",
    "    else:\n",
    "        grid_clf = GridSearchCV(estimator=lr, param_grid=parameters, cv=n_split, scoring=auc_scoring, verbose=1)\n",
    "    grid_clf.fit(X_train, y_train)\n",
    "\n",
    "    print(grid_clf.best_estimator_)\n",
    "    print(grid_clf.best_params_)\n",
    "    performance_ = report_performance(grid_clf.best_estimator_, X_train, X_test, y_train, y_test, clf_name=\"LR\")\n",
    "    return grid_clf.best_estimator_, grid_clf.best_params_, performance_\n",
    "best_estimator_, best_params_, lr_performance_ = train_lr(X_train, X_test, y_train, y_test, n_split=5)"
   ]
  },
  {
   "attachments": {},
   "cell_type": "markdown",
   "metadata": {},
   "source": [
    "## Decision Tree Classifier\n",
    "### Code adapted from ml4covid19.py\n",
    "#### Best Model Results\n",
    "DecisionTreeClassifier(max_depth=17, min_samples_split=5)\n",
    "{'criterion': 'gini', 'max_depth': 17, 'min_samples_split': 5}\n",
    "[x] performance for DecisionTree classifier\\\n",
    "Training:\\\n",
    "AUC:1.000\\\n",
    "accuracy:1.000\\\n",
    "recall:1.000\\\n",
    "precision:1.000\\\n",
    "specificity:1.000\n",
    " \n",
    "Test:\\\n",
    "AUC:0.954\\\n",
    "accuracy:0.959\\\n",
    "recall:0.972\\\n",
    "precision:0.963\\\n",
    "specificity:0.937"
   ]
  },
  {
   "cell_type": "code",
   "execution_count": 9,
   "metadata": {},
   "outputs": [
    {
     "name": "stdout",
     "output_type": "stream",
     "text": [
      "DecisionTreeClassifier(max_depth=12, min_samples_split=5)\n",
      "{'criterion': 'gini', 'max_depth': 12, 'min_samples_split': 5}\n",
      "[x] performance for DecisionTree classifier\n",
      "Training:\n",
      "AUC:1.000\n",
      "accuracy:1.000\n",
      "recall:1.000\n",
      "precision:1.000\n",
      "specificity:1.000\n",
      " \n",
      "Test:\n",
      "AUC:0.942\n",
      "accuracy:0.947\n",
      "recall:0.963\n",
      "precision:0.954\n",
      "specificity:0.921\n",
      " \n"
     ]
    }
   ],
   "source": [
    "def train_decision_tree(X_train, X_test, y_train, y_test, n_split=5):\n",
    "    dtree = DecisionTreeClassifier(criterion='gini', max_depth=10, min_samples_split=5)\n",
    "    parameters = {\"criterion\": [\"gini\", \"entropy\"],\n",
    "                  \"max_depth\": [10, 12, 15,17,20],\n",
    "                  \"min_samples_split\": [5, 10, 15]}\n",
    "\n",
    "    auc_scoring = make_scorer(roc_auc_score)\n",
    "    if n_split == 1:\n",
    "        grid_clf = GridSearchCV(estimator=dtree, param_grid=parameters, cv=[(slice(None), slice(None))],\n",
    "                                scoring=auc_scoring, verbose=0)\n",
    "    else:\n",
    "        grid_clf = GridSearchCV(estimator=dtree, param_grid=parameters, cv=n_split, scoring=auc_scoring, verbose=0)\n",
    "    grid_clf.fit(X_train, y_train)\n",
    "\n",
    "    print(grid_clf.best_estimator_)\n",
    "    print(grid_clf.best_params_)\n",
    "    performance_ = report_performance(grid_clf.best_estimator_, X_train, X_test, y_train, y_test, clf_name=\"DecisionTree\")\n",
    "    return grid_clf.best_estimator_, grid_clf.best_params_, performance_\n",
    "best_estimator_, best_params_, dt_performance_ = train_decision_tree(X_train, X_test, y_train, y_test, n_split=5)"
   ]
  },
  {
   "attachments": {},
   "cell_type": "markdown",
   "metadata": {},
   "source": [
    "### Gradient Boosting\n",
    "#### Adapted ml4covid19\n",
    "No success on data"
   ]
  },
  {
   "cell_type": "code",
   "execution_count": null,
   "metadata": {},
   "outputs": [],
   "source": [
    "def train_gradient_boosting(X_train, X_test, y_train, y_test, n_split=5):\n",
    "    gbc = GradientBoostingClassifier(n_estimators=100, learning_rate=1.0, max_depth=3, random_state=42)\n",
    "\n",
    "    n_estimators = range(5, 100, 5)\n",
    "    max_depth = range(1, 10, 1)\n",
    "    learning_rate = [0.001, 0.01, 0.1]\n",
    "    random_grid_gbc = {'n_estimators': n_estimators, 'max_depth': max_depth, 'learning_rate': learning_rate}\n",
    "\n",
    "    auc_scoring = make_scorer(roc_auc_score)\n",
    "    grid_clf = GridSearchCV(estimator=gbc, param_grid=random_grid_gbc, cv=n_split, scoring=auc_scoring, verbose=0)\n",
    "    grid_clf.fit(X_train, y_train)\n",
    "\n",
    "    print(grid_clf.best_estimator_)\n",
    "    print(grid_clf.best_params_)\n",
    "    gb_performance_ = report_performance(grid_clf.best_estimator_, X_train, X_test, y_train, y_test, clf_name=\"Gradient Boosting\")\n",
    "    return grid_clf.best_estimator_, grid_clf.best_params_, gb_performance_\n",
    "best_estimator_, best_params_, gb_performance_ = train_gradient_boosting(X_train, X_test, y_train, y_test, n_split=5)"
   ]
  },
  {
   "attachments": {},
   "cell_type": "markdown",
   "metadata": {},
   "source": [
    "## Gaussian NB classifier\n",
    "### Adapted from ml4covid19.py\n",
    "#### Best model results\n",
    "\n",
    "GaussianNB()\\\n",
    "{'priors': None}\\\n",
    "[x] performance for GaussianNB classifier\\\n",
    "Training:\\\n",
    "AUC:0.987\\\n",
    "accuracy:0.942\\\n",
    "recall:0.976\\\n",
    "precision:0.935\\\n",
    "specificity:0.886\n",
    " \n",
    "Test:\\\n",
    "AUC:0.994\\\n",
    "accuracy:0.953\\\n",
    "recall:0.981\\\n",
    "precision:0.946\\\n",
    "specificity:0.905"
   ]
  },
  {
   "cell_type": "code",
   "execution_count": 36,
   "metadata": {},
   "outputs": [
    {
     "name": "stdout",
     "output_type": "stream",
     "text": [
      "GaussianNB()\n",
      "{'priors': None}\n",
      "[x] performance for GaussianNB classifier\n",
      "Training:\n",
      "AUC:0.987\n",
      "accuracy:0.942\n",
      "recall:0.976\n",
      "precision:0.935\n",
      "specificity:0.886\n",
      " \n",
      "Test:\n",
      "AUC:0.994\n",
      "accuracy:0.953\n",
      "recall:0.981\n",
      "precision:0.946\n",
      "specificity:0.905\n",
      " \n",
      "{'train': {'auc': 0.9867928088191694, 'acc': 0.9422110552763819, 'recall': 0.9759036144578314, 'precision': 0.9346153846153846, 'specificity': 0.8859060402684564}, 'test': {'auc': 0.9942680776014109, 'acc': 0.9532163742690059, 'recall': 0.9814814814814815, 'precision': 0.9464285714285714, 'specificity': 0.9047619047619048}}\n"
     ]
    }
   ],
   "source": [
    "def train_bayesian(X_train, X_test, y_train, y_test, n_split=5):\n",
    "    bayes = GaussianNB()\n",
    "    parameters = {\"priors\": [None, [np.count_nonzero(y_train==0)/y_train.shape[0],y_train.sum()/y_train.shape[0]]]}\n",
    "    auc_scoring = make_scorer(roc_auc_score)\n",
    "    if n_split == 1:\n",
    "        grid_clf = GridSearchCV(estimator=bayes, param_grid=parameters, cv=[(slice(None), slice(None))],\n",
    "                                scoring=auc_scoring, verbose=0)\n",
    "    else:\n",
    "        grid_clf = GridSearchCV(estimator=bayes, param_grid=parameters, cv=n_split, scoring=auc_scoring, verbose=0)\n",
    "    grid_clf.fit(X_train, y_train)\n",
    "\n",
    "    print(grid_clf.best_estimator_)\n",
    "    print(grid_clf.best_params_)\n",
    "    nb_performance_ = report_performance(grid_clf.best_estimator_, X_train, X_test, y_train, y_test, clf_name=\"GaussianNB\")\n",
    "    return grid_clf.best_estimator_, grid_clf.best_params_, nb_performance_\n",
    "\n",
    "best_estimator_, best_params_, nb_performance_ = train_bayesian(X_train, X_test, y_train, y_test, n_split=5)\n"
   ]
  },
  {
   "attachments": {},
   "cell_type": "markdown",
   "metadata": {},
   "source": [
    "## Random Forest Classifier\n",
    "### Code adapted from ml4covid19.py\n",
    "#### Best Model Results\n",
    "\n",
    "RandomForestClassifier(max_depth=4, max_features='auto', min_samples_split=4,\n",
    "                       n_estimators=10, random_state=42)\n",
    "{'criterion': 'gini', 'max_depth': 4, 'max_features': 'auto', 'min_samples_split': 4, 'n_estimators': 10}\n",
    "[x] performance for RF classifier\\\n",
    "Training:\\\n",
    "AUC:0.998\\\n",
    "accuracy:0.982\\\n",
    "recall:0.996\\\n",
    "precision:0.976\\\n",
    "specificity:0.960\\\n",
    " \n",
    "Test:\\\n",
    "AUC:0.993\\\n",
    "accuracy:0.959\\\n",
    "recall:1.000\\\n",
    "precision:0.939\\\n",
    "specificity:0.889\\"
   ]
  },
  {
   "cell_type": "code",
   "execution_count": 10,
   "metadata": {},
   "outputs": [
    {
     "name": "stdout",
     "output_type": "stream",
     "text": [
      "RandomForestClassifier(max_depth=4, max_features='auto', min_samples_split=4,\n",
      "                       n_estimators=10, random_state=42)\n",
      "{'criterion': 'gini', 'max_depth': 4, 'max_features': 'auto', 'min_samples_split': 4, 'n_estimators': 10}\n",
      "[x] performance for RF classifier\n",
      "Training:\n",
      "AUC:0.998\n",
      "accuracy:0.982\n",
      "recall:0.996\n",
      "precision:0.976\n",
      "specificity:0.960\n",
      " \n",
      "Test:\n",
      "AUC:0.993\n",
      "accuracy:0.959\n",
      "recall:1.000\n",
      "precision:0.939\n",
      "specificity:0.889\n",
      " \n"
     ]
    },
    {
     "name": "stderr",
     "output_type": "stream",
     "text": [
      "c:\\Users\\Anthony.Geglio\\AppData\\Local\\Programs\\Python\\Python39\\lib\\site-packages\\sklearn\\ensemble\\_forest.py:425: FutureWarning: `max_features='auto'` has been deprecated in 1.1 and will be removed in 1.3. To keep the past behaviour, explicitly set `max_features='sqrt'` or remove this parameter as it is also the default value for RandomForestClassifiers and ExtraTreesClassifiers.\n",
      "  warn(\n"
     ]
    }
   ],
   "source": [
    "def train_rf(X_train, X_test, y_train, y_test, n_split=5):\n",
    "    from sklearn.ensemble import RandomForestClassifier\n",
    "    rf = RandomForestClassifier(max_depth=6, random_state=42)\n",
    "    rf.fit(X_train, y_train)\n",
    "\n",
    "    n_estimators = (1,3,5,10,15)\n",
    "    max_features = ['auto']\n",
    "    max_depth = range(1, 5, 1)\n",
    "    min_samples_split = range(2, 6, 2)\n",
    "    criterion = ['gini', 'entropy']\n",
    "    parameters = {'n_estimators': n_estimators, 'max_features': max_features,\n",
    "                  'max_depth': max_depth, 'min_samples_split': min_samples_split, 'criterion': criterion}\n",
    "    auc_scoring = make_scorer(roc_auc_score)\n",
    "    if n_split == 1:\n",
    "        grid_clf = GridSearchCV(estimator=rf, param_grid=parameters, cv=[(slice(None), slice(None))],\n",
    "                                scoring=auc_scoring, verbose=0, n_jobs=-1)\n",
    "    else:\n",
    "        grid_clf = GridSearchCV(estimator=rf, param_grid=parameters, cv=n_split, scoring=auc_scoring, verbose=0,\n",
    "                                n_jobs=-1)\n",
    "    grid_clf.fit(X_train, y_train)\n",
    "\n",
    "    print(grid_clf.best_estimator_)\n",
    "    print(grid_clf.best_params_)\n",
    "    performance_ = report_performance(grid_clf.best_estimator_, X_train, X_test, y_train, y_test, clf_name=\"RF\")\n",
    "    return grid_clf.best_estimator_, grid_clf.best_params_, performance_\n",
    "\n",
    "best_estimator_, best_params_, rf_performance_ = train_rf(X_train, X_test, y_train, y_test, n_split=5)"
   ]
  },
  {
   "attachments": {},
   "cell_type": "markdown",
   "metadata": {},
   "source": [
    "## Multi-Layer Perceptron Classifier\n",
    "### Code Adapted from ml4covid19.py\n",
    "#### Best Model Results\n",
    "\n",
    "MLPClassifier(alpha=1, hidden_layer_sizes=(40, 20))\n",
    "{'activation': 'relu', 'alpha': 1, 'hidden_layer_sizes': (40, 20)}\\\n",
    "[x] performance for MLP classifier\\\n",
    "Training:\\\n",
    "AUC:0.968\\\n",
    "accuracy:0.930\\\n",
    "recall:0.980\\\n",
    "precision:0.914\\\n",
    "specificity:0.846\n",
    " \n",
    "Test:\\\n",
    "AUC:0.983\\\n",
    "accuracy:0.947\\\n",
    "recall:0.963\\\n",
    "precision:0.954\\\n",
    "specificity:0.921"
   ]
  },
  {
   "cell_type": "code",
   "execution_count": 11,
   "metadata": {},
   "outputs": [
    {
     "name": "stdout",
     "output_type": "stream",
     "text": [
      "MLPClassifier(activation='identity', alpha=1, hidden_layer_sizes=(40,))\n",
      "{'activation': 'identity', 'alpha': 1, 'hidden_layer_sizes': (40,)}\n",
      "[x] performance for MLP classifier\n",
      "Training:\n",
      "AUC:0.974\n",
      "accuracy:0.912\n",
      "recall:0.940\n",
      "precision:0.921\n",
      "specificity:0.866\n",
      " \n",
      "Test:\n",
      "AUC:0.990\n",
      "accuracy:0.953\n",
      "recall:0.963\n",
      "precision:0.963\n",
      "specificity:0.937\n",
      " \n"
     ]
    },
    {
     "name": "stderr",
     "output_type": "stream",
     "text": [
      "c:\\Users\\Anthony.Geglio\\AppData\\Local\\Programs\\Python\\Python39\\lib\\site-packages\\sklearn\\neural_network\\_multilayer_perceptron.py:679: ConvergenceWarning: Stochastic Optimizer: Maximum iterations (200) reached and the optimization hasn't converged yet.\n",
      "  warnings.warn(\n"
     ]
    }
   ],
   "source": [
    "def train_mlp(X_train, X_test, y_train, y_test, n_split=5):\n",
    "    from sklearn.neural_network import MLPClassifier\n",
    "    mlp = MLPClassifier()\n",
    "\n",
    "    activation = ['identity', 'logistic', 'tanh', 'relu']\n",
    "    hidden_layer_sizes = [(10, 5), (20, 10), (40, 20), (40,), (20,), (10,)]\n",
    "    alpha = [0.01, 0.1, 1, 10]\n",
    "    parameters = {'activation': activation, 'hidden_layer_sizes': hidden_layer_sizes, 'alpha': alpha}\n",
    "    auc_scoring = make_scorer(roc_auc_score)\n",
    "    grid_clf = GridSearchCV(estimator=mlp, param_grid=parameters, cv=n_split, scoring=auc_scoring, verbose=0, n_jobs=-1)\n",
    "    grid_clf.fit(X_train, y_train)\n",
    "\n",
    "    print(grid_clf.best_estimator_)\n",
    "    print(grid_clf.best_params_)\n",
    "    performance_ = report_performance(grid_clf.best_estimator_, X_train, X_test, y_train, y_test, clf_name=\"MLP\")\n",
    "    return grid_clf.best_estimator_, grid_clf.best_params_, performance_\n",
    "best_estimator_, best_params_, mlp_performance_ = train_mlp(X_train, X_test, y_train, y_test, n_split=5)"
   ]
  },
  {
   "cell_type": "code",
   "execution_count": 20,
   "metadata": {},
   "outputs": [
    {
     "data": {
      "text/plain": [
       "<function dict.keys>"
      ]
     },
     "execution_count": 20,
     "metadata": {},
     "output_type": "execute_result"
    }
   ],
   "source": [
    "svm_performance_['train'].keys"
   ]
  },
  {
   "cell_type": "code",
   "execution_count": 49,
   "metadata": {},
   "outputs": [
    {
     "name": "stdout",
     "output_type": "stream",
     "text": [
      "{'auc': 0.9912940352012075, 'acc': 0.9547738693467337, 'recall': 0.9759036144578314, 'precision': 0.9529411764705882, 'specificity': 0.9194630872483222}\n",
      "['auc', 'acc', 'recall', 'precision', 'specificity']\n"
     ]
    }
   ],
   "source": [
    "# svm_performance_, lr_performance_, dt_performance_, rf_performance_, mlp_performance_\n",
    "print(svm_performance_['train'])\n",
    "performances = [svm_performance_,lr_performance_, nb_performance_, dt_performance_, rf_performance_, mlp_performance_]\n",
    "models = [\"SVM\", \"Logistic Regression\",\"GaussianNB\", \"Decision Tree\", \"Random Forest\", \"Multi-layer perceptron\"]\n",
    "i=0\n",
    "x = list(performances[i]['train'].keys())\n",
    "print(x)"
   ]
  },
  {
   "cell_type": "code",
   "execution_count": 62,
   "metadata": {},
   "outputs": [
    {
     "name": "stdout",
     "output_type": "stream",
     "text": [
      "{'auc': 0.9912940352012075, 'acc': 0.9547738693467337, 'recall': 0.9759036144578314, 'precision': 0.9529411764705882, 'specificity': 0.9194630872483222}\n"
     ]
    },
    {
     "data": {
      "image/png": "[encoded data removed]",
      "text/plain": [
       "<Figure size 1200x700 with 6 Axes>"
      ]
     },
     "metadata": {},
     "output_type": "display_data"
    }
   ],
   "source": [
    "# svm_performance_, lr_performance_, dt_performance_, rf_performance_, mlp_performance_\n",
    "print(svm_performance_['train'])\n",
    "performances = [svm_performance_,lr_performance_, nb_performance_, dt_performance_, rf_performance_, mlp_performance_]\n",
    "models = [\"SVM\", \"Logistic Regression\",\"GaussianNB\", \"Decision Tree\", \"Random Forest\", \"Multi-layer perceptron\"]\n",
    "fig, ax = plt.subplots(2,3, figsize = (12,7), tight_layout=True)\n",
    "i=0\n",
    "for r in range(2):\n",
    "    for c in range(3):\n",
    "        ax[r][c].bar(height = performances[i]['train'].values(), \n",
    "                     x = list(performances[i]['train'].keys()),\n",
    "                     width = -0.25,\n",
    "                     align = 'edge',\n",
    "                     label = \"training\"\n",
    "                \n",
    "                     )\n",
    "        ax[r][c].bar(height = performances[i]['test'].values(), \n",
    "                     x = list(performances[i]['test'].keys()),\n",
    "                     width = 0.25,\n",
    "                     align = 'edge',\n",
    "                     label = \"test\"\n",
    "                     )\n",
    "        ax[r][c].set_ylim(0.9,1)\n",
    "        ax[r][c].set_title(f\"{models[i]}\")\n",
    "        i+=1\n",
    "plt.suptitle('Statistical Classifiers Performance')\n",
    "plt.legend()\n",
    "plt.show()"
   ]
  },
  {
   "attachments": {},
   "cell_type": "markdown",
   "metadata": {},
   "source": [
    "### Performance Summary\n",
    "The Figure above shows that SVM, followed by logistic regression performed the best overall when considering the 5 different metrics on classifying the breast cancer data set. All models, however, were able to perform well so a data scientist may consider other factors such as speed and algorithmic efficiency of the model for use in the real world."
   ]
  },
  {
   "cell_type": "code",
   "execution_count": null,
   "metadata": {},
   "outputs": [],
   "source": []
  }
 ],
 "metadata": {
  "kernelspec": {
   "display_name": "Python 3",
   "language": "python",
   "name": "python3"
  },
  "language_info": {
   "codemirror_mode": {
    "name": "ipython",
    "version": 3
   },
   "file_extension": ".py",
   "mimetype": "text/x-python",
   "name": "python",
   "nbconvert_exporter": "python",
   "pygments_lexer": "ipython3",
   "version": "3.9.6"
  },
  "orig_nbformat": 4,
  "vscode": {
   "interpreter": {
    "hash": "ce9cdd74b35dfd79c3b67aeb22c9d75097b20264f41289c6d0216eecb62710eb"
   }
  }
 },
 "nbformat": 4,
 "nbformat_minor": 2
}
