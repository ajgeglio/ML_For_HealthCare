{
  "cells": [
    {
      "cell_type": "markdown",
      "metadata": {
        "id": "view-in-github",
        "colab_type": "text"
      },
      "source": [
        "<a href=\"https://colab.research.google.com/github/ajgeglio/ML_For_HealthCare/blob/main/StatisticalML_ForBreastCancerClassification_TonyGeglio.ipynb\" target=\"_parent\"><img src=\"https://colab.research.google.com/assets/colab-badge.svg\" alt=\"Open In Colab\"/></a>"
      ]
    },
    {
      "cell_type": "markdown",
      "metadata": {
        "id": "lIJZZ9T79-Gr"
      },
      "source": [
        "# Statistical ML for Breast Cancer Classification\n",
        "### Tony Geglio\n",
        "SAT5114\n",
        "\n",
        "Github Link: https://github.com/ajgeglio/ML_For_HealthCare/upload/main"
      ]
    },
    {
      "cell_type": "markdown",
      "metadata": {
        "id": "cNMo9o359-Gx"
      },
      "source": [
        "Requirements:\n",
        "\n",
        "1. use a k-fold cross-validation and a test dataset. Report the final performance for the test dataset.\n",
        "\n",
        "2. use gridsearch or randomsearch to tune the hyperparameters in your ML classifier;\n",
        "\n",
        "3. use GitHub to share your code. Make your GitHub project public.\n",
        "\n",
        "Options: Teamwork is allowed for this project. However, each team should have at maximum 3 members. Every team member should use a different ML classifier. In your submitted PDF file, please list your team members and your own contribution if you work in a team.\n",
        "\n",
        "Submission: 1.  one-page PDF file to explain your program, including GitHub code link to your implementation; 2. Screenshot of your results (showing accuracy, sensitivity (precision), and specificity)."
      ]
    },
    {
      "cell_type": "markdown",
      "metadata": {
        "id": "R5DLSH0x9-Gz"
      },
      "source": [
        "Example from: https://www.datacamp.com/tutorial/svm-classification-scikit-learn-python"
      ]
    },
    {
      "cell_type": "markdown",
      "metadata": {
        "id": "iUTZvjX_9-G0"
      },
      "source": [
        "Let's first load the required python packages"
      ]
    },
    {
      "cell_type": "code",
      "execution_count": null,
      "metadata": {
        "id": "Po-42fnm9-G1"
      },
      "outputs": [],
      "source": [
        "#Import models\n",
        "from sklearn.linear_model import LogisticRegression\n",
        "from sklearn.model_selection import RandomizedSearchCV\n",
        "from sklearn.ensemble import GradientBoostingClassifier\n",
        "from sklearn.tree import DecisionTreeClassifier\n",
        "from sklearn.naive_bayes import GaussianNB\n",
        "from sklearn import svm\n",
        "# model selection and metrics\n",
        "from sklearn.model_selection import GridSearchCV\n",
        "from sklearn import metrics\n",
        "from sklearn.metrics import make_scorer, roc_auc_score\n",
        "from sklearn.model_selection import train_test_split\n",
        "# Import scikit-learn dataset library\n",
        "from sklearn import datasets\n",
        "# keep track of times\n",
        "import time\n",
        "import matplotlib.pyplot as plt\n",
        "import numpy as np\n",
        "import pandas as pd\n",
        "import warnings\n",
        "# warnings.filterwarnings(\"ignore\", category='ConvergenceWarning')\n",
        "from sklearn.preprocessing import StandardScaler\n"
      ]
    },
    {
      "cell_type": "markdown",
      "metadata": {
        "id": "0ePLjI2j9-G3"
      },
      "source": [
        "Exploring Data\n",
        "\n",
        "After you have load the dataset from sklearn, you might want to know a little bit more about it. You can check feature and target names."
      ]
    },
    {
      "cell_type": "code",
      "execution_count": null,
      "metadata": {
        "id": "UdxguV7Q9-G4",
        "outputId": "f78aa311-9158-4864-a9db-76460cd1c277"
      },
      "outputs": [
        {
          "name": "stdout",
          "output_type": "stream",
          "text": [
            "Features:  ['mean radius' 'mean texture' 'mean perimeter' 'mean area'\n",
            " 'mean smoothness' 'mean compactness' 'mean concavity'\n",
            " 'mean concave points' 'mean symmetry' 'mean fractal dimension'\n",
            " 'radius error' 'texture error' 'perimeter error' 'area error'\n",
            " 'smoothness error' 'compactness error' 'concavity error'\n",
            " 'concave points error' 'symmetry error' 'fractal dimension error'\n",
            " 'worst radius' 'worst texture' 'worst perimeter' 'worst area'\n",
            " 'worst smoothness' 'worst compactness' 'worst concavity'\n",
            " 'worst concave points' 'worst symmetry' 'worst fractal dimension']\n",
            "Labels:  ['malignant' 'benign']\n"
          ]
        }
      ],
      "source": [
        "#Load dataset\n",
        "cancer = datasets.load_breast_cancer()\n",
        "# print the names of the 13 features\n",
        "print(\"Features: \", cancer.feature_names)\n",
        "\n",
        "# print the label type of cancer('malignant' 'benign')\n",
        "print(\"Labels: \", cancer.target_names)"
      ]
    },
    {
      "cell_type": "markdown",
      "metadata": {
        "id": "jGm0qQWH9-G7"
      },
      "source": [
        "Splitting Data\n",
        "\n",
        "To understand model performance, dividing the dataset into a training set and a test set is a good strategy.\n",
        "\n",
        "Split the dataset by using the function train_test_split(). you need to pass 3 parameters features, target, and test_set size. Additionally, you can use random_state to select records randomly."
      ]
    },
    {
      "cell_type": "code",
      "execution_count": null,
      "metadata": {
        "id": "wX-_4j_99-G8",
        "outputId": "efccb05b-3aab-4313-abd4-c6923e9c1244"
      },
      "outputs": [
        {
          "name": "stdout",
          "output_type": "stream",
          "text": [
            "(398, 30)\n"
          ]
        },
        {
          "data": {
            "text/html": [
              "<div>\n",
              "<style scoped>\n",
              "    .dataframe tbody tr th:only-of-type {\n",
              "        vertical-align: middle;\n",
              "    }\n",
              "\n",
              "    .dataframe tbody tr th {\n",
              "        vertical-align: top;\n",
              "    }\n",
              "\n",
              "    .dataframe thead th {\n",
              "        text-align: right;\n",
              "    }\n",
              "</style>\n",
              "<table border=\"1\" class=\"dataframe\">\n",
              "  <thead>\n",
              "    <tr style=\"text-align: right;\">\n",
              "      <th></th>\n",
              "      <th>0</th>\n",
              "      <th>1</th>\n",
              "      <th>2</th>\n",
              "      <th>3</th>\n",
              "      <th>4</th>\n",
              "      <th>5</th>\n",
              "      <th>6</th>\n",
              "      <th>7</th>\n",
              "      <th>8</th>\n",
              "      <th>9</th>\n",
              "      <th>...</th>\n",
              "      <th>20</th>\n",
              "      <th>21</th>\n",
              "      <th>22</th>\n",
              "      <th>23</th>\n",
              "      <th>24</th>\n",
              "      <th>25</th>\n",
              "      <th>26</th>\n",
              "      <th>27</th>\n",
              "      <th>28</th>\n",
              "      <th>29</th>\n",
              "    </tr>\n",
              "  </thead>\n",
              "  <tbody>\n",
              "    <tr>\n",
              "      <th>0</th>\n",
              "      <td>14.22</td>\n",
              "      <td>23.12</td>\n",
              "      <td>94.37</td>\n",
              "      <td>609.9</td>\n",
              "      <td>0.10750</td>\n",
              "      <td>0.24130</td>\n",
              "      <td>0.198100</td>\n",
              "      <td>0.06618</td>\n",
              "      <td>0.2384</td>\n",
              "      <td>0.07542</td>\n",
              "      <td>...</td>\n",
              "      <td>15.74</td>\n",
              "      <td>37.18</td>\n",
              "      <td>106.40</td>\n",
              "      <td>762.4</td>\n",
              "      <td>0.15330</td>\n",
              "      <td>0.93270</td>\n",
              "      <td>0.84880</td>\n",
              "      <td>0.17720</td>\n",
              "      <td>0.5166</td>\n",
              "      <td>0.14460</td>\n",
              "    </tr>\n",
              "    <tr>\n",
              "      <th>1</th>\n",
              "      <td>11.20</td>\n",
              "      <td>29.37</td>\n",
              "      <td>70.67</td>\n",
              "      <td>386.0</td>\n",
              "      <td>0.07449</td>\n",
              "      <td>0.03558</td>\n",
              "      <td>0.000000</td>\n",
              "      <td>0.00000</td>\n",
              "      <td>0.1060</td>\n",
              "      <td>0.05502</td>\n",
              "      <td>...</td>\n",
              "      <td>11.92</td>\n",
              "      <td>38.30</td>\n",
              "      <td>75.19</td>\n",
              "      <td>439.6</td>\n",
              "      <td>0.09267</td>\n",
              "      <td>0.05494</td>\n",
              "      <td>0.00000</td>\n",
              "      <td>0.00000</td>\n",
              "      <td>0.1566</td>\n",
              "      <td>0.05905</td>\n",
              "    </tr>\n",
              "    <tr>\n",
              "      <th>2</th>\n",
              "      <td>16.50</td>\n",
              "      <td>18.29</td>\n",
              "      <td>106.60</td>\n",
              "      <td>838.1</td>\n",
              "      <td>0.09686</td>\n",
              "      <td>0.08468</td>\n",
              "      <td>0.058620</td>\n",
              "      <td>0.04835</td>\n",
              "      <td>0.1495</td>\n",
              "      <td>0.05593</td>\n",
              "      <td>...</td>\n",
              "      <td>18.13</td>\n",
              "      <td>25.45</td>\n",
              "      <td>117.20</td>\n",
              "      <td>1009.0</td>\n",
              "      <td>0.13380</td>\n",
              "      <td>0.16790</td>\n",
              "      <td>0.16630</td>\n",
              "      <td>0.09123</td>\n",
              "      <td>0.2394</td>\n",
              "      <td>0.06469</td>\n",
              "    </tr>\n",
              "    <tr>\n",
              "      <th>3</th>\n",
              "      <td>12.46</td>\n",
              "      <td>12.83</td>\n",
              "      <td>78.83</td>\n",
              "      <td>477.3</td>\n",
              "      <td>0.07372</td>\n",
              "      <td>0.04043</td>\n",
              "      <td>0.007173</td>\n",
              "      <td>0.01149</td>\n",
              "      <td>0.1613</td>\n",
              "      <td>0.06013</td>\n",
              "      <td>...</td>\n",
              "      <td>13.19</td>\n",
              "      <td>16.36</td>\n",
              "      <td>83.24</td>\n",
              "      <td>534.0</td>\n",
              "      <td>0.09439</td>\n",
              "      <td>0.06477</td>\n",
              "      <td>0.01674</td>\n",
              "      <td>0.02680</td>\n",
              "      <td>0.2280</td>\n",
              "      <td>0.07028</td>\n",
              "    </tr>\n",
              "    <tr>\n",
              "      <th>4</th>\n",
              "      <td>14.64</td>\n",
              "      <td>15.24</td>\n",
              "      <td>95.77</td>\n",
              "      <td>651.9</td>\n",
              "      <td>0.11320</td>\n",
              "      <td>0.13390</td>\n",
              "      <td>0.099660</td>\n",
              "      <td>0.07064</td>\n",
              "      <td>0.2116</td>\n",
              "      <td>0.06346</td>\n",
              "      <td>...</td>\n",
              "      <td>16.34</td>\n",
              "      <td>18.24</td>\n",
              "      <td>109.40</td>\n",
              "      <td>803.6</td>\n",
              "      <td>0.12770</td>\n",
              "      <td>0.30890</td>\n",
              "      <td>0.26040</td>\n",
              "      <td>0.13970</td>\n",
              "      <td>0.3151</td>\n",
              "      <td>0.08473</td>\n",
              "    </tr>\n",
              "  </tbody>\n",
              "</table>\n",
              "<p>5 rows × 30 columns</p>\n",
              "</div>"
            ],
            "text/plain": [
              "      0      1       2      3        4        5         6        7       8   \\\n",
              "0  14.22  23.12   94.37  609.9  0.10750  0.24130  0.198100  0.06618  0.2384   \n",
              "1  11.20  29.37   70.67  386.0  0.07449  0.03558  0.000000  0.00000  0.1060   \n",
              "2  16.50  18.29  106.60  838.1  0.09686  0.08468  0.058620  0.04835  0.1495   \n",
              "3  12.46  12.83   78.83  477.3  0.07372  0.04043  0.007173  0.01149  0.1613   \n",
              "4  14.64  15.24   95.77  651.9  0.11320  0.13390  0.099660  0.07064  0.2116   \n",
              "\n",
              "        9   ...     20     21      22      23       24       25       26  \\\n",
              "0  0.07542  ...  15.74  37.18  106.40   762.4  0.15330  0.93270  0.84880   \n",
              "1  0.05502  ...  11.92  38.30   75.19   439.6  0.09267  0.05494  0.00000   \n",
              "2  0.05593  ...  18.13  25.45  117.20  1009.0  0.13380  0.16790  0.16630   \n",
              "3  0.06013  ...  13.19  16.36   83.24   534.0  0.09439  0.06477  0.01674   \n",
              "4  0.06346  ...  16.34  18.24  109.40   803.6  0.12770  0.30890  0.26040   \n",
              "\n",
              "        27      28       29  \n",
              "0  0.17720  0.5166  0.14460  \n",
              "1  0.00000  0.1566  0.05905  \n",
              "2  0.09123  0.2394  0.06469  \n",
              "3  0.02680  0.2280  0.07028  \n",
              "4  0.13970  0.3151  0.08473  \n",
              "\n",
              "[5 rows x 30 columns]"
            ]
          },
          "execution_count": 82,
          "metadata": {},
          "output_type": "execute_result"
        }
      ],
      "source": [
        "# Split dataset into training set and test set\n",
        "X_train, X_test, y_train, y_test = train_test_split(cancer.data, cancer.target, test_size=0.3,random_state=109) # 70% training and 30% test\n",
        "print(X_train.shape)\n",
        "pd.DataFrame(X_train)[0:5]"
      ]
    },
    {
      "cell_type": "markdown",
      "metadata": {
        "id": "UEYnMERa9-G-"
      },
      "source": [
        "The shape method shows us that we have 30 attributes and 398 samples. Also, a quick look at the data indicates that we should standardize the data so that distance based methods can work"
      ]
    },
    {
      "cell_type": "code",
      "execution_count": null,
      "metadata": {
        "id": "FnxnkTz59-HA"
      },
      "outputs": [],
      "source": [
        "scaler = StandardScaler()\n",
        "scaler.fit(X_train)\n",
        "X_train = scaler.transform(X_train)\n",
        "X_test = scaler.transform(X_test)"
      ]
    },
    {
      "cell_type": "markdown",
      "metadata": {
        "id": "6lydZXA79-HB"
      },
      "source": [
        "### Generating SVM Model (example)\n",
        "\n",
        "Let's build support vector machine model. First, import the SVM module and create support vector classifier object by passing argument kernel as the linear kernel in SVC() function.\n",
        "\n",
        "Then, fit your model on train set using fit() and perform prediction on the test set using predict()."
      ]
    },
    {
      "cell_type": "code",
      "execution_count": null,
      "metadata": {
        "id": "wPp-7qTn9-HC",
        "outputId": "a1de1637-d890-4b9f-ac9f-d134efa1a6cb"
      },
      "outputs": [
        {
          "name": "stdout",
          "output_type": "stream",
          "text": [
            "Accuracy: 0.9883040935672515\n",
            "Precision: 0.9818181818181818\n",
            "Recall: 1.0\n"
          ]
        }
      ],
      "source": [
        "# Supplied example\n",
        "\n",
        "#Create a svm Classifier\n",
        "clf = svm.SVC(kernel='linear') # Linear Kernel\n",
        "\n",
        "#Train the model using the training sets\n",
        "clf.fit(X_train, y_train)\n",
        "\n",
        "#Predict the response for test dataset\n",
        "y_pred = clf.predict(X_test)\n",
        "# Model Accuracy: how often is the classifier correct?\n",
        "print(\"Accuracy:\",metrics.accuracy_score(y_test, y_pred))\n",
        "# Model Precision: what percentage of positive tuples are labeled as such?\n",
        "print(\"Precision:\",metrics.precision_score(y_test, y_pred))\n",
        "# Model Recall: what percentage of positive tuples are labelled as such?\n",
        "print(\"Recall:\",metrics.recall_score(y_test, y_pred))"
      ]
    },
    {
      "cell_type": "markdown",
      "metadata": {
        "id": "7QHj74Mx9-HC"
      },
      "source": [
        "96.49%, is a good accuracy.\n",
        "\n",
        "For further evaluation, you can also check precision and recall of model. \n",
        "\n",
        "We will also use gridsearch parameter tuning and 5-fold cross validation..."
      ]
    },
    {
      "cell_type": "markdown",
      "metadata": {
        "id": "zzL0mFBp9-HD"
      },
      "source": [
        "## Performance report functions \n",
        "### Adapted from ml4covid.py"
      ]
    },
    {
      "cell_type": "code",
      "execution_count": null,
      "metadata": {
        "id": "KfcgiLuL9-HD"
      },
      "outputs": [],
      "source": [
        "def calc_specificity(y_actual, y_pred, thresh=0.5):\n",
        "    # calculates specificity\n",
        "    return sum((y_pred < thresh) & (y_actual == 0)) / sum(y_actual == 0)\n",
        "\n",
        "def print_report(y_actual, y_pred, thresh):\n",
        "    auc = roc_auc_score(y_actual, y_pred)\n",
        "    accuracy = metrics.accuracy_score(y_actual, (y_pred > thresh))\n",
        "    recall = metrics.recall_score(y_actual, (y_pred > thresh))\n",
        "    precision = metrics.precision_score(y_actual, (y_pred > thresh))\n",
        "    specificity = calc_specificity(y_actual, y_pred, thresh)\n",
        "    print('AUC:%.3f' % auc)\n",
        "    print('accuracy:%.3f' % accuracy)\n",
        "    print('recall:%.3f' % recall)\n",
        "    print('precision:%.3f' % precision)\n",
        "    print('specificity:%.3f' % specificity)\n",
        "    print(' ')\n",
        "    return auc, accuracy, recall, precision, specificity\n",
        "\n",
        "def report_performance(clf, X_train, X_test, y_train, y_test, thresh=0.5, clf_name=\"CLF\"):\n",
        "    print(\"[x] performance for {} classifier\".format(clf_name))\n",
        "    y_train_preds = clf.predict_proba(X_train)[:, 1]\n",
        "    y_test_preds = clf.predict_proba(X_test)[:, 1]\n",
        "    print('Training:')\n",
        "    train_auc, train_accuracy, train_recall, train_precision, train_specificity = print_report(y_train, y_train_preds,\n",
        "                                                                                               thresh)\n",
        "    print('Test:')\n",
        "    test_auc, test_accuracy, test_recall, test_precision, test_specificity = print_report(y_test, y_test_preds, thresh)\n",
        "    return {\"train\": {\"auc\": train_auc, \"acc\": train_accuracy, \"recall\": train_recall, \"precision\": train_precision,\n",
        "                      \"specificity\": train_specificity},\n",
        "            \"test\": {\"auc\": test_auc, \"acc\": test_accuracy, \"recall\": test_recall, \"precision\": test_precision,\n",
        "                     \"specificity\": test_specificity}}"
      ]
    },
    {
      "cell_type": "markdown",
      "metadata": {
        "id": "hApHRbVk9-HE"
      },
      "source": [
        "## SVM Model\n",
        "### Code adapted from ml4covid19.py\n",
        "#### Best Model performance\n",
        "\n",
        "SVC(C=0.1, gamma=0.1, kernel='linear', max_iter=1000000, probability=True)\n",
        "{'C': 0.1, 'gamma': 0.1, 'kernel': 'linear'}\\\n",
        "[x] performance for SVM classifier\\\n",
        "Training:\\\n",
        "AUC:0.991\\\n",
        "accuracy:0.955\\\n",
        "recall:0.980\\\n",
        "precision:0.949\\\n",
        "specificity:0.913\n",
        " \n",
        "Test:\\\n",
        "AUC:0.997\\\n",
        "accuracy:0.959\\\n",
        "recall:0.972\\\n",
        "precision:0.963\\\n",
        "specificity:0.937"
      ]
    },
    {
      "cell_type": "code",
      "execution_count": null,
      "metadata": {
        "id": "dLFww_fC9-HE",
        "outputId": "db5a129f-e320-4523-82f1-9181541fb388"
      },
      "outputs": [
        {
          "name": "stderr",
          "output_type": "stream",
          "text": [
            "/Users/anthonygeglio/opt/anaconda3/envs/SAT4650/lib/python3.9/site-packages/sklearn/svm/_base.py:299: ConvergenceWarning: Solver terminated early (max_iter=10000).  Consider pre-processing your data with StandardScaler or MinMaxScaler.\n",
            "  warnings.warn(\n",
            "/Users/anthonygeglio/opt/anaconda3/envs/SAT4650/lib/python3.9/site-packages/sklearn/svm/_base.py:299: ConvergenceWarning: Solver terminated early (max_iter=10000).  Consider pre-processing your data with StandardScaler or MinMaxScaler.\n",
            "  warnings.warn(\n",
            "/Users/anthonygeglio/opt/anaconda3/envs/SAT4650/lib/python3.9/site-packages/sklearn/svm/_base.py:299: ConvergenceWarning: Solver terminated early (max_iter=10000).  Consider pre-processing your data with StandardScaler or MinMaxScaler.\n",
            "  warnings.warn(\n",
            "/Users/anthonygeglio/opt/anaconda3/envs/SAT4650/lib/python3.9/site-packages/sklearn/svm/_base.py:299: ConvergenceWarning: Solver terminated early (max_iter=10000).  Consider pre-processing your data with StandardScaler or MinMaxScaler.\n",
            "  warnings.warn(\n",
            "/Users/anthonygeglio/opt/anaconda3/envs/SAT4650/lib/python3.9/site-packages/sklearn/svm/_base.py:299: ConvergenceWarning: Solver terminated early (max_iter=10000).  Consider pre-processing your data with StandardScaler or MinMaxScaler.\n",
            "  warnings.warn(\n",
            "/Users/anthonygeglio/opt/anaconda3/envs/SAT4650/lib/python3.9/site-packages/sklearn/svm/_base.py:299: ConvergenceWarning: Solver terminated early (max_iter=10000).  Consider pre-processing your data with StandardScaler or MinMaxScaler.\n",
            "  warnings.warn(\n",
            "/Users/anthonygeglio/opt/anaconda3/envs/SAT4650/lib/python3.9/site-packages/sklearn/svm/_base.py:299: ConvergenceWarning: Solver terminated early (max_iter=10000).  Consider pre-processing your data with StandardScaler or MinMaxScaler.\n",
            "  warnings.warn(\n",
            "/Users/anthonygeglio/opt/anaconda3/envs/SAT4650/lib/python3.9/site-packages/sklearn/svm/_base.py:299: ConvergenceWarning: Solver terminated early (max_iter=10000).  Consider pre-processing your data with StandardScaler or MinMaxScaler.\n",
            "  warnings.warn(\n"
          ]
        },
        {
          "name": "stdout",
          "output_type": "stream",
          "text": [
            "SVC(C=10, gamma=0.01, max_iter=10000, probability=True)\n",
            "{'C': 10, 'gamma': 0.01, 'kernel': 'rbf'}\n",
            "[x] performance for SVM classifier\n",
            "Training:\n",
            "AUC:0.998\n",
            "accuracy:0.987\n",
            "recall:0.996\n",
            "precision:0.984\n",
            "specificity:0.973\n",
            " \n",
            "Test:\n",
            "AUC:0.998\n",
            "accuracy:0.982\n",
            "recall:1.000\n",
            "precision:0.973\n",
            "specificity:0.952\n",
            " \n"
          ]
        }
      ],
      "source": [
        "def train_svm(X_train, X_test, y_train, y_test, n_split=5):\n",
        "    svc = svm.SVC(probability=True, max_iter=10000)\n",
        "    parameters = {'C': [1e-1, 1, 10, 100],\n",
        "                  'gamma': [0.1, 0.01],\n",
        "                  'kernel': ['linear', 'rbf', 'sigmoid']}\n",
        "    # parameters = {'C': [1],\n",
        "    #               'gamma': [0.001],\n",
        "    #               'kernel': ['linear', 'rbf', 'sigmoid']}\n",
        "    auc_scoring = make_scorer(roc_auc_score)\n",
        "    if n_split == 1:\n",
        "        grid_clf = GridSearchCV(estimator=svc, param_grid=parameters, cv=[(slice(None), slice(None))],\n",
        "                                scoring=auc_scoring, verbose=0)\n",
        "    else:\n",
        "        grid_clf = GridSearchCV(estimator=svc, param_grid=parameters, cv=n_split, scoring=auc_scoring, verbose=0)\n",
        "    grid_clf.fit(X_train, y_train)\n",
        "\n",
        "    print(grid_clf.best_estimator_)\n",
        "    print(grid_clf.best_params_)\n",
        "    performance_ = report_performance(grid_clf.best_estimator_, X_train, X_test, y_train, y_test, clf_name=\"SVM\")\n",
        "    return grid_clf.best_estimator_, grid_clf.best_params_, performance_\n",
        "best_estimator_, best_params_, svm_performance_ = train_svm(X_train, X_test, y_train, y_test, n_split=5)"
      ]
    },
    {
      "cell_type": "markdown",
      "metadata": {
        "id": "lOkTUevj9-HF"
      },
      "source": [
        "## Logistic Regression Model\n",
        "### Code adapted from ml4covid.py\n",
        "#### Best Model Results\n",
        "LogisticRegression(C=1000, random_state=42)\n",
        "{'C': 1000, 'penalty': 'l2'}\n",
        "[x] performance for LR classifier\n",
        "\n",
        "Training:\\\n",
        "AUC:0.989\\\n",
        "accuracy:0.950\\\n",
        "recall:0.972\\\n",
        "precision:0.949\\\n",
        "specificity:0.913\n",
        " \n",
        "Test:\\\n",
        "AUC:0.992\\\n",
        "accuracy:0.947\\\n",
        "recall:0.954\\\n",
        "precision:0.963\\\n",
        "specificity:0.937"
      ]
    },
    {
      "cell_type": "code",
      "execution_count": null,
      "metadata": {
        "id": "t1wlncsD9-HF",
        "outputId": "a8a9ae17-4531-43c5-d644-c2d1abbb6e27"
      },
      "outputs": [
        {
          "name": "stdout",
          "output_type": "stream",
          "text": [
            "Fitting 5 folds for each of 8 candidates, totalling 40 fits\n",
            "LogisticRegression(C=0.1, max_iter=100000, random_state=42)\n",
            "{'C': 0.1, 'penalty': 'l2'}\n",
            "[x] performance for LR classifier\n",
            "Training:\n",
            "AUC:0.995\n",
            "accuracy:0.980\n",
            "recall:0.992\n",
            "precision:0.976\n",
            "specificity:0.960\n",
            " \n",
            "Test:\n",
            "AUC:0.999\n",
            "accuracy:0.982\n",
            "recall:1.000\n",
            "precision:0.973\n",
            "specificity:0.952\n",
            " \n"
          ]
        },
        {
          "name": "stderr",
          "output_type": "stream",
          "text": [
            "/Users/anthonygeglio/opt/anaconda3/envs/SAT4650/lib/python3.9/site-packages/sklearn/model_selection/_validation.py:378: FitFailedWarning: \n",
            "20 fits failed out of a total of 40.\n",
            "The score on these train-test partitions for these parameters will be set to nan.\n",
            "If these failures are not expected, you can try to debug them by setting error_score='raise'.\n",
            "\n",
            "Below are more details about the failures:\n",
            "--------------------------------------------------------------------------------\n",
            "20 fits failed with the following error:\n",
            "Traceback (most recent call last):\n",
            "  File \"/Users/anthonygeglio/opt/anaconda3/envs/SAT4650/lib/python3.9/site-packages/sklearn/model_selection/_validation.py\", line 686, in _fit_and_score\n",
            "    estimator.fit(X_train, y_train, **fit_params)\n",
            "  File \"/Users/anthonygeglio/opt/anaconda3/envs/SAT4650/lib/python3.9/site-packages/sklearn/linear_model/_logistic.py\", line 1162, in fit\n",
            "    solver = _check_solver(self.solver, self.penalty, self.dual)\n",
            "  File \"/Users/anthonygeglio/opt/anaconda3/envs/SAT4650/lib/python3.9/site-packages/sklearn/linear_model/_logistic.py\", line 54, in _check_solver\n",
            "    raise ValueError(\n",
            "ValueError: Solver lbfgs supports only 'l2' or 'none' penalties, got elasticnet penalty.\n",
            "\n",
            "  warnings.warn(some_fits_failed_message, FitFailedWarning)\n",
            "/Users/anthonygeglio/opt/anaconda3/envs/SAT4650/lib/python3.9/site-packages/sklearn/model_selection/_search.py:952: UserWarning: One or more of the test scores are non-finite: [0.9142069         nan 0.95698851        nan 0.95643678        nan\n",
            " 0.94906263        nan]\n",
            "  warnings.warn(\n"
          ]
        }
      ],
      "source": [
        "def train_lr(X_train, X_test, y_train, y_test, n_split=5):\n",
        "    lr = LogisticRegression(random_state=42, max_iter = 100000)\n",
        "    parameters = {'C': [1e-2, 1e-1, 1, 10],\n",
        "                  'penalty': [ \"l2\", \"elasticnet\"]}\n",
        "    auc_scoring = make_scorer(roc_auc_score)\n",
        "    if n_split == 1:\n",
        "        grid_clf = GridSearchCV(estimator=lr, param_grid=parameters, cv=[(slice(None), slice(None))],\n",
        "                                scoring=auc_scoring, verbose=1)\n",
        "    else:\n",
        "        grid_clf = GridSearchCV(estimator=lr, param_grid=parameters, cv=n_split, scoring=auc_scoring, verbose=1)\n",
        "    grid_clf.fit(X_train, y_train)\n",
        "\n",
        "    print(grid_clf.best_estimator_)\n",
        "    print(grid_clf.best_params_)\n",
        "    performance_ = report_performance(grid_clf.best_estimator_, X_train, X_test, y_train, y_test, clf_name=\"LR\")\n",
        "    return grid_clf.best_estimator_, grid_clf.best_params_, performance_\n",
        "best_estimator_, best_params_, lr_performance_ = train_lr(X_train, X_test, y_train, y_test, n_split=5)"
      ]
    },
    {
      "cell_type": "markdown",
      "metadata": {
        "id": "GB2W_IzX9-HG"
      },
      "source": [
        "## Decision Tree Classifier\n",
        "### Code adapted from ml4covid19.py\n",
        "#### Best Model Results\n",
        "DecisionTreeClassifier(max_depth=17, min_samples_split=5)\n",
        "{'criterion': 'gini', 'max_depth': 17, 'min_samples_split': 5}\n",
        "[x] performance for DecisionTree classifier\\\n",
        "Training:\\\n",
        "AUC:1.000\\\n",
        "accuracy:1.000\\\n",
        "recall:1.000\\\n",
        "precision:1.000\\\n",
        "specificity:1.000\n",
        " \n",
        "Test:\\\n",
        "AUC:0.954\\\n",
        "accuracy:0.959\\\n",
        "recall:0.972\\\n",
        "precision:0.963\\\n",
        "specificity:0.937"
      ]
    },
    {
      "cell_type": "code",
      "execution_count": null,
      "metadata": {
        "id": "9ceykjwu9-HH",
        "outputId": "2a5c949a-d9c6-48d3-f52a-ee5ab3f50921"
      },
      "outputs": [
        {
          "name": "stdout",
          "output_type": "stream",
          "text": [
            "DecisionTreeClassifier(max_depth=17, min_samples_split=5)\n",
            "{'criterion': 'gini', 'max_depth': 17, 'min_samples_split': 5}\n",
            "[x] performance for DecisionTree classifier\n",
            "Training:\n",
            "AUC:1.000\n",
            "accuracy:1.000\n",
            "recall:1.000\n",
            "precision:1.000\n",
            "specificity:1.000\n",
            " \n",
            "Test:\n",
            "AUC:0.952\n",
            "accuracy:0.947\n",
            "recall:0.935\n",
            "precision:0.981\n",
            "specificity:0.968\n",
            " \n"
          ]
        }
      ],
      "source": [
        "def train_decision_tree(X_train, X_test, y_train, y_test, n_split=5):\n",
        "    dtree = DecisionTreeClassifier(criterion='gini', max_depth=10, min_samples_split=5)\n",
        "    parameters = {\"criterion\": [\"gini\", \"entropy\"],\n",
        "                  \"max_depth\": [10, 12, 15,17,20],\n",
        "                  \"min_samples_split\": [5, 10, 15]}\n",
        "\n",
        "    auc_scoring = make_scorer(roc_auc_score)\n",
        "    if n_split == 1:\n",
        "        grid_clf = GridSearchCV(estimator=dtree, param_grid=parameters, cv=[(slice(None), slice(None))],\n",
        "                                scoring=auc_scoring, verbose=0)\n",
        "    else:\n",
        "        grid_clf = GridSearchCV(estimator=dtree, param_grid=parameters, cv=n_split, scoring=auc_scoring, verbose=0)\n",
        "    grid_clf.fit(X_train, y_train)\n",
        "\n",
        "    print(grid_clf.best_estimator_)\n",
        "    print(grid_clf.best_params_)\n",
        "    performance_ = report_performance(grid_clf.best_estimator_, X_train, X_test, y_train, y_test, clf_name=\"DecisionTree\")\n",
        "    return grid_clf.best_estimator_, grid_clf.best_params_, performance_\n",
        "best_estimator_, best_params_, dt_performance_ = train_decision_tree(X_train, X_test, y_train, y_test, n_split=5)"
      ]
    },
    {
      "cell_type": "markdown",
      "metadata": {
        "id": "QeJgY04p9-HH"
      },
      "source": [
        "### Gradient Boosting\n",
        "#### Adapted ml4covid19\n",
        "No success on data"
      ]
    },
    {
      "cell_type": "code",
      "execution_count": null,
      "metadata": {
        "id": "oWRRt-089-HI"
      },
      "outputs": [],
      "source": [
        "# def train_gradient_boosting(X_train, X_test, y_train, y_test, n_split=5):\n",
        "#     gbc = GradientBoostingClassifier(n_estimators=100, learning_rate=1.0, max_depth=3, random_state=42)\n",
        "\n",
        "#     n_estimators = range(5, 100, 5)\n",
        "#     max_depth = range(1, 10, 1)\n",
        "#     learning_rate = [0.001, 0.01, 0.1]\n",
        "#     random_grid_gbc = {'n_estimators': n_estimators, 'max_depth': max_depth, 'learning_rate': learning_rate}\n",
        "\n",
        "#     auc_scoring = make_scorer(roc_auc_score)\n",
        "#     grid_clf = GridSearchCV(estimator=gbc, param_grid=random_grid_gbc, cv=n_split, scoring=auc_scoring, verbose=0)\n",
        "#     grid_clf.fit(X_train, y_train)\n",
        "\n",
        "#     print(grid_clf.best_estimator_)\n",
        "#     print(grid_clf.best_params_)\n",
        "#     gb_performance_ = report_performance(grid_clf.best_estimator_, X_train, X_test, y_train, y_test, clf_name=\"Gradient Boosting\")\n",
        "#     return grid_clf.best_estimator_, grid_clf.best_params_, gb_performance_\n",
        "# best_estimator_, best_params_, gb_performance_ = train_gradient_boosting(X_train, X_test, y_train, y_test, n_split=5)"
      ]
    },
    {
      "cell_type": "markdown",
      "metadata": {
        "id": "pNKJNDwP9-HJ"
      },
      "source": [
        "## Gaussian NB classifier\n",
        "### Adapted from ml4covid19.py\n",
        "#### Best model results\n",
        "\n",
        "GaussianNB()\\\n",
        "{'priors': None}\\\n",
        "[x] performance for GaussianNB classifier\\\n",
        "Training:\\\n",
        "AUC:0.987\\\n",
        "accuracy:0.942\\\n",
        "recall:0.976\\\n",
        "precision:0.935\\\n",
        "specificity:0.886\n",
        " \n",
        "Test:\\\n",
        "AUC:0.994\\\n",
        "accuracy:0.953\\\n",
        "recall:0.981\\\n",
        "precision:0.946\\\n",
        "specificity:0.905"
      ]
    },
    {
      "cell_type": "code",
      "execution_count": null,
      "metadata": {
        "id": "U2O4R7lL9-HK",
        "outputId": "f5e2e45c-05a6-4bd2-d618-7f9f3dd94ec0"
      },
      "outputs": [
        {
          "name": "stdout",
          "output_type": "stream",
          "text": [
            "GaussianNB()\n",
            "{'priors': None}\n",
            "[x] performance for GaussianNB classifier\n",
            "Training:\n",
            "AUC:0.986\n",
            "accuracy:0.930\n",
            "recall:0.956\n",
            "precision:0.933\n",
            "specificity:0.886\n",
            " \n",
            "Test:\n",
            "AUC:0.992\n",
            "accuracy:0.936\n",
            "recall:0.954\n",
            "precision:0.945\n",
            "specificity:0.905\n",
            " \n"
          ]
        }
      ],
      "source": [
        "def train_bayesian(X_train, X_test, y_train, y_test, n_split=5):\n",
        "    bayes = GaussianNB()\n",
        "    parameters = {\"priors\": [None, [np.count_nonzero(y_train==0)/y_train.shape[0],y_train.sum()/y_train.shape[0]]]}\n",
        "    auc_scoring = make_scorer(roc_auc_score)\n",
        "    if n_split == 1:\n",
        "        grid_clf = GridSearchCV(estimator=bayes, param_grid=parameters, cv=[(slice(None), slice(None))],\n",
        "                                scoring=auc_scoring, verbose=0)\n",
        "    else:\n",
        "        grid_clf = GridSearchCV(estimator=bayes, param_grid=parameters, cv=n_split, scoring=auc_scoring, verbose=0)\n",
        "    grid_clf.fit(X_train, y_train)\n",
        "\n",
        "    print(grid_clf.best_estimator_)\n",
        "    print(grid_clf.best_params_)\n",
        "    nb_performance_ = report_performance(grid_clf.best_estimator_, X_train, X_test, y_train, y_test, clf_name=\"GaussianNB\")\n",
        "    return grid_clf.best_estimator_, grid_clf.best_params_, nb_performance_\n",
        "\n",
        "best_estimator_, best_params_, nb_performance_ = train_bayesian(X_train, X_test, y_train, y_test, n_split=5)\n"
      ]
    },
    {
      "cell_type": "markdown",
      "metadata": {
        "id": "UNm_ARtR9-HK"
      },
      "source": [
        "## Random Forest Classifier\n",
        "### Code adapted from ml4covid19.py\n",
        "#### Best Model Results\n",
        "\n",
        "RandomForestClassifier(max_depth=4, max_features='auto', min_samples_split=4,\n",
        "                       n_estimators=10, random_state=42)\n",
        "{'criterion': 'gini', 'max_depth': 4, 'max_features': 'auto', 'min_samples_split': 4, 'n_estimators': 10}\n",
        "[x] performance for RF classifier\\\n",
        "Training:\\\n",
        "AUC:0.998\\\n",
        "accuracy:0.982\\\n",
        "recall:0.996\\\n",
        "precision:0.976\\\n",
        "specificity:0.960\\\n",
        " \n",
        "Test:\\\n",
        "AUC:0.993\\\n",
        "accuracy:0.959\\\n",
        "recall:1.000\\\n",
        "precision:0.939\\\n",
        "specificity:0.889\\"
      ]
    },
    {
      "cell_type": "code",
      "execution_count": null,
      "metadata": {
        "id": "0rVBDCK19-HL",
        "outputId": "2f421286-9638-4d89-8a64-b31acf75e9d9"
      },
      "outputs": [
        {
          "name": "stdout",
          "output_type": "stream",
          "text": [
            "RandomForestClassifier(max_depth=4, min_samples_split=4, n_estimators=10,\n",
            "                       random_state=42)\n",
            "{'criterion': 'gini', 'max_depth': 4, 'max_features': 'sqrt', 'min_samples_split': 4, 'n_estimators': 10}\n",
            "[x] performance for RF classifier\n",
            "Training:\n",
            "AUC:0.998\n",
            "accuracy:0.982\n",
            "recall:0.996\n",
            "precision:0.976\n",
            "specificity:0.960\n",
            " \n",
            "Test:\n",
            "AUC:0.993\n",
            "accuracy:0.959\n",
            "recall:1.000\n",
            "precision:0.939\n",
            "specificity:0.889\n",
            " \n"
          ]
        }
      ],
      "source": [
        "def train_rf(X_train, X_test, y_train, y_test, n_split=5):\n",
        "    from sklearn.ensemble import RandomForestClassifier\n",
        "    rf = RandomForestClassifier(max_depth=6, random_state=42)\n",
        "    rf.fit(X_train, y_train)\n",
        "\n",
        "    n_estimators = (1,3,5,10,15)\n",
        "    max_features = ['sqrt']\n",
        "    max_depth = range(1, 5, 1)\n",
        "    min_samples_split = range(2, 6, 2)\n",
        "    criterion = ['gini', 'entropy']\n",
        "    parameters = {'n_estimators': n_estimators, 'max_features': max_features,\n",
        "                  'max_depth': max_depth, 'min_samples_split': min_samples_split, 'criterion': criterion}\n",
        "    auc_scoring = make_scorer(roc_auc_score)\n",
        "    if n_split == 1:\n",
        "        grid_clf = GridSearchCV(estimator=rf, param_grid=parameters, cv=[(slice(None), slice(None))],\n",
        "                                scoring=auc_scoring, verbose=0, n_jobs=-1)\n",
        "    else:\n",
        "        grid_clf = GridSearchCV(estimator=rf, param_grid=parameters, cv=n_split, scoring=auc_scoring, verbose=0,\n",
        "                                n_jobs=-1)\n",
        "    grid_clf.fit(X_train, y_train)\n",
        "\n",
        "    print(grid_clf.best_estimator_)\n",
        "    print(grid_clf.best_params_)\n",
        "    performance_ = report_performance(grid_clf.best_estimator_, X_train, X_test, y_train, y_test, clf_name=\"RF\")\n",
        "    return grid_clf.best_estimator_, grid_clf.best_params_, performance_\n",
        "\n",
        "best_estimator_, best_params_, rf_performance_ = train_rf(X_train, X_test, y_train, y_test, n_split=5)"
      ]
    },
    {
      "cell_type": "markdown",
      "metadata": {
        "id": "2-dB1I689-HL"
      },
      "source": [
        "## Multi-Layer Perceptron Classifier\n",
        "### Code Adapted from ml4covid19.py\n",
        "#### Best Model Results\n",
        "\n",
        "MLPClassifier(alpha=1, hidden_layer_sizes=(40, 20))\n",
        "{'activation': 'relu', 'alpha': 1, 'hidden_layer_sizes': (40, 20)}\\\n",
        "[x] performance for MLP classifier\\\n",
        "Training:\\\n",
        "AUC:0.968\\\n",
        "accuracy:0.930\\\n",
        "recall:0.980\\\n",
        "precision:0.914\\\n",
        "specificity:0.846\n",
        " \n",
        "Test:\\\n",
        "AUC:0.983\\\n",
        "accuracy:0.947\\\n",
        "recall:0.963\\\n",
        "precision:0.954\\\n",
        "specificity:0.921"
      ]
    },
    {
      "cell_type": "code",
      "execution_count": null,
      "metadata": {
        "id": "SzwkJua09-HM",
        "outputId": "3ba2ad98-4779-4782-a624-fc0e8289e15c"
      },
      "outputs": [
        {
          "name": "stderr",
          "output_type": "stream",
          "text": [
            "/Users/anthonygeglio/opt/anaconda3/envs/SAT4650/lib/python3.9/site-packages/sklearn/neural_network/_multilayer_perceptron.py:684: ConvergenceWarning: Stochastic Optimizer: Maximum iterations (500) reached and the optimization hasn't converged yet.\n",
            "  warnings.warn(\n",
            "/Users/anthonygeglio/opt/anaconda3/envs/SAT4650/lib/python3.9/site-packages/sklearn/neural_network/_multilayer_perceptron.py:684: ConvergenceWarning: Stochastic Optimizer: Maximum iterations (500) reached and the optimization hasn't converged yet.\n",
            "  warnings.warn(\n",
            "/Users/anthonygeglio/opt/anaconda3/envs/SAT4650/lib/python3.9/site-packages/sklearn/neural_network/_multilayer_perceptron.py:684: ConvergenceWarning: Stochastic Optimizer: Maximum iterations (500) reached and the optimization hasn't converged yet.\n",
            "  warnings.warn(\n",
            "/Users/anthonygeglio/opt/anaconda3/envs/SAT4650/lib/python3.9/site-packages/sklearn/neural_network/_multilayer_perceptron.py:684: ConvergenceWarning: Stochastic Optimizer: Maximum iterations (500) reached and the optimization hasn't converged yet.\n",
            "  warnings.warn(\n",
            "/Users/anthonygeglio/opt/anaconda3/envs/SAT4650/lib/python3.9/site-packages/sklearn/neural_network/_multilayer_perceptron.py:684: ConvergenceWarning: Stochastic Optimizer: Maximum iterations (500) reached and the optimization hasn't converged yet.\n",
            "  warnings.warn(\n",
            "/Users/anthonygeglio/opt/anaconda3/envs/SAT4650/lib/python3.9/site-packages/sklearn/neural_network/_multilayer_perceptron.py:684: ConvergenceWarning: Stochastic Optimizer: Maximum iterations (500) reached and the optimization hasn't converged yet.\n",
            "  warnings.warn(\n",
            "/Users/anthonygeglio/opt/anaconda3/envs/SAT4650/lib/python3.9/site-packages/sklearn/neural_network/_multilayer_perceptron.py:684: ConvergenceWarning: Stochastic Optimizer: Maximum iterations (500) reached and the optimization hasn't converged yet.\n",
            "  warnings.warn(\n",
            "/Users/anthonygeglio/opt/anaconda3/envs/SAT4650/lib/python3.9/site-packages/sklearn/neural_network/_multilayer_perceptron.py:684: ConvergenceWarning: Stochastic Optimizer: Maximum iterations (500) reached and the optimization hasn't converged yet.\n",
            "  warnings.warn(\n",
            "/Users/anthonygeglio/opt/anaconda3/envs/SAT4650/lib/python3.9/site-packages/sklearn/neural_network/_multilayer_perceptron.py:684: ConvergenceWarning: Stochastic Optimizer: Maximum iterations (500) reached and the optimization hasn't converged yet.\n",
            "  warnings.warn(\n",
            "/Users/anthonygeglio/opt/anaconda3/envs/SAT4650/lib/python3.9/site-packages/sklearn/neural_network/_multilayer_perceptron.py:684: ConvergenceWarning: Stochastic Optimizer: Maximum iterations (500) reached and the optimization hasn't converged yet.\n",
            "  warnings.warn(\n",
            "/Users/anthonygeglio/opt/anaconda3/envs/SAT4650/lib/python3.9/site-packages/sklearn/neural_network/_multilayer_perceptron.py:684: ConvergenceWarning: Stochastic Optimizer: Maximum iterations (500) reached and the optimization hasn't converged yet.\n",
            "  warnings.warn(\n",
            "/Users/anthonygeglio/opt/anaconda3/envs/SAT4650/lib/python3.9/site-packages/sklearn/neural_network/_multilayer_perceptron.py:684: ConvergenceWarning: Stochastic Optimizer: Maximum iterations (500) reached and the optimization hasn't converged yet.\n",
            "  warnings.warn(\n",
            "/Users/anthonygeglio/opt/anaconda3/envs/SAT4650/lib/python3.9/site-packages/sklearn/neural_network/_multilayer_perceptron.py:684: ConvergenceWarning: Stochastic Optimizer: Maximum iterations (500) reached and the optimization hasn't converged yet.\n",
            "  warnings.warn(\n",
            "/Users/anthonygeglio/opt/anaconda3/envs/SAT4650/lib/python3.9/site-packages/sklearn/neural_network/_multilayer_perceptron.py:684: ConvergenceWarning: Stochastic Optimizer: Maximum iterations (500) reached and the optimization hasn't converged yet.\n",
            "  warnings.warn(\n",
            "/Users/anthonygeglio/opt/anaconda3/envs/SAT4650/lib/python3.9/site-packages/sklearn/neural_network/_multilayer_perceptron.py:684: ConvergenceWarning: Stochastic Optimizer: Maximum iterations (500) reached and the optimization hasn't converged yet.\n",
            "  warnings.warn(\n",
            "/Users/anthonygeglio/opt/anaconda3/envs/SAT4650/lib/python3.9/site-packages/sklearn/neural_network/_multilayer_perceptron.py:684: ConvergenceWarning: Stochastic Optimizer: Maximum iterations (500) reached and the optimization hasn't converged yet.\n",
            "  warnings.warn(\n",
            "/Users/anthonygeglio/opt/anaconda3/envs/SAT4650/lib/python3.9/site-packages/sklearn/neural_network/_multilayer_perceptron.py:684: ConvergenceWarning: Stochastic Optimizer: Maximum iterations (500) reached and the optimization hasn't converged yet.\n",
            "  warnings.warn(\n",
            "/Users/anthonygeglio/opt/anaconda3/envs/SAT4650/lib/python3.9/site-packages/sklearn/neural_network/_multilayer_perceptron.py:684: ConvergenceWarning: Stochastic Optimizer: Maximum iterations (500) reached and the optimization hasn't converged yet.\n",
            "  warnings.warn(\n",
            "/Users/anthonygeglio/opt/anaconda3/envs/SAT4650/lib/python3.9/site-packages/sklearn/neural_network/_multilayer_perceptron.py:684: ConvergenceWarning: Stochastic Optimizer: Maximum iterations (500) reached and the optimization hasn't converged yet.\n",
            "  warnings.warn(\n",
            "/Users/anthonygeglio/opt/anaconda3/envs/SAT4650/lib/python3.9/site-packages/sklearn/neural_network/_multilayer_perceptron.py:684: ConvergenceWarning: Stochastic Optimizer: Maximum iterations (500) reached and the optimization hasn't converged yet.\n",
            "  warnings.warn(\n",
            "/Users/anthonygeglio/opt/anaconda3/envs/SAT4650/lib/python3.9/site-packages/sklearn/neural_network/_multilayer_perceptron.py:684: ConvergenceWarning: Stochastic Optimizer: Maximum iterations (500) reached and the optimization hasn't converged yet.\n",
            "  warnings.warn(\n",
            "/Users/anthonygeglio/opt/anaconda3/envs/SAT4650/lib/python3.9/site-packages/sklearn/neural_network/_multilayer_perceptron.py:684: ConvergenceWarning: Stochastic Optimizer: Maximum iterations (500) reached and the optimization hasn't converged yet.\n",
            "  warnings.warn(\n",
            "/Users/anthonygeglio/opt/anaconda3/envs/SAT4650/lib/python3.9/site-packages/sklearn/neural_network/_multilayer_perceptron.py:684: ConvergenceWarning: Stochastic Optimizer: Maximum iterations (500) reached and the optimization hasn't converged yet.\n",
            "  warnings.warn(\n",
            "/Users/anthonygeglio/opt/anaconda3/envs/SAT4650/lib/python3.9/site-packages/sklearn/neural_network/_multilayer_perceptron.py:684: ConvergenceWarning: Stochastic Optimizer: Maximum iterations (500) reached and the optimization hasn't converged yet.\n",
            "  warnings.warn(\n",
            "/Users/anthonygeglio/opt/anaconda3/envs/SAT4650/lib/python3.9/site-packages/sklearn/neural_network/_multilayer_perceptron.py:684: ConvergenceWarning: Stochastic Optimizer: Maximum iterations (500) reached and the optimization hasn't converged yet.\n",
            "  warnings.warn(\n",
            "/Users/anthonygeglio/opt/anaconda3/envs/SAT4650/lib/python3.9/site-packages/sklearn/neural_network/_multilayer_perceptron.py:684: ConvergenceWarning: Stochastic Optimizer: Maximum iterations (500) reached and the optimization hasn't converged yet.\n",
            "  warnings.warn(\n",
            "/Users/anthonygeglio/opt/anaconda3/envs/SAT4650/lib/python3.9/site-packages/sklearn/neural_network/_multilayer_perceptron.py:684: ConvergenceWarning: Stochastic Optimizer: Maximum iterations (500) reached and the optimization hasn't converged yet.\n",
            "  warnings.warn(\n",
            "/Users/anthonygeglio/opt/anaconda3/envs/SAT4650/lib/python3.9/site-packages/sklearn/neural_network/_multilayer_perceptron.py:684: ConvergenceWarning: Stochastic Optimizer: Maximum iterations (500) reached and the optimization hasn't converged yet.\n",
            "  warnings.warn(\n",
            "/Users/anthonygeglio/opt/anaconda3/envs/SAT4650/lib/python3.9/site-packages/sklearn/neural_network/_multilayer_perceptron.py:684: ConvergenceWarning: Stochastic Optimizer: Maximum iterations (500) reached and the optimization hasn't converged yet.\n",
            "  warnings.warn(\n",
            "/Users/anthonygeglio/opt/anaconda3/envs/SAT4650/lib/python3.9/site-packages/sklearn/neural_network/_multilayer_perceptron.py:684: ConvergenceWarning: Stochastic Optimizer: Maximum iterations (500) reached and the optimization hasn't converged yet.\n",
            "  warnings.warn(\n",
            "/Users/anthonygeglio/opt/anaconda3/envs/SAT4650/lib/python3.9/site-packages/sklearn/neural_network/_multilayer_perceptron.py:684: ConvergenceWarning: Stochastic Optimizer: Maximum iterations (500) reached and the optimization hasn't converged yet.\n",
            "  warnings.warn(\n",
            "/Users/anthonygeglio/opt/anaconda3/envs/SAT4650/lib/python3.9/site-packages/sklearn/neural_network/_multilayer_perceptron.py:684: ConvergenceWarning: Stochastic Optimizer: Maximum iterations (500) reached and the optimization hasn't converged yet.\n",
            "  warnings.warn(\n",
            "/Users/anthonygeglio/opt/anaconda3/envs/SAT4650/lib/python3.9/site-packages/sklearn/neural_network/_multilayer_perceptron.py:684: ConvergenceWarning: Stochastic Optimizer: Maximum iterations (500) reached and the optimization hasn't converged yet.\n",
            "  warnings.warn(\n",
            "/Users/anthonygeglio/opt/anaconda3/envs/SAT4650/lib/python3.9/site-packages/sklearn/neural_network/_multilayer_perceptron.py:684: ConvergenceWarning: Stochastic Optimizer: Maximum iterations (500) reached and the optimization hasn't converged yet.\n",
            "  warnings.warn(\n",
            "/Users/anthonygeglio/opt/anaconda3/envs/SAT4650/lib/python3.9/site-packages/sklearn/neural_network/_multilayer_perceptron.py:684: ConvergenceWarning: Stochastic Optimizer: Maximum iterations (500) reached and the optimization hasn't converged yet.\n",
            "  warnings.warn(\n",
            "/Users/anthonygeglio/opt/anaconda3/envs/SAT4650/lib/python3.9/site-packages/sklearn/neural_network/_multilayer_perceptron.py:684: ConvergenceWarning: Stochastic Optimizer: Maximum iterations (500) reached and the optimization hasn't converged yet.\n",
            "  warnings.warn(\n",
            "/Users/anthonygeglio/opt/anaconda3/envs/SAT4650/lib/python3.9/site-packages/sklearn/neural_network/_multilayer_perceptron.py:684: ConvergenceWarning: Stochastic Optimizer: Maximum iterations (500) reached and the optimization hasn't converged yet.\n",
            "  warnings.warn(\n",
            "/Users/anthonygeglio/opt/anaconda3/envs/SAT4650/lib/python3.9/site-packages/sklearn/neural_network/_multilayer_perceptron.py:684: ConvergenceWarning: Stochastic Optimizer: Maximum iterations (500) reached and the optimization hasn't converged yet.\n",
            "  warnings.warn(\n",
            "/Users/anthonygeglio/opt/anaconda3/envs/SAT4650/lib/python3.9/site-packages/sklearn/neural_network/_multilayer_perceptron.py:684: ConvergenceWarning: Stochastic Optimizer: Maximum iterations (500) reached and the optimization hasn't converged yet.\n",
            "  warnings.warn(\n",
            "/Users/anthonygeglio/opt/anaconda3/envs/SAT4650/lib/python3.9/site-packages/sklearn/neural_network/_multilayer_perceptron.py:684: ConvergenceWarning: Stochastic Optimizer: Maximum iterations (500) reached and the optimization hasn't converged yet.\n",
            "  warnings.warn(\n",
            "/Users/anthonygeglio/opt/anaconda3/envs/SAT4650/lib/python3.9/site-packages/sklearn/neural_network/_multilayer_perceptron.py:684: ConvergenceWarning: Stochastic Optimizer: Maximum iterations (500) reached and the optimization hasn't converged yet.\n",
            "  warnings.warn(\n",
            "/Users/anthonygeglio/opt/anaconda3/envs/SAT4650/lib/python3.9/site-packages/sklearn/neural_network/_multilayer_perceptron.py:684: ConvergenceWarning: Stochastic Optimizer: Maximum iterations (500) reached and the optimization hasn't converged yet.\n",
            "  warnings.warn(\n",
            "/Users/anthonygeglio/opt/anaconda3/envs/SAT4650/lib/python3.9/site-packages/sklearn/neural_network/_multilayer_perceptron.py:684: ConvergenceWarning: Stochastic Optimizer: Maximum iterations (500) reached and the optimization hasn't converged yet.\n",
            "  warnings.warn(\n",
            "/Users/anthonygeglio/opt/anaconda3/envs/SAT4650/lib/python3.9/site-packages/sklearn/neural_network/_multilayer_perceptron.py:684: ConvergenceWarning: Stochastic Optimizer: Maximum iterations (500) reached and the optimization hasn't converged yet.\n",
            "  warnings.warn(\n",
            "/Users/anthonygeglio/opt/anaconda3/envs/SAT4650/lib/python3.9/site-packages/sklearn/neural_network/_multilayer_perceptron.py:684: ConvergenceWarning: Stochastic Optimizer: Maximum iterations (500) reached and the optimization hasn't converged yet.\n",
            "  warnings.warn(\n",
            "/Users/anthonygeglio/opt/anaconda3/envs/SAT4650/lib/python3.9/site-packages/sklearn/neural_network/_multilayer_perceptron.py:684: ConvergenceWarning: Stochastic Optimizer: Maximum iterations (500) reached and the optimization hasn't converged yet.\n",
            "  warnings.warn(\n",
            "/Users/anthonygeglio/opt/anaconda3/envs/SAT4650/lib/python3.9/site-packages/sklearn/neural_network/_multilayer_perceptron.py:684: ConvergenceWarning: Stochastic Optimizer: Maximum iterations (500) reached and the optimization hasn't converged yet.\n",
            "  warnings.warn(\n",
            "/Users/anthonygeglio/opt/anaconda3/envs/SAT4650/lib/python3.9/site-packages/sklearn/neural_network/_multilayer_perceptron.py:684: ConvergenceWarning: Stochastic Optimizer: Maximum iterations (500) reached and the optimization hasn't converged yet.\n",
            "  warnings.warn(\n",
            "/Users/anthonygeglio/opt/anaconda3/envs/SAT4650/lib/python3.9/site-packages/sklearn/neural_network/_multilayer_perceptron.py:684: ConvergenceWarning: Stochastic Optimizer: Maximum iterations (500) reached and the optimization hasn't converged yet.\n",
            "  warnings.warn(\n",
            "/Users/anthonygeglio/opt/anaconda3/envs/SAT4650/lib/python3.9/site-packages/sklearn/neural_network/_multilayer_perceptron.py:684: ConvergenceWarning: Stochastic Optimizer: Maximum iterations (500) reached and the optimization hasn't converged yet.\n",
            "  warnings.warn(\n",
            "/Users/anthonygeglio/opt/anaconda3/envs/SAT4650/lib/python3.9/site-packages/sklearn/neural_network/_multilayer_perceptron.py:684: ConvergenceWarning: Stochastic Optimizer: Maximum iterations (500) reached and the optimization hasn't converged yet.\n",
            "  warnings.warn(\n",
            "/Users/anthonygeglio/opt/anaconda3/envs/SAT4650/lib/python3.9/site-packages/sklearn/neural_network/_multilayer_perceptron.py:684: ConvergenceWarning: Stochastic Optimizer: Maximum iterations (500) reached and the optimization hasn't converged yet.\n",
            "  warnings.warn(\n",
            "/Users/anthonygeglio/opt/anaconda3/envs/SAT4650/lib/python3.9/site-packages/sklearn/neural_network/_multilayer_perceptron.py:684: ConvergenceWarning: Stochastic Optimizer: Maximum iterations (500) reached and the optimization hasn't converged yet.\n",
            "  warnings.warn(\n",
            "/Users/anthonygeglio/opt/anaconda3/envs/SAT4650/lib/python3.9/site-packages/sklearn/neural_network/_multilayer_perceptron.py:684: ConvergenceWarning: Stochastic Optimizer: Maximum iterations (500) reached and the optimization hasn't converged yet.\n",
            "  warnings.warn(\n",
            "/Users/anthonygeglio/opt/anaconda3/envs/SAT4650/lib/python3.9/site-packages/sklearn/neural_network/_multilayer_perceptron.py:684: ConvergenceWarning: Stochastic Optimizer: Maximum iterations (500) reached and the optimization hasn't converged yet.\n",
            "  warnings.warn(\n",
            "/Users/anthonygeglio/opt/anaconda3/envs/SAT4650/lib/python3.9/site-packages/sklearn/neural_network/_multilayer_perceptron.py:684: ConvergenceWarning: Stochastic Optimizer: Maximum iterations (500) reached and the optimization hasn't converged yet.\n",
            "  warnings.warn(\n",
            "/Users/anthonygeglio/opt/anaconda3/envs/SAT4650/lib/python3.9/site-packages/sklearn/neural_network/_multilayer_perceptron.py:684: ConvergenceWarning: Stochastic Optimizer: Maximum iterations (500) reached and the optimization hasn't converged yet.\n",
            "  warnings.warn(\n",
            "/Users/anthonygeglio/opt/anaconda3/envs/SAT4650/lib/python3.9/site-packages/sklearn/neural_network/_multilayer_perceptron.py:684: ConvergenceWarning: Stochastic Optimizer: Maximum iterations (500) reached and the optimization hasn't converged yet.\n",
            "  warnings.warn(\n",
            "/Users/anthonygeglio/opt/anaconda3/envs/SAT4650/lib/python3.9/site-packages/sklearn/neural_network/_multilayer_perceptron.py:684: ConvergenceWarning: Stochastic Optimizer: Maximum iterations (500) reached and the optimization hasn't converged yet.\n",
            "  warnings.warn(\n",
            "/Users/anthonygeglio/opt/anaconda3/envs/SAT4650/lib/python3.9/site-packages/sklearn/neural_network/_multilayer_perceptron.py:684: ConvergenceWarning: Stochastic Optimizer: Maximum iterations (500) reached and the optimization hasn't converged yet.\n",
            "  warnings.warn(\n",
            "/Users/anthonygeglio/opt/anaconda3/envs/SAT4650/lib/python3.9/site-packages/sklearn/neural_network/_multilayer_perceptron.py:684: ConvergenceWarning: Stochastic Optimizer: Maximum iterations (500) reached and the optimization hasn't converged yet.\n",
            "  warnings.warn(\n",
            "/Users/anthonygeglio/opt/anaconda3/envs/SAT4650/lib/python3.9/site-packages/sklearn/neural_network/_multilayer_perceptron.py:684: ConvergenceWarning: Stochastic Optimizer: Maximum iterations (500) reached and the optimization hasn't converged yet.\n",
            "  warnings.warn(\n",
            "/Users/anthonygeglio/opt/anaconda3/envs/SAT4650/lib/python3.9/site-packages/sklearn/neural_network/_multilayer_perceptron.py:684: ConvergenceWarning: Stochastic Optimizer: Maximum iterations (500) reached and the optimization hasn't converged yet.\n",
            "  warnings.warn(\n",
            "/Users/anthonygeglio/opt/anaconda3/envs/SAT4650/lib/python3.9/site-packages/sklearn/neural_network/_multilayer_perceptron.py:684: ConvergenceWarning: Stochastic Optimizer: Maximum iterations (500) reached and the optimization hasn't converged yet.\n",
            "  warnings.warn(\n",
            "/Users/anthonygeglio/opt/anaconda3/envs/SAT4650/lib/python3.9/site-packages/sklearn/neural_network/_multilayer_perceptron.py:684: ConvergenceWarning: Stochastic Optimizer: Maximum iterations (500) reached and the optimization hasn't converged yet.\n",
            "  warnings.warn(\n",
            "/Users/anthonygeglio/opt/anaconda3/envs/SAT4650/lib/python3.9/site-packages/sklearn/neural_network/_multilayer_perceptron.py:684: ConvergenceWarning: Stochastic Optimizer: Maximum iterations (500) reached and the optimization hasn't converged yet.\n",
            "  warnings.warn(\n",
            "/Users/anthonygeglio/opt/anaconda3/envs/SAT4650/lib/python3.9/site-packages/sklearn/neural_network/_multilayer_perceptron.py:684: ConvergenceWarning: Stochastic Optimizer: Maximum iterations (500) reached and the optimization hasn't converged yet.\n",
            "  warnings.warn(\n",
            "/Users/anthonygeglio/opt/anaconda3/envs/SAT4650/lib/python3.9/site-packages/sklearn/neural_network/_multilayer_perceptron.py:684: ConvergenceWarning: Stochastic Optimizer: Maximum iterations (500) reached and the optimization hasn't converged yet.\n",
            "  warnings.warn(\n",
            "/Users/anthonygeglio/opt/anaconda3/envs/SAT4650/lib/python3.9/site-packages/sklearn/neural_network/_multilayer_perceptron.py:684: ConvergenceWarning: Stochastic Optimizer: Maximum iterations (500) reached and the optimization hasn't converged yet.\n",
            "  warnings.warn(\n",
            "/Users/anthonygeglio/opt/anaconda3/envs/SAT4650/lib/python3.9/site-packages/sklearn/neural_network/_multilayer_perceptron.py:684: ConvergenceWarning: Stochastic Optimizer: Maximum iterations (500) reached and the optimization hasn't converged yet.\n",
            "  warnings.warn(\n",
            "/Users/anthonygeglio/opt/anaconda3/envs/SAT4650/lib/python3.9/site-packages/sklearn/neural_network/_multilayer_perceptron.py:684: ConvergenceWarning: Stochastic Optimizer: Maximum iterations (500) reached and the optimization hasn't converged yet.\n",
            "  warnings.warn(\n",
            "/Users/anthonygeglio/opt/anaconda3/envs/SAT4650/lib/python3.9/site-packages/sklearn/neural_network/_multilayer_perceptron.py:684: ConvergenceWarning: Stochastic Optimizer: Maximum iterations (500) reached and the optimization hasn't converged yet.\n",
            "  warnings.warn(\n",
            "/Users/anthonygeglio/opt/anaconda3/envs/SAT4650/lib/python3.9/site-packages/sklearn/neural_network/_multilayer_perceptron.py:684: ConvergenceWarning: Stochastic Optimizer: Maximum iterations (500) reached and the optimization hasn't converged yet.\n",
            "  warnings.warn(\n",
            "/Users/anthonygeglio/opt/anaconda3/envs/SAT4650/lib/python3.9/site-packages/sklearn/neural_network/_multilayer_perceptron.py:684: ConvergenceWarning: Stochastic Optimizer: Maximum iterations (500) reached and the optimization hasn't converged yet.\n",
            "  warnings.warn(\n",
            "/Users/anthonygeglio/opt/anaconda3/envs/SAT4650/lib/python3.9/site-packages/sklearn/neural_network/_multilayer_perceptron.py:684: ConvergenceWarning: Stochastic Optimizer: Maximum iterations (500) reached and the optimization hasn't converged yet.\n",
            "  warnings.warn(\n",
            "/Users/anthonygeglio/opt/anaconda3/envs/SAT4650/lib/python3.9/site-packages/sklearn/neural_network/_multilayer_perceptron.py:684: ConvergenceWarning: Stochastic Optimizer: Maximum iterations (500) reached and the optimization hasn't converged yet.\n",
            "  warnings.warn(\n",
            "/Users/anthonygeglio/opt/anaconda3/envs/SAT4650/lib/python3.9/site-packages/sklearn/neural_network/_multilayer_perceptron.py:684: ConvergenceWarning: Stochastic Optimizer: Maximum iterations (500) reached and the optimization hasn't converged yet.\n",
            "  warnings.warn(\n",
            "/Users/anthonygeglio/opt/anaconda3/envs/SAT4650/lib/python3.9/site-packages/sklearn/neural_network/_multilayer_perceptron.py:684: ConvergenceWarning: Stochastic Optimizer: Maximum iterations (500) reached and the optimization hasn't converged yet.\n",
            "  warnings.warn(\n",
            "/Users/anthonygeglio/opt/anaconda3/envs/SAT4650/lib/python3.9/site-packages/sklearn/neural_network/_multilayer_perceptron.py:684: ConvergenceWarning: Stochastic Optimizer: Maximum iterations (500) reached and the optimization hasn't converged yet.\n",
            "  warnings.warn(\n",
            "/Users/anthonygeglio/opt/anaconda3/envs/SAT4650/lib/python3.9/site-packages/sklearn/neural_network/_multilayer_perceptron.py:684: ConvergenceWarning: Stochastic Optimizer: Maximum iterations (500) reached and the optimization hasn't converged yet.\n",
            "  warnings.warn(\n",
            "/Users/anthonygeglio/opt/anaconda3/envs/SAT4650/lib/python3.9/site-packages/sklearn/neural_network/_multilayer_perceptron.py:684: ConvergenceWarning: Stochastic Optimizer: Maximum iterations (500) reached and the optimization hasn't converged yet.\n",
            "  warnings.warn(\n",
            "/Users/anthonygeglio/opt/anaconda3/envs/SAT4650/lib/python3.9/site-packages/sklearn/neural_network/_multilayer_perceptron.py:684: ConvergenceWarning: Stochastic Optimizer: Maximum iterations (500) reached and the optimization hasn't converged yet.\n",
            "  warnings.warn(\n",
            "/Users/anthonygeglio/opt/anaconda3/envs/SAT4650/lib/python3.9/site-packages/sklearn/neural_network/_multilayer_perceptron.py:684: ConvergenceWarning: Stochastic Optimizer: Maximum iterations (500) reached and the optimization hasn't converged yet.\n",
            "  warnings.warn(\n",
            "/Users/anthonygeglio/opt/anaconda3/envs/SAT4650/lib/python3.9/site-packages/sklearn/neural_network/_multilayer_perceptron.py:684: ConvergenceWarning: Stochastic Optimizer: Maximum iterations (500) reached and the optimization hasn't converged yet.\n",
            "  warnings.warn(\n",
            "/Users/anthonygeglio/opt/anaconda3/envs/SAT4650/lib/python3.9/site-packages/sklearn/neural_network/_multilayer_perceptron.py:684: ConvergenceWarning: Stochastic Optimizer: Maximum iterations (500) reached and the optimization hasn't converged yet.\n",
            "  warnings.warn(\n",
            "/Users/anthonygeglio/opt/anaconda3/envs/SAT4650/lib/python3.9/site-packages/sklearn/neural_network/_multilayer_perceptron.py:684: ConvergenceWarning: Stochastic Optimizer: Maximum iterations (500) reached and the optimization hasn't converged yet.\n",
            "  warnings.warn(\n",
            "/Users/anthonygeglio/opt/anaconda3/envs/SAT4650/lib/python3.9/site-packages/sklearn/neural_network/_multilayer_perceptron.py:684: ConvergenceWarning: Stochastic Optimizer: Maximum iterations (500) reached and the optimization hasn't converged yet.\n",
            "  warnings.warn(\n",
            "/Users/anthonygeglio/opt/anaconda3/envs/SAT4650/lib/python3.9/site-packages/sklearn/neural_network/_multilayer_perceptron.py:684: ConvergenceWarning: Stochastic Optimizer: Maximum iterations (500) reached and the optimization hasn't converged yet.\n",
            "  warnings.warn(\n",
            "/Users/anthonygeglio/opt/anaconda3/envs/SAT4650/lib/python3.9/site-packages/sklearn/neural_network/_multilayer_perceptron.py:684: ConvergenceWarning: Stochastic Optimizer: Maximum iterations (500) reached and the optimization hasn't converged yet.\n",
            "  warnings.warn(\n",
            "/Users/anthonygeglio/opt/anaconda3/envs/SAT4650/lib/python3.9/site-packages/sklearn/neural_network/_multilayer_perceptron.py:684: ConvergenceWarning: Stochastic Optimizer: Maximum iterations (500) reached and the optimization hasn't converged yet.\n",
            "  warnings.warn(\n",
            "/Users/anthonygeglio/opt/anaconda3/envs/SAT4650/lib/python3.9/site-packages/sklearn/neural_network/_multilayer_perceptron.py:684: ConvergenceWarning: Stochastic Optimizer: Maximum iterations (500) reached and the optimization hasn't converged yet.\n",
            "  warnings.warn(\n",
            "/Users/anthonygeglio/opt/anaconda3/envs/SAT4650/lib/python3.9/site-packages/sklearn/neural_network/_multilayer_perceptron.py:684: ConvergenceWarning: Stochastic Optimizer: Maximum iterations (500) reached and the optimization hasn't converged yet.\n",
            "  warnings.warn(\n",
            "/Users/anthonygeglio/opt/anaconda3/envs/SAT4650/lib/python3.9/site-packages/sklearn/neural_network/_multilayer_perceptron.py:684: ConvergenceWarning: Stochastic Optimizer: Maximum iterations (500) reached and the optimization hasn't converged yet.\n",
            "  warnings.warn(\n",
            "/Users/anthonygeglio/opt/anaconda3/envs/SAT4650/lib/python3.9/site-packages/sklearn/neural_network/_multilayer_perceptron.py:684: ConvergenceWarning: Stochastic Optimizer: Maximum iterations (500) reached and the optimization hasn't converged yet.\n",
            "  warnings.warn(\n",
            "/Users/anthonygeglio/opt/anaconda3/envs/SAT4650/lib/python3.9/site-packages/sklearn/neural_network/_multilayer_perceptron.py:684: ConvergenceWarning: Stochastic Optimizer: Maximum iterations (500) reached and the optimization hasn't converged yet.\n",
            "  warnings.warn(\n",
            "/Users/anthonygeglio/opt/anaconda3/envs/SAT4650/lib/python3.9/site-packages/sklearn/neural_network/_multilayer_perceptron.py:684: ConvergenceWarning: Stochastic Optimizer: Maximum iterations (500) reached and the optimization hasn't converged yet.\n",
            "  warnings.warn(\n",
            "/Users/anthonygeglio/opt/anaconda3/envs/SAT4650/lib/python3.9/site-packages/sklearn/neural_network/_multilayer_perceptron.py:684: ConvergenceWarning: Stochastic Optimizer: Maximum iterations (500) reached and the optimization hasn't converged yet.\n",
            "  warnings.warn(\n",
            "/Users/anthonygeglio/opt/anaconda3/envs/SAT4650/lib/python3.9/site-packages/sklearn/neural_network/_multilayer_perceptron.py:684: ConvergenceWarning: Stochastic Optimizer: Maximum iterations (500) reached and the optimization hasn't converged yet.\n",
            "  warnings.warn(\n",
            "/Users/anthonygeglio/opt/anaconda3/envs/SAT4650/lib/python3.9/site-packages/sklearn/neural_network/_multilayer_perceptron.py:684: ConvergenceWarning: Stochastic Optimizer: Maximum iterations (500) reached and the optimization hasn't converged yet.\n",
            "  warnings.warn(\n"
          ]
        },
        {
          "name": "stdout",
          "output_type": "stream",
          "text": [
            "MLPClassifier(activation='logistic', alpha=0.01, hidden_layer_sizes=(10,),\n",
            "              max_iter=500)\n",
            "{'activation': 'logistic', 'alpha': 0.01, 'hidden_layer_sizes': (10,)}\n",
            "[x] performance for MLP classifier\n",
            "Training:\n",
            "AUC:0.996\n",
            "accuracy:0.985\n",
            "recall:0.992\n",
            "precision:0.984\n",
            "specificity:0.973\n",
            " \n",
            "Test:\n",
            "AUC:0.999\n",
            "accuracy:0.982\n",
            "recall:1.000\n",
            "precision:0.973\n",
            "specificity:0.952\n",
            " \n"
          ]
        },
        {
          "name": "stderr",
          "output_type": "stream",
          "text": [
            "/Users/anthonygeglio/opt/anaconda3/envs/SAT4650/lib/python3.9/site-packages/sklearn/neural_network/_multilayer_perceptron.py:684: ConvergenceWarning: Stochastic Optimizer: Maximum iterations (500) reached and the optimization hasn't converged yet.\n",
            "  warnings.warn(\n"
          ]
        }
      ],
      "source": [
        "def train_mlp(X_train, X_test, y_train, y_test, n_split=5):\n",
        "    from sklearn.neural_network import MLPClassifier\n",
        "    mlp = MLPClassifier(max_iter=500)\n",
        "\n",
        "    activation = ['identity', 'logistic', 'tanh', 'relu']\n",
        "    hidden_layer_sizes = [(10, 5), (20, 10), (40, 20), (40,), (20,), (10,)]\n",
        "    alpha = [0.01, 0.1, 1, 10]\n",
        "    parameters = {'activation': activation, 'hidden_layer_sizes': hidden_layer_sizes, 'alpha': alpha}\n",
        "    auc_scoring = make_scorer(roc_auc_score)\n",
        "    grid_clf = GridSearchCV(estimator=mlp, param_grid=parameters, cv=n_split, scoring=auc_scoring, verbose=0, n_jobs=-1)\n",
        "    grid_clf.fit(X_train, y_train)\n",
        "\n",
        "    print(grid_clf.best_estimator_)\n",
        "    print(grid_clf.best_params_)\n",
        "    performance_ = report_performance(grid_clf.best_estimator_, X_train, X_test, y_train, y_test, clf_name=\"MLP\")\n",
        "    return grid_clf.best_estimator_, grid_clf.best_params_, performance_\n",
        "best_estimator_, best_params_, mlp_performance_ = train_mlp(X_train, X_test, y_train, y_test, n_split=5)"
      ]
    },
    {
      "cell_type": "code",
      "execution_count": null,
      "metadata": {
        "id": "WKSs_-NY9-HM",
        "outputId": "e97ae7bc-9f24-43ce-b375-c65f60b33ae4"
      },
      "outputs": [
        {
          "name": "stdout",
          "output_type": "stream",
          "text": [
            "{'auc': 0.9975741893749495, 'acc': 0.9874371859296482, 'recall': 0.9959839357429718, 'precision': 0.9841269841269841, 'specificity': 0.9731543624161074}\n"
          ]
        },
        {
          "data": {
            "image/png": "[encoded data removed]",
            "text/plain": [
              "<Figure size 1200x700 with 6 Axes>"
            ]
          },
          "metadata": {},
          "output_type": "display_data"
        }
      ],
      "source": [
        "# svm_performance_, lr_performance_, dt_performance_, rf_performance_, mlp_performance_\n",
        "print(svm_performance_['train'])\n",
        "performances = [svm_performance_,lr_performance_, nb_performance_, dt_performance_, rf_performance_, mlp_performance_]\n",
        "models = [\"SVM\", \"Logistic Regression\",\"GaussianNB\", \"Decision Tree\", \"Random Forest\", \"Multi-layer perceptron\"]\n",
        "fig, ax = plt.subplots(2,3, figsize = (12,7), tight_layout=True)\n",
        "i=0\n",
        "for r in range(2):\n",
        "    for c in range(3):\n",
        "        ax[r][c].bar(height = performances[i]['train'].values(), \n",
        "                     x = list(performances[i]['train'].keys()),\n",
        "                     width = -0.25,\n",
        "                     align = 'edge',\n",
        "                     label = \"training\"\n",
        "                \n",
        "                     )\n",
        "        ax[r][c].bar(height = performances[i]['test'].values(), \n",
        "                     x = list(performances[i]['test'].keys()),\n",
        "                     width = 0.25,\n",
        "                     align = 'edge',\n",
        "                     label = \"test\"\n",
        "                     )\n",
        "        ax[r][c].set_ylim(0.9,1)\n",
        "        ax[r][c].set_title(f\"{models[i]}\")\n",
        "        i+=1\n",
        "plt.suptitle('Statistical Classifiers Performance')\n",
        "plt.legend()\n",
        "plt.show()"
      ]
    },
    {
      "cell_type": "markdown",
      "metadata": {
        "id": "qqvVy0kE9-HN"
      },
      "source": [
        "### Performance Summary\n",
        "The Figure above shows that SVM, followed by logistic regression, then MLP performed the best overall when considering the 5 different metrics on classifying the breast cancer data set. Specificity was generally lower meaning that we see a higher rate of false positives. Recall, however is very high meaning we have very few False negatives which may be important in healthcare. Models were optimized on AUC. Many models were able to perform well so a data scientist may also consider other factors such as speed and algorithmic efficiency of the model for use in the real world."
      ]
    },
    {
      "cell_type": "code",
      "execution_count": null,
      "metadata": {
        "id": "nw_v2u5c9-HN"
      },
      "outputs": [],
      "source": [
        "# import scipy\n",
        "# a = [1,2,3]\n",
        "# scipy.stats.zscore(a, axis=0, ddof=0, nan_policy='propagate')\n",
        "# a = pd.DataFrame(a)\n",
        "# # np.std(a)\n",
        "# a.std(ddof=0)"
      ]
    }
  ],
  "metadata": {
    "kernelspec": {
      "display_name": "SAT4650",
      "language": "python",
      "name": "python3"
    },
    "language_info": {
      "codemirror_mode": {
        "name": "ipython",
        "version": 3
      },
      "file_extension": ".py",
      "mimetype": "text/x-python",
      "name": "python",
      "nbconvert_exporter": "python",
      "pygments_lexer": "ipython3",
      "version": "3.9.13"
    },
    "orig_nbformat": 4,
    "vscode": {
      "interpreter": {
        "hash": "f12442272bb30baef420f10c6d7d480325a9da48aed8debcd357004413c5a5c1"
      }
    },
    "colab": {
      "provenance": [],
      "include_colab_link": true
    }
  },
  "nbformat": 4,
  "nbformat_minor": 0
}