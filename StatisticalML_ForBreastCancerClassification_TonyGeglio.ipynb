{
  "cells": [
    {
      "cell_type": "markdown",
      "metadata": {
        "id": "view-in-github",
        "colab_type": "text"
      },
      "source": [
        "<a href=\"https://colab.research.google.com/github/ajgeglio/ML_For_HealthCare/blob/main/StatisticalML_ForBreastCancerClassification_TonyGeglio.ipynb\" target=\"_parent\"><img src=\"https://colab.research.google.com/assets/colab-badge.svg\" alt=\"Open In Colab\"/></a>"
      ]
    },
    {
      "cell_type": "markdown",
      "metadata": {
        "id": "lIJZZ9T79-Gr"
      },
      "source": [
        "# Statistical ML for Breast Cancer Classification\n",
        "### Tony Geglio\n",
        "SAT5114\n",
        "\n",
        "Github Link: https://github.com/ajgeglio/ML_For_HealthCare/upload/main"
      ]
    },
    {
      "cell_type": "markdown",
      "metadata": {
        "id": "cNMo9o359-Gx"
      },
      "source": [
        "Requirements:\n",
        "\n",
        "1. use a k-fold cross-validation and a test dataset. Report the final performance for the test dataset.\n",
        "\n",
        "2. use gridsearch or randomsearch to tune the hyperparameters in your ML classifier;\n",
        "\n",
        "3. use GitHub to share your code. Make your GitHub project public.\n",
        "\n",
        "Options: Teamwork is allowed for this project. However, each team should have at maximum 3 members. Every team member should use a different ML classifier. In your submitted PDF file, please list your team members and your own contribution if you work in a team.\n",
        "\n",
        "Submission: 1.  one-page PDF file to explain your program, including GitHub code link to your implementation; 2. Screenshot of your results (showing accuracy, sensitivity (precision), and specificity)."
      ]
    },
    {
      "cell_type": "markdown",
      "metadata": {
        "id": "R5DLSH0x9-Gz"
      },
      "source": [
        "Example from: https://www.datacamp.com/tutorial/svm-classification-scikit-learn-python"
      ]
    },
    {
      "cell_type": "markdown",
      "metadata": {
        "id": "iUTZvjX_9-G0"
      },
      "source": [
        "Let's first load the required python packages"
      ]
    },
    {
      "cell_type": "code",
      "execution_count": 3,
      "metadata": {
        "id": "Po-42fnm9-G1"
      },
      "outputs": [],
      "source": [
        "# model selection and metrics\n",
        "from sklearn.model_selection import GridSearchCV\n",
        "from sklearn.model_selection import RandomizedSearchCV\n",
        "from sklearn import metrics\n",
        "from sklearn.metrics import make_scorer, roc_auc_score\n",
        "from sklearn.model_selection import train_test_split\n",
        "# Import scikit-learn dataset library\n",
        "from sklearn import datasets\n",
        "# keep track of times\n",
        "import time\n",
        "import matplotlib.pyplot as plt\n",
        "import numpy as np\n",
        "import pandas as pd\n",
        "import warnings\n",
        "\n",
        "from sklearn.preprocessing import StandardScaler\n"
      ]
    },
    {
      "cell_type": "markdown",
      "metadata": {
        "id": "0ePLjI2j9-G3"
      },
      "source": [
        "Exploring Data\n",
        "\n",
        "After you have load the dataset from sklearn, you might want to know a little bit more about it. You can check feature and target names."
      ]
    },
    {
      "cell_type": "code",
      "execution_count": 4,
      "metadata": {
        "colab": {
          "base_uri": "https://localhost:8080/"
        },
        "id": "UdxguV7Q9-G4",
        "outputId": "f75d7630-1398-4f75-827b-b15764fca9b8"
      },
      "outputs": [
        {
          "output_type": "stream",
          "name": "stdout",
          "text": [
            "Features:  ['mean radius' 'mean texture' 'mean perimeter' 'mean area'\n",
            " 'mean smoothness' 'mean compactness' 'mean concavity'\n",
            " 'mean concave points' 'mean symmetry' 'mean fractal dimension'\n",
            " 'radius error' 'texture error' 'perimeter error' 'area error'\n",
            " 'smoothness error' 'compactness error' 'concavity error'\n",
            " 'concave points error' 'symmetry error' 'fractal dimension error'\n",
            " 'worst radius' 'worst texture' 'worst perimeter' 'worst area'\n",
            " 'worst smoothness' 'worst compactness' 'worst concavity'\n",
            " 'worst concave points' 'worst symmetry' 'worst fractal dimension']\n",
            "Labels:  ['malignant' 'benign']\n"
          ]
        }
      ],
      "source": [
        "#Load dataset\n",
        "cancer = datasets.load_breast_cancer()\n",
        "# print the names of the 13 features\n",
        "print(\"Features: \", cancer.feature_names)\n",
        "\n",
        "# print the label type of cancer('malignant' 'benign')\n",
        "print(\"Labels: \", cancer.target_names)"
      ]
    },
    {
      "cell_type": "markdown",
      "metadata": {
        "id": "jGm0qQWH9-G7"
      },
      "source": [
        "Splitting Data\n",
        "\n",
        "To understand model performance, dividing the dataset into a training set and a test set is a good strategy.\n",
        "\n",
        "Split the dataset by using the function train_test_split(). you need to pass 3 parameters features, target, and test_set size. Additionally, you can use random_state to select records randomly."
      ]
    },
    {
      "cell_type": "code",
      "execution_count": 7,
      "metadata": {
        "colab": {
          "base_uri": "https://localhost:8080/",
          "height": 253
        },
        "id": "wX-_4j_99-G8",
        "outputId": "d5436ec3-92d9-4b0d-c09c-d8a85e89cd9b"
      },
      "outputs": [
        {
          "output_type": "stream",
          "name": "stdout",
          "text": [
            "(398, 30)\n"
          ]
        },
        {
          "output_type": "execute_result",
          "data": {
            "text/plain": [
              "      0      1       2      3        4        5         6        7       8   \\\n",
              "0  14.22  23.12   94.37  609.9  0.10750  0.24130  0.198100  0.06618  0.2384   \n",
              "1  11.20  29.37   70.67  386.0  0.07449  0.03558  0.000000  0.00000  0.1060   \n",
              "2  16.50  18.29  106.60  838.1  0.09686  0.08468  0.058620  0.04835  0.1495   \n",
              "3  12.46  12.83   78.83  477.3  0.07372  0.04043  0.007173  0.01149  0.1613   \n",
              "4  14.64  15.24   95.77  651.9  0.11320  0.13390  0.099660  0.07064  0.2116   \n",
              "\n",
              "        9   ...     20     21      22      23       24       25       26  \\\n",
              "0  0.07542  ...  15.74  37.18  106.40   762.4  0.15330  0.93270  0.84880   \n",
              "1  0.05502  ...  11.92  38.30   75.19   439.6  0.09267  0.05494  0.00000   \n",
              "2  0.05593  ...  18.13  25.45  117.20  1009.0  0.13380  0.16790  0.16630   \n",
              "3  0.06013  ...  13.19  16.36   83.24   534.0  0.09439  0.06477  0.01674   \n",
              "4  0.06346  ...  16.34  18.24  109.40   803.6  0.12770  0.30890  0.26040   \n",
              "\n",
              "        27      28       29  \n",
              "0  0.17720  0.5166  0.14460  \n",
              "1  0.00000  0.1566  0.05905  \n",
              "2  0.09123  0.2394  0.06469  \n",
              "3  0.02680  0.2280  0.07028  \n",
              "4  0.13970  0.3151  0.08473  \n",
              "\n",
              "[5 rows x 30 columns]"
            ],
            "text/html": [
              "\n",
              "  <div id=\"df-d87a9c95-548e-445d-9899-edcccc8bfd04\">\n",
              "    <div class=\"colab-df-container\">\n",
              "      <div>\n",
              "<style scoped>\n",
              "    .dataframe tbody tr th:only-of-type {\n",
              "        vertical-align: middle;\n",
              "    }\n",
              "\n",
              "    .dataframe tbody tr th {\n",
              "        vertical-align: top;\n",
              "    }\n",
              "\n",
              "    .dataframe thead th {\n",
              "        text-align: right;\n",
              "    }\n",
              "</style>\n",
              "<table border=\"1\" class=\"dataframe\">\n",
              "  <thead>\n",
              "    <tr style=\"text-align: right;\">\n",
              "      <th></th>\n",
              "      <th>0</th>\n",
              "      <th>1</th>\n",
              "      <th>2</th>\n",
              "      <th>3</th>\n",
              "      <th>4</th>\n",
              "      <th>5</th>\n",
              "      <th>6</th>\n",
              "      <th>7</th>\n",
              "      <th>8</th>\n",
              "      <th>9</th>\n",
              "      <th>...</th>\n",
              "      <th>20</th>\n",
              "      <th>21</th>\n",
              "      <th>22</th>\n",
              "      <th>23</th>\n",
              "      <th>24</th>\n",
              "      <th>25</th>\n",
              "      <th>26</th>\n",
              "      <th>27</th>\n",
              "      <th>28</th>\n",
              "      <th>29</th>\n",
              "    </tr>\n",
              "  </thead>\n",
              "  <tbody>\n",
              "    <tr>\n",
              "      <th>0</th>\n",
              "      <td>14.22</td>\n",
              "      <td>23.12</td>\n",
              "      <td>94.37</td>\n",
              "      <td>609.9</td>\n",
              "      <td>0.10750</td>\n",
              "      <td>0.24130</td>\n",
              "      <td>0.198100</td>\n",
              "      <td>0.06618</td>\n",
              "      <td>0.2384</td>\n",
              "      <td>0.07542</td>\n",
              "      <td>...</td>\n",
              "      <td>15.74</td>\n",
              "      <td>37.18</td>\n",
              "      <td>106.40</td>\n",
              "      <td>762.4</td>\n",
              "      <td>0.15330</td>\n",
              "      <td>0.93270</td>\n",
              "      <td>0.84880</td>\n",
              "      <td>0.17720</td>\n",
              "      <td>0.5166</td>\n",
              "      <td>0.14460</td>\n",
              "    </tr>\n",
              "    <tr>\n",
              "      <th>1</th>\n",
              "      <td>11.20</td>\n",
              "      <td>29.37</td>\n",
              "      <td>70.67</td>\n",
              "      <td>386.0</td>\n",
              "      <td>0.07449</td>\n",
              "      <td>0.03558</td>\n",
              "      <td>0.000000</td>\n",
              "      <td>0.00000</td>\n",
              "      <td>0.1060</td>\n",
              "      <td>0.05502</td>\n",
              "      <td>...</td>\n",
              "      <td>11.92</td>\n",
              "      <td>38.30</td>\n",
              "      <td>75.19</td>\n",
              "      <td>439.6</td>\n",
              "      <td>0.09267</td>\n",
              "      <td>0.05494</td>\n",
              "      <td>0.00000</td>\n",
              "      <td>0.00000</td>\n",
              "      <td>0.1566</td>\n",
              "      <td>0.05905</td>\n",
              "    </tr>\n",
              "    <tr>\n",
              "      <th>2</th>\n",
              "      <td>16.50</td>\n",
              "      <td>18.29</td>\n",
              "      <td>106.60</td>\n",
              "      <td>838.1</td>\n",
              "      <td>0.09686</td>\n",
              "      <td>0.08468</td>\n",
              "      <td>0.058620</td>\n",
              "      <td>0.04835</td>\n",
              "      <td>0.1495</td>\n",
              "      <td>0.05593</td>\n",
              "      <td>...</td>\n",
              "      <td>18.13</td>\n",
              "      <td>25.45</td>\n",
              "      <td>117.20</td>\n",
              "      <td>1009.0</td>\n",
              "      <td>0.13380</td>\n",
              "      <td>0.16790</td>\n",
              "      <td>0.16630</td>\n",
              "      <td>0.09123</td>\n",
              "      <td>0.2394</td>\n",
              "      <td>0.06469</td>\n",
              "    </tr>\n",
              "    <tr>\n",
              "      <th>3</th>\n",
              "      <td>12.46</td>\n",
              "      <td>12.83</td>\n",
              "      <td>78.83</td>\n",
              "      <td>477.3</td>\n",
              "      <td>0.07372</td>\n",
              "      <td>0.04043</td>\n",
              "      <td>0.007173</td>\n",
              "      <td>0.01149</td>\n",
              "      <td>0.1613</td>\n",
              "      <td>0.06013</td>\n",
              "      <td>...</td>\n",
              "      <td>13.19</td>\n",
              "      <td>16.36</td>\n",
              "      <td>83.24</td>\n",
              "      <td>534.0</td>\n",
              "      <td>0.09439</td>\n",
              "      <td>0.06477</td>\n",
              "      <td>0.01674</td>\n",
              "      <td>0.02680</td>\n",
              "      <td>0.2280</td>\n",
              "      <td>0.07028</td>\n",
              "    </tr>\n",
              "    <tr>\n",
              "      <th>4</th>\n",
              "      <td>14.64</td>\n",
              "      <td>15.24</td>\n",
              "      <td>95.77</td>\n",
              "      <td>651.9</td>\n",
              "      <td>0.11320</td>\n",
              "      <td>0.13390</td>\n",
              "      <td>0.099660</td>\n",
              "      <td>0.07064</td>\n",
              "      <td>0.2116</td>\n",
              "      <td>0.06346</td>\n",
              "      <td>...</td>\n",
              "      <td>16.34</td>\n",
              "      <td>18.24</td>\n",
              "      <td>109.40</td>\n",
              "      <td>803.6</td>\n",
              "      <td>0.12770</td>\n",
              "      <td>0.30890</td>\n",
              "      <td>0.26040</td>\n",
              "      <td>0.13970</td>\n",
              "      <td>0.3151</td>\n",
              "      <td>0.08473</td>\n",
              "    </tr>\n",
              "  </tbody>\n",
              "</table>\n",
              "<p>5 rows × 30 columns</p>\n",
              "</div>\n",
              "      <button class=\"colab-df-convert\" onclick=\"convertToInteractive('df-d87a9c95-548e-445d-9899-edcccc8bfd04')\"\n",
              "              title=\"Convert this dataframe to an interactive table.\"\n",
              "              style=\"display:none;\">\n",
              "        \n",
              "  <svg xmlns=\"http://www.w3.org/2000/svg\" height=\"24px\"viewBox=\"0 0 24 24\"\n",
              "       width=\"24px\">\n",
              "    <path d=\"M0 0h24v24H0V0z\" fill=\"none\"/>\n",
              "    <path d=\"M18.56 5.44l.94 2.06.94-2.06 2.06-.94-2.06-.94-.94-2.06-.94 2.06-2.06.94zm-11 1L8.5 8.5l.94-2.06 2.06-.94-2.06-.94L8.5 2.5l-.94 2.06-2.06.94zm10 10l.94 2.06.94-2.06 2.06-.94-2.06-.94-.94-2.06-.94 2.06-2.06.94z\"/><path d=\"M17.41 7.96l-1.37-1.37c-.4-.4-.92-.59-1.43-.59-.52 0-1.04.2-1.43.59L10.3 9.45l-7.72 7.72c-.78.78-.78 2.05 0 2.83L4 21.41c.39.39.9.59 1.41.59.51 0 1.02-.2 1.41-.59l7.78-7.78 2.81-2.81c.8-.78.8-2.07 0-2.86zM5.41 20L4 18.59l7.72-7.72 1.47 1.35L5.41 20z\"/>\n",
              "  </svg>\n",
              "      </button>\n",
              "      \n",
              "  <style>\n",
              "    .colab-df-container {\n",
              "      display:flex;\n",
              "      flex-wrap:wrap;\n",
              "      gap: 12px;\n",
              "    }\n",
              "\n",
              "    .colab-df-convert {\n",
              "      background-color: #E8F0FE;\n",
              "      border: none;\n",
              "      border-radius: 50%;\n",
              "      cursor: pointer;\n",
              "      display: none;\n",
              "      fill: #1967D2;\n",
              "      height: 32px;\n",
              "      padding: 0 0 0 0;\n",
              "      width: 32px;\n",
              "    }\n",
              "\n",
              "    .colab-df-convert:hover {\n",
              "      background-color: #E2EBFA;\n",
              "      box-shadow: 0px 1px 2px rgba(60, 64, 67, 0.3), 0px 1px 3px 1px rgba(60, 64, 67, 0.15);\n",
              "      fill: #174EA6;\n",
              "    }\n",
              "\n",
              "    [theme=dark] .colab-df-convert {\n",
              "      background-color: #3B4455;\n",
              "      fill: #D2E3FC;\n",
              "    }\n",
              "\n",
              "    [theme=dark] .colab-df-convert:hover {\n",
              "      background-color: #434B5C;\n",
              "      box-shadow: 0px 1px 3px 1px rgba(0, 0, 0, 0.15);\n",
              "      filter: drop-shadow(0px 1px 2px rgba(0, 0, 0, 0.3));\n",
              "      fill: #FFFFFF;\n",
              "    }\n",
              "  </style>\n",
              "\n",
              "      <script>\n",
              "        const buttonEl =\n",
              "          document.querySelector('#df-d87a9c95-548e-445d-9899-edcccc8bfd04 button.colab-df-convert');\n",
              "        buttonEl.style.display =\n",
              "          google.colab.kernel.accessAllowed ? 'block' : 'none';\n",
              "\n",
              "        async function convertToInteractive(key) {\n",
              "          const element = document.querySelector('#df-d87a9c95-548e-445d-9899-edcccc8bfd04');\n",
              "          const dataTable =\n",
              "            await google.colab.kernel.invokeFunction('convertToInteractive',\n",
              "                                                     [key], {});\n",
              "          if (!dataTable) return;\n",
              "\n",
              "          const docLinkHtml = 'Like what you see? Visit the ' +\n",
              "            '<a target=\"_blank\" href=https://colab.research.google.com/notebooks/data_table.ipynb>data table notebook</a>'\n",
              "            + ' to learn more about interactive tables.';\n",
              "          element.innerHTML = '';\n",
              "          dataTable['output_type'] = 'display_data';\n",
              "          await google.colab.output.renderOutput(dataTable, element);\n",
              "          const docLink = document.createElement('div');\n",
              "          docLink.innerHTML = docLinkHtml;\n",
              "          element.appendChild(docLink);\n",
              "        }\n",
              "      </script>\n",
              "    </div>\n",
              "  </div>\n",
              "  "
            ]
          },
          "metadata": {},
          "execution_count": 7
        }
      ],
      "source": [
        "# Split dataset into training set and test set\n",
        "X_train, X_test, y_train, y_test = train_test_split(cancer.data, cancer.target, test_size=0.3,random_state=109) # 70% training and 30% test\n",
        "i = 0\n",
        "print(X_train.shape)\n",
        "pd.DataFrame(X_train)[0:5]"
      ]
    },
    {
      "cell_type": "markdown",
      "metadata": {
        "id": "UEYnMERa9-G-"
      },
      "source": [
        "The shape method shows us that we have 30 attributes and 398 samples. Also, a quick look at the data indicates that we should standardize the data so that distance based methods can work"
      ]
    },
    {
      "cell_type": "code",
      "execution_count": 10,
      "metadata": {
        "colab": {
          "base_uri": "https://localhost:8080/",
          "height": 236
        },
        "id": "FnxnkTz59-HA",
        "outputId": "eb516d7d-e97d-46d8-f30c-b4a65554b527"
      },
      "outputs": [
        {
          "output_type": "execute_result",
          "data": {
            "text/plain": [
              "         0         1         2         3         4         5         6   \\\n",
              "0  0.012286  0.914711  0.086605 -0.138496  0.795843  2.601089  1.367293   \n",
              "1 -0.838006  2.395669 -0.881154 -0.760920 -1.526226 -1.277537 -1.106860   \n",
              "2  0.654228 -0.229773  0.586002  0.495882  0.047378 -0.351810 -0.374730   \n",
              "3 -0.483248 -1.523538 -0.547951 -0.507113 -1.580391 -1.186096 -1.017273   \n",
              "4  0.130538 -0.952481  0.143773 -0.021739  1.196806  0.576179  0.137835   \n",
              "\n",
              "         7         8         9   ...        20        21        22        23  \\\n",
              "0  0.449164  2.071438  1.814805  ... -0.115479  1.925243 -0.029608 -0.209443   \n",
              "1 -1.258767 -2.727653 -1.083879  ... -0.901214  2.113081 -0.954508 -0.762517   \n",
              "2 -0.010982 -1.150912 -0.954575  ...  0.376120 -0.042029  0.290447  0.213073   \n",
              "3 -0.962241 -0.723199 -0.357787  ... -0.639988 -1.566539 -0.715948 -0.600775   \n",
              "4  0.564264  1.100021  0.115380  ...  0.007935 -1.251239  0.059296 -0.138852   \n",
              "\n",
              "         24        25        26        27        28        29  \n",
              "0  0.932552  4.347375  2.796378  0.962696  3.550718  3.423548  \n",
              "1 -1.690963 -1.242676 -1.300390 -1.738191 -2.108936 -1.359906  \n",
              "2  0.088770 -0.523286 -0.497736 -0.347661 -0.807216 -1.044551  \n",
              "3 -1.616537 -1.180073 -1.219594 -1.329705 -0.986438 -0.731991  \n",
              "4 -0.175183  0.374679 -0.043559  0.391120  0.382884  0.075969  \n",
              "\n",
              "[5 rows x 30 columns]"
            ],
            "text/html": [
              "\n",
              "  <div id=\"df-ce9ac223-c4a5-4245-bd06-19fafcf6e67c\">\n",
              "    <div class=\"colab-df-container\">\n",
              "      <div>\n",
              "<style scoped>\n",
              "    .dataframe tbody tr th:only-of-type {\n",
              "        vertical-align: middle;\n",
              "    }\n",
              "\n",
              "    .dataframe tbody tr th {\n",
              "        vertical-align: top;\n",
              "    }\n",
              "\n",
              "    .dataframe thead th {\n",
              "        text-align: right;\n",
              "    }\n",
              "</style>\n",
              "<table border=\"1\" class=\"dataframe\">\n",
              "  <thead>\n",
              "    <tr style=\"text-align: right;\">\n",
              "      <th></th>\n",
              "      <th>0</th>\n",
              "      <th>1</th>\n",
              "      <th>2</th>\n",
              "      <th>3</th>\n",
              "      <th>4</th>\n",
              "      <th>5</th>\n",
              "      <th>6</th>\n",
              "      <th>7</th>\n",
              "      <th>8</th>\n",
              "      <th>9</th>\n",
              "      <th>...</th>\n",
              "      <th>20</th>\n",
              "      <th>21</th>\n",
              "      <th>22</th>\n",
              "      <th>23</th>\n",
              "      <th>24</th>\n",
              "      <th>25</th>\n",
              "      <th>26</th>\n",
              "      <th>27</th>\n",
              "      <th>28</th>\n",
              "      <th>29</th>\n",
              "    </tr>\n",
              "  </thead>\n",
              "  <tbody>\n",
              "    <tr>\n",
              "      <th>0</th>\n",
              "      <td>0.012286</td>\n",
              "      <td>0.914711</td>\n",
              "      <td>0.086605</td>\n",
              "      <td>-0.138496</td>\n",
              "      <td>0.795843</td>\n",
              "      <td>2.601089</td>\n",
              "      <td>1.367293</td>\n",
              "      <td>0.449164</td>\n",
              "      <td>2.071438</td>\n",
              "      <td>1.814805</td>\n",
              "      <td>...</td>\n",
              "      <td>-0.115479</td>\n",
              "      <td>1.925243</td>\n",
              "      <td>-0.029608</td>\n",
              "      <td>-0.209443</td>\n",
              "      <td>0.932552</td>\n",
              "      <td>4.347375</td>\n",
              "      <td>2.796378</td>\n",
              "      <td>0.962696</td>\n",
              "      <td>3.550718</td>\n",
              "      <td>3.423548</td>\n",
              "    </tr>\n",
              "    <tr>\n",
              "      <th>1</th>\n",
              "      <td>-0.838006</td>\n",
              "      <td>2.395669</td>\n",
              "      <td>-0.881154</td>\n",
              "      <td>-0.760920</td>\n",
              "      <td>-1.526226</td>\n",
              "      <td>-1.277537</td>\n",
              "      <td>-1.106860</td>\n",
              "      <td>-1.258767</td>\n",
              "      <td>-2.727653</td>\n",
              "      <td>-1.083879</td>\n",
              "      <td>...</td>\n",
              "      <td>-0.901214</td>\n",
              "      <td>2.113081</td>\n",
              "      <td>-0.954508</td>\n",
              "      <td>-0.762517</td>\n",
              "      <td>-1.690963</td>\n",
              "      <td>-1.242676</td>\n",
              "      <td>-1.300390</td>\n",
              "      <td>-1.738191</td>\n",
              "      <td>-2.108936</td>\n",
              "      <td>-1.359906</td>\n",
              "    </tr>\n",
              "    <tr>\n",
              "      <th>2</th>\n",
              "      <td>0.654228</td>\n",
              "      <td>-0.229773</td>\n",
              "      <td>0.586002</td>\n",
              "      <td>0.495882</td>\n",
              "      <td>0.047378</td>\n",
              "      <td>-0.351810</td>\n",
              "      <td>-0.374730</td>\n",
              "      <td>-0.010982</td>\n",
              "      <td>-1.150912</td>\n",
              "      <td>-0.954575</td>\n",
              "      <td>...</td>\n",
              "      <td>0.376120</td>\n",
              "      <td>-0.042029</td>\n",
              "      <td>0.290447</td>\n",
              "      <td>0.213073</td>\n",
              "      <td>0.088770</td>\n",
              "      <td>-0.523286</td>\n",
              "      <td>-0.497736</td>\n",
              "      <td>-0.347661</td>\n",
              "      <td>-0.807216</td>\n",
              "      <td>-1.044551</td>\n",
              "    </tr>\n",
              "    <tr>\n",
              "      <th>3</th>\n",
              "      <td>-0.483248</td>\n",
              "      <td>-1.523538</td>\n",
              "      <td>-0.547951</td>\n",
              "      <td>-0.507113</td>\n",
              "      <td>-1.580391</td>\n",
              "      <td>-1.186096</td>\n",
              "      <td>-1.017273</td>\n",
              "      <td>-0.962241</td>\n",
              "      <td>-0.723199</td>\n",
              "      <td>-0.357787</td>\n",
              "      <td>...</td>\n",
              "      <td>-0.639988</td>\n",
              "      <td>-1.566539</td>\n",
              "      <td>-0.715948</td>\n",
              "      <td>-0.600775</td>\n",
              "      <td>-1.616537</td>\n",
              "      <td>-1.180073</td>\n",
              "      <td>-1.219594</td>\n",
              "      <td>-1.329705</td>\n",
              "      <td>-0.986438</td>\n",
              "      <td>-0.731991</td>\n",
              "    </tr>\n",
              "    <tr>\n",
              "      <th>4</th>\n",
              "      <td>0.130538</td>\n",
              "      <td>-0.952481</td>\n",
              "      <td>0.143773</td>\n",
              "      <td>-0.021739</td>\n",
              "      <td>1.196806</td>\n",
              "      <td>0.576179</td>\n",
              "      <td>0.137835</td>\n",
              "      <td>0.564264</td>\n",
              "      <td>1.100021</td>\n",
              "      <td>0.115380</td>\n",
              "      <td>...</td>\n",
              "      <td>0.007935</td>\n",
              "      <td>-1.251239</td>\n",
              "      <td>0.059296</td>\n",
              "      <td>-0.138852</td>\n",
              "      <td>-0.175183</td>\n",
              "      <td>0.374679</td>\n",
              "      <td>-0.043559</td>\n",
              "      <td>0.391120</td>\n",
              "      <td>0.382884</td>\n",
              "      <td>0.075969</td>\n",
              "    </tr>\n",
              "  </tbody>\n",
              "</table>\n",
              "<p>5 rows × 30 columns</p>\n",
              "</div>\n",
              "      <button class=\"colab-df-convert\" onclick=\"convertToInteractive('df-ce9ac223-c4a5-4245-bd06-19fafcf6e67c')\"\n",
              "              title=\"Convert this dataframe to an interactive table.\"\n",
              "              style=\"display:none;\">\n",
              "        \n",
              "  <svg xmlns=\"http://www.w3.org/2000/svg\" height=\"24px\"viewBox=\"0 0 24 24\"\n",
              "       width=\"24px\">\n",
              "    <path d=\"M0 0h24v24H0V0z\" fill=\"none\"/>\n",
              "    <path d=\"M18.56 5.44l.94 2.06.94-2.06 2.06-.94-2.06-.94-.94-2.06-.94 2.06-2.06.94zm-11 1L8.5 8.5l.94-2.06 2.06-.94-2.06-.94L8.5 2.5l-.94 2.06-2.06.94zm10 10l.94 2.06.94-2.06 2.06-.94-2.06-.94-.94-2.06-.94 2.06-2.06.94z\"/><path d=\"M17.41 7.96l-1.37-1.37c-.4-.4-.92-.59-1.43-.59-.52 0-1.04.2-1.43.59L10.3 9.45l-7.72 7.72c-.78.78-.78 2.05 0 2.83L4 21.41c.39.39.9.59 1.41.59.51 0 1.02-.2 1.41-.59l7.78-7.78 2.81-2.81c.8-.78.8-2.07 0-2.86zM5.41 20L4 18.59l7.72-7.72 1.47 1.35L5.41 20z\"/>\n",
              "  </svg>\n",
              "      </button>\n",
              "      \n",
              "  <style>\n",
              "    .colab-df-container {\n",
              "      display:flex;\n",
              "      flex-wrap:wrap;\n",
              "      gap: 12px;\n",
              "    }\n",
              "\n",
              "    .colab-df-convert {\n",
              "      background-color: #E8F0FE;\n",
              "      border: none;\n",
              "      border-radius: 50%;\n",
              "      cursor: pointer;\n",
              "      display: none;\n",
              "      fill: #1967D2;\n",
              "      height: 32px;\n",
              "      padding: 0 0 0 0;\n",
              "      width: 32px;\n",
              "    }\n",
              "\n",
              "    .colab-df-convert:hover {\n",
              "      background-color: #E2EBFA;\n",
              "      box-shadow: 0px 1px 2px rgba(60, 64, 67, 0.3), 0px 1px 3px 1px rgba(60, 64, 67, 0.15);\n",
              "      fill: #174EA6;\n",
              "    }\n",
              "\n",
              "    [theme=dark] .colab-df-convert {\n",
              "      background-color: #3B4455;\n",
              "      fill: #D2E3FC;\n",
              "    }\n",
              "\n",
              "    [theme=dark] .colab-df-convert:hover {\n",
              "      background-color: #434B5C;\n",
              "      box-shadow: 0px 1px 3px 1px rgba(0, 0, 0, 0.15);\n",
              "      filter: drop-shadow(0px 1px 2px rgba(0, 0, 0, 0.3));\n",
              "      fill: #FFFFFF;\n",
              "    }\n",
              "  </style>\n",
              "\n",
              "      <script>\n",
              "        const buttonEl =\n",
              "          document.querySelector('#df-ce9ac223-c4a5-4245-bd06-19fafcf6e67c button.colab-df-convert');\n",
              "        buttonEl.style.display =\n",
              "          google.colab.kernel.accessAllowed ? 'block' : 'none';\n",
              "\n",
              "        async function convertToInteractive(key) {\n",
              "          const element = document.querySelector('#df-ce9ac223-c4a5-4245-bd06-19fafcf6e67c');\n",
              "          const dataTable =\n",
              "            await google.colab.kernel.invokeFunction('convertToInteractive',\n",
              "                                                     [key], {});\n",
              "          if (!dataTable) return;\n",
              "\n",
              "          const docLinkHtml = 'Like what you see? Visit the ' +\n",
              "            '<a target=\"_blank\" href=https://colab.research.google.com/notebooks/data_table.ipynb>data table notebook</a>'\n",
              "            + ' to learn more about interactive tables.';\n",
              "          element.innerHTML = '';\n",
              "          dataTable['output_type'] = 'display_data';\n",
              "          await google.colab.output.renderOutput(dataTable, element);\n",
              "          const docLink = document.createElement('div');\n",
              "          docLink.innerHTML = docLinkHtml;\n",
              "          element.appendChild(docLink);\n",
              "        }\n",
              "      </script>\n",
              "    </div>\n",
              "  </div>\n",
              "  "
            ]
          },
          "metadata": {},
          "execution_count": 10
        }
      ],
      "source": [
        "scaler = StandardScaler()\n",
        "if i == 0:\n",
        "    scaler.fit(X_train)\n",
        "    X_train = scaler.transform(X_train)\n",
        "    X_test = scaler.transform(X_test)\n",
        "    i+=1\n",
        "else: pass\n",
        "pd.DataFrame(X_train)[0:5]"
      ]
    },
    {
      "cell_type": "markdown",
      "metadata": {
        "id": "6lydZXA79-HB"
      },
      "source": [
        "### Generating SVM Model (example)\n",
        "\n",
        "Let's build support vector machine model. First, import the SVM module and create support vector classifier object by passing argument kernel as the linear kernel in SVC() function.\n",
        "\n",
        "Then, fit your model on train set using fit() and perform prediction on the test set using predict()."
      ]
    },
    {
      "cell_type": "code",
      "execution_count": 11,
      "metadata": {
        "colab": {
          "base_uri": "https://localhost:8080/"
        },
        "id": "wPp-7qTn9-HC",
        "outputId": "4d484a4b-6c7b-4f5d-8ce2-677cc76f919c"
      },
      "outputs": [
        {
          "output_type": "stream",
          "name": "stdout",
          "text": [
            "Accuracy: 0.9883040935672515\n",
            "Precision: 0.9818181818181818\n",
            "Recall: 1.0\n"
          ]
        }
      ],
      "source": [
        "# Supplied example\n",
        "\n",
        "#Create a svm Classifier\n",
        "clf = svm.SVC(kernel='linear') # Linear Kernel\n",
        "\n",
        "#Train the model using the training sets\n",
        "clf.fit(X_train, y_train)\n",
        "\n",
        "#Predict the response for test dataset\n",
        "y_pred = clf.predict(X_test)\n",
        "# Model Accuracy: how often is the classifier correct?\n",
        "print(\"Accuracy:\",metrics.accuracy_score(y_test, y_pred))\n",
        "# Model Precision: what percentage of positive tuples are labeled as such?\n",
        "print(\"Precision:\",metrics.precision_score(y_test, y_pred))\n",
        "# Model Recall: what percentage of positive tuples are labelled as such?\n",
        "print(\"Recall:\",metrics.recall_score(y_test, y_pred))"
      ]
    },
    {
      "cell_type": "markdown",
      "metadata": {
        "id": "7QHj74Mx9-HC"
      },
      "source": [
        "96.49%, is a good accuracy.\n",
        "\n",
        "For further evaluation, you can also check precision and recall of model. \n",
        "\n",
        "We will also use gridsearch parameter tuning and 5-fold cross validation..."
      ]
    },
    {
      "cell_type": "markdown",
      "metadata": {
        "id": "zzL0mFBp9-HD"
      },
      "source": [
        "## Performance report functions \n",
        "### Adapted from ml4covid.py"
      ]
    },
    {
      "cell_type": "code",
      "execution_count": 12,
      "metadata": {
        "id": "KfcgiLuL9-HD"
      },
      "outputs": [],
      "source": [
        "def calc_specificity(y_actual, y_pred, thresh=0.5):\n",
        "    # calculates specificity\n",
        "    return sum((y_pred < thresh) & (y_actual == 0)) / sum(y_actual == 0)\n",
        "\n",
        "def print_report(y_actual, y_pred, thresh):\n",
        "    auc = roc_auc_score(y_actual, y_pred)\n",
        "    accuracy = metrics.accuracy_score(y_actual, (y_pred > thresh))\n",
        "    recall = metrics.recall_score(y_actual, (y_pred > thresh))\n",
        "    precision = metrics.precision_score(y_actual, (y_pred > thresh))\n",
        "    specificity = calc_specificity(y_actual, y_pred, thresh)\n",
        "    print('AUC:%.3f' % auc)\n",
        "    print('accuracy:%.3f' % accuracy)\n",
        "    print('recall:%.3f' % recall)\n",
        "    print('precision:%.3f' % precision)\n",
        "    print('specificity:%.3f' % specificity)\n",
        "    print(' ')\n",
        "    return auc, accuracy, recall, precision, specificity\n",
        "\n",
        "def report_performance(clf, X_train, X_test, y_train, y_test, thresh=0.5, clf_name=\"CLF\"):\n",
        "    print(\"[x] performance for {} classifier\".format(clf_name))\n",
        "    y_train_preds = clf.predict_proba(X_train)[:, 1]\n",
        "    y_test_preds = clf.predict_proba(X_test)[:, 1]\n",
        "    print('Training:')\n",
        "    train_auc, train_accuracy, train_recall, train_precision, train_specificity = print_report(y_train, y_train_preds,\n",
        "                                                                                               thresh)\n",
        "    print('Test:')\n",
        "    test_auc, test_accuracy, test_recall, test_precision, test_specificity = print_report(y_test, y_test_preds, thresh)\n",
        "    return {\"train\": {\"auc\": train_auc, \"acc\": train_accuracy, \"recall\": train_recall, \"precision\": train_precision,\n",
        "                      \"specificity\": train_specificity},\n",
        "            \"test\": {\"auc\": test_auc, \"acc\": test_accuracy, \"recall\": test_recall, \"precision\": test_precision,\n",
        "                     \"specificity\": test_specificity}}"
      ]
    },
    {
      "cell_type": "markdown",
      "metadata": {
        "id": "hApHRbVk9-HE"
      },
      "source": [
        "## SVM Model\n",
        "### Code adapted from ml4covid19.py\n",
        "#### Best Model performance\n",
        "\n",
        "SVC(C=0.1, gamma=0.1, kernel='linear', max_iter=1000000, probability=True)\n",
        "{'C': 0.1, 'gamma': 0.1, 'kernel': 'linear'}\\\n",
        "[x] performance for SVM classifier\\\n",
        "Training:\\\n",
        "AUC:0.991\\\n",
        "accuracy:0.955\\\n",
        "recall:0.980\\\n",
        "precision:0.949\\\n",
        "specificity:0.913\n",
        " \n",
        "Test:\\\n",
        "AUC:0.997\\\n",
        "accuracy:0.959\\\n",
        "recall:0.972\\\n",
        "precision:0.963\\\n",
        "specificity:0.937"
      ]
    },
    {
      "cell_type": "code",
      "execution_count": 25,
      "metadata": {
        "colab": {
          "base_uri": "https://localhost:8080/"
        },
        "id": "dLFww_fC9-HE",
        "outputId": "fb9326e9-e4e1-48cf-c987-b2020817d0f6"
      },
      "outputs": [
        {
          "output_type": "stream",
          "name": "stdout",
          "text": [
            "SVC(C=10, gamma=0.01, max_iter=10000, probability=True)\n",
            "{'C': 10, 'gamma': 0.01, 'kernel': 'rbf'}\n",
            "[x] performance for SVM classifier\n",
            "Training:\n",
            "AUC:0.998\n",
            "accuracy:0.987\n",
            "recall:0.996\n",
            "precision:0.984\n",
            "specificity:0.973\n",
            " \n",
            "Test:\n",
            "AUC:0.998\n",
            "accuracy:0.982\n",
            "recall:1.000\n",
            "precision:0.973\n",
            "specificity:0.952\n",
            " \n"
          ]
        }
      ],
      "source": [
        "def train_svm(X_train, X_test, y_train, y_test, n_split=5):\n",
        "    from sklearn import svm\n",
        "    svc = svm.SVC(probability=True, max_iter=10000)\n",
        "    warnings.filterwarnings(\"ignore\")\n",
        "    parameters = {'C': [1e-1, 1, 10, 100],\n",
        "                  'gamma': [0.1, 0.01],\n",
        "                  'kernel': ['linear', 'rbf', 'sigmoid']}\n",
        "    # parameters = {'C': [1],\n",
        "    #               'gamma': [0.001],\n",
        "    #               'kernel': ['linear', 'rbf', 'sigmoid']}\n",
        "    auc_scoring = make_scorer(roc_auc_score)\n",
        "    if n_split == 1:\n",
        "        grid_clf = GridSearchCV(estimator=svc, param_grid=parameters, cv=[(slice(None), slice(None))],\n",
        "                                scoring=auc_scoring, verbose=0)\n",
        "    else:\n",
        "        grid_clf = GridSearchCV(estimator=svc, param_grid=parameters, cv=n_split, scoring=auc_scoring, verbose=0)\n",
        "    grid_clf.fit(X_train, y_train)\n",
        "\n",
        "    print(grid_clf.best_estimator_)\n",
        "    print(grid_clf.best_params_)\n",
        "    performance_ = report_performance(grid_clf.best_estimator_, X_train, X_test, y_train, y_test, clf_name=\"SVM\")\n",
        "    return grid_clf.best_estimator_, grid_clf.best_params_, performance_\n",
        "best_estimator_, best_params_, svm_performance_ = train_svm(X_train, X_test, y_train, y_test, n_split=5)"
      ]
    },
    {
      "cell_type": "markdown",
      "metadata": {
        "id": "lOkTUevj9-HF"
      },
      "source": [
        "## Logistic Regression Model\n",
        "### Code adapted from ml4covid.py\n",
        "#### Best Model Results\n",
        "LogisticRegression(C=1000, random_state=42)\n",
        "{'C': 1000, 'penalty': 'l2'}\n",
        "[x] performance for LR classifier\n",
        "\n",
        "Training:\\\n",
        "AUC:0.989\\\n",
        "accuracy:0.950\\\n",
        "recall:0.972\\\n",
        "precision:0.949\\\n",
        "specificity:0.913\n",
        " \n",
        "Test:\\\n",
        "AUC:0.992\\\n",
        "accuracy:0.947\\\n",
        "recall:0.954\\\n",
        "precision:0.963\\\n",
        "specificity:0.937"
      ]
    },
    {
      "cell_type": "code",
      "execution_count": 24,
      "metadata": {
        "colab": {
          "base_uri": "https://localhost:8080/"
        },
        "id": "t1wlncsD9-HF",
        "outputId": "215098ce-e617-4837-fb31-41bc718c5fc5"
      },
      "outputs": [
        {
          "output_type": "stream",
          "name": "stdout",
          "text": [
            "Fitting 5 folds for each of 8 candidates, totalling 40 fits\n",
            "LogisticRegression(C=0.1, max_iter=100000, random_state=42)\n",
            "{'C': 0.1, 'penalty': 'l2'}\n",
            "[x] performance for LR classifier\n",
            "Training:\n",
            "AUC:0.995\n",
            "accuracy:0.980\n",
            "recall:0.992\n",
            "precision:0.976\n",
            "specificity:0.960\n",
            " \n",
            "Test:\n",
            "AUC:0.999\n",
            "accuracy:0.982\n",
            "recall:1.000\n",
            "precision:0.973\n",
            "specificity:0.952\n",
            " \n"
          ]
        }
      ],
      "source": [
        "def train_lr(X_train, X_test, y_train, y_test, n_split=5):\n",
        "    from sklearn.linear_model import LogisticRegression\n",
        "    lr = LogisticRegression(random_state=42, max_iter = 100000)\n",
        "    warnings.filterwarnings(\"ignore\")\n",
        "    parameters = {'C': [1e-2, 1e-1, 1, 10],\n",
        "                  'penalty': [ \"l2\", \"elasticnet\"]}\n",
        "    auc_scoring = make_scorer(roc_auc_score)\n",
        "    if n_split == 1:\n",
        "        grid_clf = GridSearchCV(estimator=lr, param_grid=parameters, cv=[(slice(None), slice(None))],\n",
        "                                scoring=auc_scoring, verbose=1)\n",
        "    else:\n",
        "        grid_clf = GridSearchCV(estimator=lr, param_grid=parameters, cv=n_split, scoring=auc_scoring, verbose=1)\n",
        "    grid_clf.fit(X_train, y_train)\n",
        "\n",
        "    print(grid_clf.best_estimator_)\n",
        "    print(grid_clf.best_params_)\n",
        "    performance_ = report_performance(grid_clf.best_estimator_, X_train, X_test, y_train, y_test, clf_name=\"LR\")\n",
        "    return grid_clf.best_estimator_, grid_clf.best_params_, performance_\n",
        "best_estimator_, best_params_, lr_performance_ = train_lr(X_train, X_test, y_train, y_test, n_split=5)"
      ]
    },
    {
      "cell_type": "markdown",
      "metadata": {
        "id": "GB2W_IzX9-HG"
      },
      "source": [
        "## Decision Tree Classifier\n",
        "### Code adapted from ml4covid19.py\n",
        "#### Best Model Results\n",
        "DecisionTreeClassifier(max_depth=17, min_samples_split=5)\n",
        "{'criterion': 'gini', 'max_depth': 17, 'min_samples_split': 5}\n",
        "[x] performance for DecisionTree classifier\\\n",
        "Training:\\\n",
        "AUC:1.000\\\n",
        "accuracy:1.000\\\n",
        "recall:1.000\\\n",
        "precision:1.000\\\n",
        "specificity:1.000\n",
        " \n",
        "Test:\\\n",
        "AUC:0.954\\\n",
        "accuracy:0.959\\\n",
        "recall:0.972\\\n",
        "precision:0.963\\\n",
        "specificity:0.937"
      ]
    },
    {
      "cell_type": "code",
      "execution_count": 23,
      "metadata": {
        "colab": {
          "base_uri": "https://localhost:8080/"
        },
        "id": "9ceykjwu9-HH",
        "outputId": "c9ea9d00-e56e-4ab1-f0af-79b951585834"
      },
      "outputs": [
        {
          "output_type": "stream",
          "name": "stdout",
          "text": [
            "DecisionTreeClassifier(max_depth=20, min_samples_split=5)\n",
            "{'criterion': 'gini', 'max_depth': 20, 'min_samples_split': 5}\n",
            "[x] performance for DecisionTree classifier\n",
            "Training:\n",
            "AUC:1.000\n",
            "accuracy:1.000\n",
            "recall:1.000\n",
            "precision:1.000\n",
            "specificity:1.000\n",
            " \n",
            "Test:\n",
            "AUC:0.951\n",
            "accuracy:0.959\n",
            "recall:0.981\n",
            "precision:0.955\n",
            "specificity:0.921\n",
            " \n"
          ]
        }
      ],
      "source": [
        "def train_decision_tree(X_train, X_test, y_train, y_test, n_split=5):\n",
        "    from sklearn.tree import DecisionTreeClassifier\n",
        "    dtree = DecisionTreeClassifier(criterion='gini', max_depth=10, min_samples_split=5)\n",
        "    parameters = {\"criterion\": [\"gini\", \"entropy\"],\n",
        "                  \"max_depth\": [10, 12, 15,17,20],\n",
        "                  \"min_samples_split\": [5, 10, 15]}\n",
        "\n",
        "    auc_scoring = make_scorer(roc_auc_score)\n",
        "    if n_split == 1:\n",
        "        grid_clf = GridSearchCV(estimator=dtree, param_grid=parameters, cv=[(slice(None), slice(None))],\n",
        "                                scoring=auc_scoring, verbose=0)\n",
        "    else:\n",
        "        grid_clf = GridSearchCV(estimator=dtree, param_grid=parameters, cv=n_split, scoring=auc_scoring, verbose=0)\n",
        "    grid_clf.fit(X_train, y_train)\n",
        "\n",
        "    print(grid_clf.best_estimator_)\n",
        "    print(grid_clf.best_params_)\n",
        "    performance_ = report_performance(grid_clf.best_estimator_, X_train, X_test, y_train, y_test, clf_name=\"DecisionTree\")\n",
        "    return grid_clf.best_estimator_, grid_clf.best_params_, performance_\n",
        "best_estimator_, best_params_, dt_performance_ = train_decision_tree(X_train, X_test, y_train, y_test, n_split=5)"
      ]
    },
    {
      "cell_type": "markdown",
      "metadata": {
        "id": "QeJgY04p9-HH"
      },
      "source": [
        "### Gradient Boosting\n",
        "#### Adapted ml4covid19\n",
        "No success on data"
      ]
    },
    {
      "cell_type": "code",
      "execution_count": null,
      "metadata": {
        "id": "oWRRt-089-HI"
      },
      "outputs": [],
      "source": [
        "# def train_gradient_boosting(X_train, X_test, y_train, y_test, n_split=5):\n",
        "#     from sklearn.ensemble import GradientBoostingClassifier\n",
        "#     gbc = GradientBoostingClassifier(n_estimators=100, learning_rate=1.0, max_depth=3, random_state=42)\n",
        "\n",
        "#     n_estimators = range(5, 100, 5)\n",
        "#     max_depth = range(1, 10, 1)\n",
        "#     learning_rate = [0.001, 0.01, 0.1]\n",
        "#     random_grid_gbc = {'n_estimators': n_estimators, 'max_depth': max_depth, 'learning_rate': learning_rate}\n",
        "\n",
        "#     auc_scoring = make_scorer(roc_auc_score)\n",
        "#     grid_clf = GridSearchCV(estimator=gbc, param_grid=random_grid_gbc, cv=n_split, scoring=auc_scoring, verbose=0)\n",
        "#     grid_clf.fit(X_train, y_train)\n",
        "\n",
        "#     print(grid_clf.best_estimator_)\n",
        "#     print(grid_clf.best_params_)\n",
        "#     gb_performance_ = report_performance(grid_clf.best_estimator_, X_train, X_test, y_train, y_test, clf_name=\"Gradient Boosting\")\n",
        "#     return grid_clf.best_estimator_, grid_clf.best_params_, gb_performance_\n",
        "# best_estimator_, best_params_, gb_performance_ = train_gradient_boosting(X_train, X_test, y_train, y_test, n_split=5)"
      ]
    },
    {
      "cell_type": "markdown",
      "metadata": {
        "id": "pNKJNDwP9-HJ"
      },
      "source": [
        "## Gaussian NB classifier\n",
        "### Adapted from ml4covid19.py\n",
        "#### Best model results\n",
        "\n",
        "GaussianNB()\\\n",
        "{'priors': None}\\\n",
        "[x] performance for GaussianNB classifier\\\n",
        "Training:\\\n",
        "AUC:0.987\\\n",
        "accuracy:0.942\\\n",
        "recall:0.976\\\n",
        "precision:0.935\\\n",
        "specificity:0.886\n",
        " \n",
        "Test:\\\n",
        "AUC:0.994\\\n",
        "accuracy:0.953\\\n",
        "recall:0.981\\\n",
        "precision:0.946\\\n",
        "specificity:0.905"
      ]
    },
    {
      "cell_type": "code",
      "execution_count": 22,
      "metadata": {
        "colab": {
          "base_uri": "https://localhost:8080/"
        },
        "id": "U2O4R7lL9-HK",
        "outputId": "9ffd62d7-c6e9-403b-df70-e0d471b20ca4"
      },
      "outputs": [
        {
          "output_type": "stream",
          "name": "stdout",
          "text": [
            "GaussianNB()\n",
            "{'priors': None}\n",
            "[x] performance for GaussianNB classifier\n",
            "Training:\n",
            "AUC:0.986\n",
            "accuracy:0.930\n",
            "recall:0.956\n",
            "precision:0.933\n",
            "specificity:0.886\n",
            " \n",
            "Test:\n",
            "AUC:0.992\n",
            "accuracy:0.936\n",
            "recall:0.954\n",
            "precision:0.945\n",
            "specificity:0.905\n",
            " \n"
          ]
        }
      ],
      "source": [
        "def train_bayesian(X_train, X_test, y_train, y_test, n_split=5):\n",
        "    from sklearn.naive_bayes import GaussianNB\n",
        "    bayes = GaussianNB()\n",
        "    parameters = {\"priors\": [None, [np.count_nonzero(y_train==0)/y_train.shape[0],y_train.sum()/y_train.shape[0]]]}\n",
        "    auc_scoring = make_scorer(roc_auc_score)\n",
        "    if n_split == 1:\n",
        "        grid_clf = GridSearchCV(estimator=bayes, param_grid=parameters, cv=[(slice(None), slice(None))],\n",
        "                                scoring=auc_scoring, verbose=0)\n",
        "    else:\n",
        "        grid_clf = GridSearchCV(estimator=bayes, param_grid=parameters, cv=n_split, scoring=auc_scoring, verbose=0)\n",
        "    grid_clf.fit(X_train, y_train)\n",
        "\n",
        "    print(grid_clf.best_estimator_)\n",
        "    print(grid_clf.best_params_)\n",
        "    nb_performance_ = report_performance(grid_clf.best_estimator_, X_train, X_test, y_train, y_test, clf_name=\"GaussianNB\")\n",
        "    return grid_clf.best_estimator_, grid_clf.best_params_, nb_performance_\n",
        "\n",
        "best_estimator_, best_params_, nb_performance_ = train_bayesian(X_train, X_test, y_train, y_test, n_split=5)\n"
      ]
    },
    {
      "cell_type": "markdown",
      "metadata": {
        "id": "UNm_ARtR9-HK"
      },
      "source": [
        "## Random Forest Classifier\n",
        "### Code adapted from ml4covid19.py\n",
        "#### Best Model Results\n",
        "\n",
        "RandomForestClassifier(max_depth=4, max_features='auto', min_samples_split=4,\n",
        "                       n_estimators=10, random_state=42)\n",
        "{'criterion': 'gini', 'max_depth': 4, 'max_features': 'auto', 'min_samples_split': 4, 'n_estimators': 10}\n",
        "[x] performance for RF classifier\\\n",
        "Training:\\\n",
        "AUC:0.998\\\n",
        "accuracy:0.982\\\n",
        "recall:0.996\\\n",
        "precision:0.976\\\n",
        "specificity:0.960\\\n",
        " \n",
        "Test:\\\n",
        "AUC:0.993\\\n",
        "accuracy:0.959\\\n",
        "recall:1.000\\\n",
        "precision:0.939\\\n",
        "specificity:0.889\\"
      ]
    },
    {
      "cell_type": "code",
      "execution_count": 21,
      "metadata": {
        "colab": {
          "base_uri": "https://localhost:8080/"
        },
        "id": "0rVBDCK19-HL",
        "outputId": "9fd9e527-4743-4c61-e1e9-b88fa0f5870b"
      },
      "outputs": [
        {
          "output_type": "stream",
          "name": "stdout",
          "text": [
            "RandomForestClassifier(max_depth=4, max_features='sqrt', min_samples_split=4,\n",
            "                       n_estimators=10, random_state=42)\n",
            "{'criterion': 'gini', 'max_depth': 4, 'max_features': 'sqrt', 'min_samples_split': 4, 'n_estimators': 10}\n",
            "[x] performance for RF classifier\n",
            "Training:\n",
            "AUC:0.998\n",
            "accuracy:0.982\n",
            "recall:0.996\n",
            "precision:0.976\n",
            "specificity:0.960\n",
            " \n",
            "Test:\n",
            "AUC:0.993\n",
            "accuracy:0.959\n",
            "recall:1.000\n",
            "precision:0.939\n",
            "specificity:0.889\n",
            " \n"
          ]
        }
      ],
      "source": [
        "def train_rf(X_train, X_test, y_train, y_test, n_split=5):\n",
        "    from sklearn.ensemble import RandomForestClassifier\n",
        "    rf = RandomForestClassifier(max_depth=6, random_state=42)\n",
        "    rf.fit(X_train, y_train)\n",
        "\n",
        "    n_estimators = (1,3,5,10,15)\n",
        "    max_features = ['sqrt']\n",
        "    max_depth = range(1, 5, 1)\n",
        "    min_samples_split = range(2, 6, 2)\n",
        "    criterion = ['gini', 'entropy']\n",
        "    parameters = {'n_estimators': n_estimators, 'max_features': max_features,\n",
        "                  'max_depth': max_depth, 'min_samples_split': min_samples_split, 'criterion': criterion}\n",
        "    auc_scoring = make_scorer(roc_auc_score)\n",
        "    if n_split == 1:\n",
        "        grid_clf = GridSearchCV(estimator=rf, param_grid=parameters, cv=[(slice(None), slice(None))],\n",
        "                                scoring=auc_scoring, verbose=0, n_jobs=-1)\n",
        "    else:\n",
        "        grid_clf = GridSearchCV(estimator=rf, param_grid=parameters, cv=n_split, scoring=auc_scoring, verbose=0,\n",
        "                                n_jobs=-1)\n",
        "    grid_clf.fit(X_train, y_train)\n",
        "\n",
        "    print(grid_clf.best_estimator_)\n",
        "    print(grid_clf.best_params_)\n",
        "    performance_ = report_performance(grid_clf.best_estimator_, X_train, X_test, y_train, y_test, clf_name=\"RF\")\n",
        "    return grid_clf.best_estimator_, grid_clf.best_params_, performance_\n",
        "\n",
        "best_estimator_, best_params_, rf_performance_ = train_rf(X_train, X_test, y_train, y_test, n_split=5)"
      ]
    },
    {
      "cell_type": "markdown",
      "metadata": {
        "id": "2-dB1I689-HL"
      },
      "source": [
        "## Multi-Layer Perceptron Classifier\n",
        "### Code Adapted from ml4covid19.py\n",
        "#### Best Model Results\n",
        "\n",
        "MLPClassifier(alpha=1, hidden_layer_sizes=(40, 20))\n",
        "{'activation': 'relu', 'alpha': 1, 'hidden_layer_sizes': (40, 20)}\\\n",
        "[x] performance for MLP classifier\\\n",
        "Training:\\\n",
        "AUC:0.968\\\n",
        "accuracy:0.930\\\n",
        "recall:0.980\\\n",
        "precision:0.914\\\n",
        "specificity:0.846\n",
        " \n",
        "Test:\\\n",
        "AUC:0.983\\\n",
        "accuracy:0.947\\\n",
        "recall:0.963\\\n",
        "precision:0.954\\\n",
        "specificity:0.921"
      ]
    },
    {
      "cell_type": "code",
      "execution_count": 16,
      "metadata": {
        "colab": {
          "base_uri": "https://localhost:8080/"
        },
        "id": "SzwkJua09-HM",
        "outputId": "52f0d046-abce-42b9-d005-29c927adb90e"
      },
      "outputs": [
        {
          "output_type": "stream",
          "name": "stdout",
          "text": [
            "MLPClassifier(alpha=0.01, hidden_layer_sizes=(20, 10), max_iter=500)\n",
            "{'activation': 'relu', 'alpha': 0.01, 'hidden_layer_sizes': (20, 10)}\n",
            "[x] performance for MLP classifier\n",
            "Training:\n",
            "AUC:1.000\n",
            "accuracy:0.997\n",
            "recall:1.000\n",
            "precision:0.996\n",
            "specificity:0.993\n",
            " \n",
            "Test:\n",
            "AUC:0.997\n",
            "accuracy:0.982\n",
            "recall:1.000\n",
            "precision:0.973\n",
            "specificity:0.952\n",
            " \n"
          ]
        }
      ],
      "source": [
        "def train_mlp(X_train, X_test, y_train, y_test, n_split=5):\n",
        "    from sklearn.neural_network import MLPClassifier\n",
        "    warnings.filterwarnings(\"ignore\")\n",
        "    mlp = MLPClassifier(max_iter=500)\n",
        "\n",
        "    activation = ['identity', 'logistic', 'tanh', 'relu']\n",
        "    hidden_layer_sizes = [(10, 5), (20, 10), (40, 20), (40,), (20,), (10,)]\n",
        "    alpha = [0.01, 0.1, 1, 10]\n",
        "    parameters = {'activation': activation, \n",
        "                  'hidden_layer_sizes': hidden_layer_sizes, 'alpha': alpha}\n",
        "    auc_scoring = make_scorer(roc_auc_score)\n",
        "    grid_clf = GridSearchCV(estimator=mlp, param_grid=parameters, cv=n_split, \n",
        "                            scoring=auc_scoring, verbose=0, n_jobs=-1)\n",
        "    grid_clf.fit(X_train, y_train)\n",
        "\n",
        "    print(grid_clf.best_estimator_)\n",
        "    print(grid_clf.best_params_)\n",
        "    performance_ = report_performance(grid_clf.best_estimator_, X_train, X_test, \n",
        "                                      y_train, y_test, clf_name=\"MLP\")\n",
        "    return grid_clf.best_estimator_, grid_clf.best_params_, performance_\n",
        "best_estimator_, best_params_, mlp_performance_ = train_mlp(X_train, X_test, y_train, y_test, n_split=5)"
      ]
    },
    {
      "cell_type": "markdown",
      "source": [
        "## Plotting the Performance summary of the models"
      ],
      "metadata": {
        "id": "Z1UB946WA94n"
      }
    },
    {
      "cell_type": "code",
      "execution_count": 30,
      "metadata": {
        "colab": {
          "base_uri": "https://localhost:8080/",
          "height": 540
        },
        "id": "WKSs_-NY9-HM",
        "outputId": "4e2d9580-a7ff-4be2-f6aa-bae7c7304366"
      },
      "outputs": [
        {
          "output_type": "display_data",
          "data": {
            "text/plain": [
              "<Figure size 936x576 with 6 Axes>"
            ],
            "image/png": "[encoded data removed]"
          },
          "metadata": {
            "needs_background": "light"
          }
        }
      ],
      "source": [
        "# print(svm_performance_['train'])\n",
        "performances = [svm_performance_,lr_performance_, nb_performance_, \n",
        "                dt_performance_, rf_performance_, mlp_performance_]\n",
        "models = [\"SVM\", \"Logistic Regression\",\"GaussianNB\", \"Decision Tree\", \n",
        "          \"Random Forest\", \"Multi-layer perceptron\"]\n",
        "fig, ax = plt.subplots(2,3, figsize = (13,8), tight_layout=False)\n",
        "i=0\n",
        "for r in range(2):\n",
        "    for c in range(3):\n",
        "        ax[r][c].bar(height = performances[i]['train'].values(), \n",
        "                     x = list(performances[i]['train'].keys()),\n",
        "                     width = -0.25,\n",
        "                     align = 'edge',\n",
        "                     label = \"training\"\n",
        "                \n",
        "                     )\n",
        "        ax[r][c].bar(height = performances[i]['test'].values(), \n",
        "                     x = list(performances[i]['test'].keys()),\n",
        "                     width = 0.25,\n",
        "                     align = 'edge',\n",
        "                     label = \"test\"\n",
        "                     )\n",
        "        ax[r][c].set_ylim(0.9,1)\n",
        "        ax[r][c].set_title(f\"{models[i]}\")\n",
        "        i+=1\n",
        "plt.suptitle('Statistical Classifiers Performance')\n",
        "plt.legend()\n",
        "plt.show()"
      ]
    },
    {
      "cell_type": "markdown",
      "metadata": {
        "id": "qqvVy0kE9-HN"
      },
      "source": [
        "### Performance Summary\n",
        "The Figure above shows that SVM, followed by logistic regression, then MLP performed the best overall when considering the 5 different metrics on classifying the breast cancer data set. Specificity was generally lower meaning that we see a higher rate of false positives. Recall, however is very high meaning we have very few False negatives which may be important in healthcare. Models were optimized on AUC. Many models were able to perform well so a data scientist may also consider other factors such as speed and algorithmic efficiency of the model for use in the real world."
      ]
    },
    {
      "cell_type": "code",
      "execution_count": null,
      "metadata": {
        "id": "nw_v2u5c9-HN"
      },
      "outputs": [],
      "source": [
        "# import scipy\n",
        "# a = [1,2,3]\n",
        "# scipy.stats.zscore(a, axis=0, ddof=0, nan_policy='propagate')\n",
        "# a = pd.DataFrame(a)\n",
        "# # np.std(a)\n",
        "# a.std(ddof=0)"
      ]
    }
  ],
  "metadata": {
    "kernelspec": {
      "display_name": "SAT4650",
      "language": "python",
      "name": "python3"
    },
    "language_info": {
      "codemirror_mode": {
        "name": "ipython",
        "version": 3
      },
      "file_extension": ".py",
      "mimetype": "text/x-python",
      "name": "python",
      "nbconvert_exporter": "python",
      "pygments_lexer": "ipython3",
      "version": "3.9.13"
    },
    "orig_nbformat": 4,
    "vscode": {
      "interpreter": {
        "hash": "f12442272bb30baef420f10c6d7d480325a9da48aed8debcd357004413c5a5c1"
      }
    },
    "colab": {
      "provenance": [],
      "collapsed_sections": [
        "qqvVy0kE9-HN"
      ],
      "include_colab_link": true
    }
  },
  "nbformat": 4,
  "nbformat_minor": 0
}